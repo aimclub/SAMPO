{
 "cells": [
  {
   "cell_type": "code",
   "execution_count": 1,
   "metadata": {
    "ExecuteTime": {
     "end_time": "2023-10-31T08:06:06.215669600Z",
     "start_time": "2023-10-31T08:06:05.535679400Z"
    },
    "collapsed": true,
    "jupyter": {
     "outputs_hidden": true
    }
   },
   "outputs": [],
   "source": [
    "from sampo.generator.base import SimpleSynthetic\n",
    "from sampo.generator.environment.contractor_by_wg import get_contractor_by_wg\n",
    "from sampo.generator.types import SyntheticGraphType\n",
    "from sampo.scheduler.heft.base import HEFTScheduler\n",
    "from sampo.pipeline import SchedulingPipeline"
   ]
  },
  {
   "cell_type": "markdown",
   "metadata": {
    "collapsed": false,
    "jupyter": {
     "outputs_hidden": false
    }
   },
   "source": [
    "# 1. Data preparation"
   ]
  },
  {
   "cell_type": "code",
   "execution_count": 2,
   "metadata": {
    "ExecuteTime": {
     "end_time": "2023-10-31T08:06:06.275585700Z",
     "start_time": "2023-10-31T08:06:06.215669600Z"
    },
    "collapsed": false,
    "jupyter": {
     "outputs_hidden": false
    }
   },
   "outputs": [],
   "source": [
    "# SimpleSynthetic object used for the simple work graph structure generation\n",
    "\n",
    "r_seed = 231\n",
    "ss = SimpleSynthetic(r_seed)\n",
    "\n",
    "# simple graph\n",
    "# should generate general (average) type of graph with 10 clusters from 100 to 200 vertices each\n",
    "\n",
    "simple_wg = ss.work_graph(mode=SyntheticGraphType.GENERAL,\n",
    "                          cluster_counts=10,\n",
    "                          bottom_border=100,\n",
    "                          top_border=200)\n",
    "\n",
    "contractors = [get_contractor_by_wg(simple_wg)]\n",
    "\n",
    "scheduler = HEFTScheduler()"
   ]
  },
  {
   "cell_type": "markdown",
   "metadata": {
    "collapsed": false,
    "jupyter": {
     "outputs_hidden": false
    }
   },
   "source": [
    "# 2. Local optimization\n",
    "There are two types of local optimization in SAMPO: order and schedule."
   ]
  },
  {
   "cell_type": "markdown",
   "metadata": {
    "collapsed": false,
    "jupyter": {
     "outputs_hidden": false
    }
   },
   "source": [
    "### Scheduling order optimization\n",
    "This local optimization should rearrange scheduling order to improve scheduling results."
   ]
  },
  {
   "cell_type": "code",
   "execution_count": 3,
   "metadata": {
    "ExecuteTime": {
     "end_time": "2023-10-31T08:06:06.450877800Z",
     "start_time": "2023-10-31T08:06:06.365998300Z"
    },
    "collapsed": false,
    "jupyter": {
     "outputs_hidden": false
    }
   },
   "outputs": [
    {
     "name": "stdout",
     "output_type": "stream",
     "text": [
      "Swapped 0 times!\n"
     ]
    },
    {
     "data": {
      "text/plain": [
       "1194"
      ]
     },
     "execution_count": 3,
     "metadata": {},
     "output_type": "execute_result"
    }
   ],
   "source": [
    "from sampo.scheduler.utils.local_optimization import SwapOrderLocalOptimizer\n",
    "\n",
    "local_optimizer = SwapOrderLocalOptimizer()\n",
    "\n",
    "project = SchedulingPipeline.create() \\\n",
    "    .wg(simple_wg) \\\n",
    "    .contractors(contractors) \\\n",
    "    .optimize_local(local_optimizer, range(0, 10)) \\\n",
    "    .schedule(scheduler) \\\n",
    "    .finish()[0]\n",
    "\n",
    "project.schedule.execution_time"
   ]
  },
  {
   "cell_type": "markdown",
   "metadata": {
    "collapsed": false,
    "jupyter": {
     "outputs_hidden": false
    }
   },
   "source": [
    "### Schedule optimization\n",
    "This local optimization should recalculate parts of schedule to make it better."
   ]
  },
  {
   "cell_type": "code",
   "execution_count": 4,
   "metadata": {
    "ExecuteTime": {
     "end_time": "2023-10-31T08:06:06.635515100Z",
     "start_time": "2023-10-31T08:06:06.465560600Z"
    },
    "collapsed": false,
    "jupyter": {
     "outputs_hidden": false
    }
   },
   "outputs": [
    {
     "data": {
      "text/plain": [
       "1194"
      ]
     },
     "execution_count": 4,
     "metadata": {},
     "output_type": "execute_result"
    }
   ],
   "source": [
    "from sampo.scheduler.timeline.just_in_time_timeline import JustInTimeTimeline\n",
    "from sampo.scheduler.utils.local_optimization import ParallelizeScheduleLocalOptimizer\n",
    "\n",
    "local_optimizer = ParallelizeScheduleLocalOptimizer(JustInTimeTimeline)\n",
    "\n",
    "project = SchedulingPipeline.create() \\\n",
    "    .wg(simple_wg) \\\n",
    "    .contractors(contractors) \\\n",
    "    .schedule(scheduler) \\\n",
    "    .optimize_local(local_optimizer, range(0, 5)) \\\n",
    "    .finish()[0]\n",
    "\n",
    "project.schedule.execution_time"
   ]
  },
  {
   "cell_type": "markdown",
   "metadata": {
    "collapsed": false,
    "jupyter": {
     "outputs_hidden": false
    }
   },
   "source": [
    "### Both\n",
    "Using pipeline you can apply both type of optimizations.\n",
    "You also can stack local optimizers, they should be applied sequentially."
   ]
  },
  {
   "cell_type": "code",
   "execution_count": 5,
   "metadata": {
    "ExecuteTime": {
     "end_time": "2023-10-31T08:06:06.860829700Z",
     "start_time": "2023-10-31T08:06:06.690476Z"
    },
    "collapsed": false,
    "jupyter": {
     "outputs_hidden": false
    }
   },
   "outputs": [
    {
     "name": "stdout",
     "output_type": "stream",
     "text": [
      "Swapped 26 times!\n",
      "Swapped 32 times!\n",
      "Found! temporary road engineering preparation\n",
      "Found! final road elem of pipe_network\n",
      "Found! final road elem of pipe_network\n",
      "Found! final road elem of pipe_network\n",
      "Found! final road elem of pipe_network\n",
      "Found! pipe drainage tank\n",
      "Found! pipe KTP and NEP\n",
      "Found! final road high power line\n",
      "Found! pipe block local automation\n",
      "Found! pipe metering installation\n",
      "Found! pipe block dosage inhibitor\n",
      "Found! pipe KTP and NEP\n",
      "Found! pipe metering installation\n",
      "Found! pipe start filters system\n",
      "Found! pipe block water distribution\n",
      "Found! pipe drainage tank\n",
      "Found! pipe firewall tank\n",
      "Found! final road elem of pipe_network\n",
      "Found! final road elem of pipe_network\n",
      "Found! final road elem of pipe_network\n",
      "Found! final road mast\n",
      "Found! final road mast\n",
      "Found! final road power network\n",
      "Found! final road pipe\n",
      "Found! final road pipe\n",
      "Found! final road power line\n",
      "Found! final road power line\n",
      "Found! final road pipe\n",
      "Found! final road looping\n",
      "Found! final road borehole\n",
      "Found! final road borehole\n",
      "Found! final road borehole\n",
      "Found! final road borehole\n",
      "Found! final road borehole\n",
      "Found! final road borehole\n",
      "Found! final road borehole\n",
      "Found! final road borehole\n",
      "Found! final road borehole\n",
      "Found! final road borehole\n",
      "Found! final road borehole\n",
      "Found! final road borehole\n",
      "Found! final road borehole\n",
      "Found! final road borehole\n",
      "Found! final road borehole\n",
      "Found! final road borehole\n",
      "Found! final road borehole\n",
      "Found! final road borehole\n",
      "Found! final road node\n",
      "Found! final road node\n",
      "Found! final road node\n",
      "Found! engineering preparation temporary road\n",
      "Found! final road engineering preparation\n",
      "Found! node final road\n",
      "Found! node elem of pipe_network\n",
      "Found! node elem of pipe_network\n",
      "Found! node elem of pipe_network\n",
      "Found! node elem of pipe_network\n",
      "Found! node elem of pipe_network\n",
      "Found! pipe pipe\n",
      "Found! power network KTP and NEP\n",
      "Found! power network block local automation\n",
      "Found! power network drainage tank\n",
      "Found! power network metering installation\n",
      "Found! power network KTP and NEP\n",
      "Found! power network metering installation\n",
      "Found! power network block dosage inhibitor\n",
      "Found! power network start filters system\n",
      "Found! power network block water distribution\n",
      "Found! power network drainage tank\n",
      "Found! power network firewall tank\n",
      "Found! node elem of pipe_network\n",
      "Found! node elem of pipe_network\n",
      "Found! node elem of pipe_network\n",
      "Found! node elem of pipe_network\n",
      "Found! node mast\n",
      "Found! node mast\n",
      "Found! node mast\n",
      "Found! node mast\n",
      "Found! node pipe\n",
      "Found! node pipe\n",
      "Found! node pipe\n",
      "Found! node pipe\n",
      "Found! node looping\n",
      "Found! node power line\n",
      "Found! node power line\n",
      "Found! node power network\n",
      "Found! node borehole\n",
      "Found! node borehole\n",
      "Found! node borehole\n",
      "Found! node borehole\n",
      "Found! node borehole\n",
      "Found! node borehole\n",
      "Found! node borehole\n",
      "Found! node borehole\n",
      "Found! node borehole\n",
      "Found! node borehole\n",
      "Found! node borehole\n",
      "Found! node borehole\n",
      "Found! node borehole\n",
      "Found! node borehole\n",
      "Found! node borehole\n",
      "Found! node borehole\n",
      "Found! node borehole\n",
      "Found! node borehole\n",
      "Found! node borehole\n",
      "Found! node borehole\n",
      "Found! node borehole\n",
      "Found! node borehole\n",
      "Found! node borehole\n",
      "Found! node borehole\n",
      "Found! node borehole\n",
      "Found! node high power line\n",
      "Found! node node\n",
      "Found! node node\n",
      "Found! node node\n"
     ]
    },
    {
     "data": {
      "text/plain": [
       "1240"
      ]
     },
     "execution_count": 5,
     "metadata": {},
     "output_type": "execute_result"
    }
   ],
   "source": [
    "from sampo.pipeline import SchedulingPipeline\n",
    "\n",
    "order_optimizer = SwapOrderLocalOptimizer()\n",
    "schedule_optimizer = ParallelizeScheduleLocalOptimizer(JustInTimeTimeline)\n",
    "\n",
    "project = SchedulingPipeline.create() \\\n",
    "    .wg(simple_wg) \\\n",
    "    .contractors(contractors) \\\n",
    "    .optimize_local(order_optimizer, range(0, simple_wg.vertex_count // 2)) \\\n",
    "    .optimize_local(order_optimizer, range(simple_wg.vertex_count // 2, simple_wg.vertex_count)) \\\n",
    "    .schedule(scheduler) \\\n",
    "    .optimize_local(schedule_optimizer, range(0, simple_wg.vertex_count // 2)) \\\n",
    "    .optimize_local(schedule_optimizer, range(simple_wg.vertex_count // 2, simple_wg.vertex_count)) \\\n",
    "    .finish()[0]\n",
    "\n",
    "project.schedule.execution_time"
   ]
  },
  {
   "cell_type": "code",
   "execution_count": 5,
   "metadata": {
    "ExecuteTime": {
     "end_time": "2023-10-31T08:06:06.870912400Z",
     "start_time": "2023-10-31T08:06:06.855820800Z"
    },
    "collapsed": false,
    "jupyter": {
     "outputs_hidden": false
    }
   },
   "outputs": [],
   "source": []
  }
 ],
 "metadata": {
  "kernelspec": {
   "display_name": "Python 3 (ipykernel)",
   "language": "python",
   "name": "python3"
  },
  "language_info": {
   "codemirror_mode": {
    "name": "ipython",
    "version": 3
   },
   "file_extension": ".py",
   "mimetype": "text/x-python",
   "name": "python",
   "nbconvert_exporter": "python",
   "pygments_lexer": "ipython3",
   "version": "3.12.2"
  }
 },
 "nbformat": 4,
 "nbformat_minor": 4
}
