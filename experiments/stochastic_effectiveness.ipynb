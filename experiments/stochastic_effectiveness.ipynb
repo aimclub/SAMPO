{
 "cells": [
  {
   "cell_type": "code",
   "execution_count": 1,
   "outputs": [
    {
     "name": "stdout",
     "output_type": "stream",
     "text": [
      "Can not find native module; switching to default\n"
     ]
    }
   ],
   "source": [
    "from sampo.schemas import WorkGraph, WorkUnit, uuid_str, WorkerReq, Time\n",
    "from sampo.generator import SimpleSynthetic, SyntheticGraphType\n",
    "from random import Random\n",
    "from sampo.schemas.stochastic_graph import ProbabilisticFollowingStochasticGraphScheme\n",
    "from sampo.generator.environment import get_contractor_by_wg\n",
    "from sampo.pipeline import SchedulingPipeline\n",
    "from sampo.scheduler import HEFTScheduler\n",
    "from sampo.schemas import WorkerProductivityMode, IntervalGaussian\n",
    "from sampo.schemas.time_estimator import DefaultWorkEstimator, WorkTimeEstimator\n",
    "from sampo.scheduler.utils.time_computaion import work_priority, calculate_working_time_cascade\n",
    "from sampo.scheduler.heft.prioritization import prioritization_nodes, stochastic_prioritization, ford_bellman\n",
    "from sampo.schemas import WorkGraph, GraphNode"
   ],
   "metadata": {
    "collapsed": false,
    "ExecuteTime": {
     "end_time": "2025-06-04T17:25:14.354713400Z",
     "start_time": "2025-06-04T17:25:13.994701700Z"
    }
   }
  },
  {
   "cell_type": "code",
   "execution_count": 2,
   "outputs": [
    {
     "data": {
      "text/plain": "102"
     },
     "execution_count": 2,
     "metadata": {},
     "output_type": "execute_result"
    }
   ],
   "source": [
    "rand = Random(123)\n",
    "ss = SimpleSynthetic(rand)\n",
    "\n",
    "def get_checks_wg(nodes_count: int) -> WorkGraph:\n",
    "    nodes = [GraphNode(work_unit=WorkUnit(id=uuid_str(rand),\n",
    "                                          name=f'Check #{i}',\n",
    "                                          worker_reqs=[WorkerReq(kind='engineer', volume=Time(0), min_count=1, max_count=3)]),\n",
    "                       parent_works=[]) for i in range(nodes_count)]\n",
    "    return WorkGraph.from_nodes(nodes)\n",
    "\n",
    "fixed_wg = get_checks_wg(100)\n",
    "fixed_wg.vertex_count"
   ],
   "metadata": {
    "collapsed": false,
    "ExecuteTime": {
     "end_time": "2025-06-04T17:25:14.384709700Z",
     "start_time": "2025-06-04T17:25:14.361711100Z"
    }
   }
  },
  {
   "cell_type": "code",
   "execution_count": 3,
   "outputs": [
    {
     "name": "stdout",
     "output_type": "stream",
     "text": [
      "294\n"
     ]
    }
   ],
   "source": [
    "# construct the stochastic graph scheme\n",
    "graph_scheme = ProbabilisticFollowingStochasticGraphScheme(rand=rand, wg=fixed_wg)\n",
    "defect_graphs = []\n",
    "for i, node in enumerate(fixed_wg.nodes):\n",
    "    defect = ss.graph_nodes(top_border=20)\n",
    "    defect_graphs.append(defect)\n",
    "    \n",
    "    defect_prob = rand.random() * 0.5\n",
    "    graph_scheme.add_part(node=node.id, nodes=defect, prob=defect_prob)\n",
    "\n",
    "scheme = graph_scheme.prepare_graph()\n",
    "perfect_wg = graph_scheme.prepare_graph().to_work_graph()\n",
    "print(perfect_wg.vertex_count)"
   ],
   "metadata": {
    "collapsed": false,
    "ExecuteTime": {
     "end_time": "2025-06-04T17:25:15.718661700Z",
     "start_time": "2025-06-04T17:25:15.425349Z"
    }
   },
   "id": "8325f136b29112b0"
  },
  {
   "cell_type": "code",
   "execution_count": 4,
   "outputs": [
    {
     "data": {
      "text/plain": "310"
     },
     "execution_count": 4,
     "metadata": {},
     "output_type": "execute_result"
    }
   ],
   "source": [
    "scheme.to_work_graph().vertex_count"
   ],
   "metadata": {
    "collapsed": false,
    "ExecuteTime": {
     "end_time": "2025-06-04T17:25:15.824520Z",
     "start_time": "2025-06-04T17:25:15.718661700Z"
    }
   },
   "id": "dd00f9f1e4723688"
  },
  {
   "cell_type": "code",
   "execution_count": 5,
   "outputs": [],
   "source": [
    "def construct_work_estimator(i: int, productivity: WorkerProductivityMode) -> WorkTimeEstimator:\n",
    "    work_estimator = DefaultWorkEstimator()\n",
    "    work_estimator.set_productivity_mode(productivity)\n",
    "    for worker in ['driver', 'fitter', 'manager', 'handyman', 'electrician', 'engineer']:\n",
    "        work_estimator.set_worker_productivity(IntervalGaussian(0.2 * i + 0.2, 1, 0, 2), worker)\n",
    "    return work_estimator\n",
    "\n",
    "work_estimator = construct_work_estimator(5, WorkerProductivityMode.Static)"
   ],
   "metadata": {
    "collapsed": false,
    "ExecuteTime": {
     "end_time": "2025-06-04T17:25:16.226056800Z",
     "start_time": "2025-06-04T17:25:16.208354900Z"
    }
   },
   "id": "147e6eeaa2f3216d"
  },
  {
   "cell_type": "code",
   "execution_count": 6,
   "outputs": [
    {
     "data": {
      "text/plain": "[7813931f-10a7-42a7-9a2b-40e5a47540d1,\n 0186a2cf-a281-1f70-9c18-a25020487f69,\n 01b0366f-11e3-74ee-60aa-0d3098fc4743,\n 0299536a-0b4c-1837-7617-7fa8c06c250e,\n 042cc7c2-560b-0cb9-c75b-693192bb2bfd,\n 04649df7-e40c-0a13-e41c-e352fec9b017,\n 0546d9e6-ab1f-5a09-7469-e0f122d1ee44,\n 0560d4e0-3174-0bd3-74d2-b828227d8219,\n 0874bac6-78f6-76de-f4ad-162a4335d28a,\n 0b03aa4d-65ee-7b24-43b9-74fc527257ae,\n 15700b61-5128-c2aa-99a0-46d315c91d91,\n 1a1f141b-72c5-3633-bb66-ecb350c1eb44,\n 1e9be463-8460-e4f5-5675-19d1f994fbe7,\n 222aef26-89a5-8715-8df5-fc8e57553ab4,\n 2293202c-28df-a298-0d49-6d4bda22594f,\n 275cecdc-2d76-8558-fb0d-7d657bdb11b4,\n 2898878d-073b-eb3c-c63a-1434ca862126,\n 3772b9f8-5bd1-d560-50c5-0acb6bb7097e,\n 3b1e1977-908b-3b0a-44ac-04d231b4af8d,\n 49a6dbed-a388-73b0-0f4a-38e6e8be44f2,\n 4e1ad87e-c4cf-bb8a-0968-02f6d67c8720,\n 4e60bf9b-899b-fbfc-6320-1a1584c944fc,\n 528c9ae7-fc3f-c73c-0775-8380677a20a7,\n 55bc0a69-2b8d-6f81-430b-0b04a8778c53,\n 573e8d77-550a-e889-8ff4-1e8d8944897c,\n 57e8b4a2-7e95-e03c-f868-f18a9bf1c3be,\n 57f442d5-232a-c74d-8e7b-ea5183c4a23e,\n 6015f5af-6a2b-9275-d774-c3ee0ffc361a,\n 60a12433-892a-4173-cbb5-428702311144,\n 60eb48f7-71ca-bf31-8950-3372fdf0f1df,\n 610e4ad5-09c4-7055-dff4-948fe6b4f832,\n 633d6624-74ee-afd8-b91d-f46412c32f37,\n 65faaaa6-bb06-0061-7e06-84467be4bd5e,\n 67dd30d7-3aa8-3f8c-ff5f-9af75a1703c5,\n 6a009862-55b7-745e-8fc4-3ec8c035686b,\n 6b641b3b-ab20-dd48-8546-a1a97c73708c,\n 6dd384c5-4dc6-373f-737e-7beaab38ba7e,\n 6e3e43c2-e941-2995-4ab3-8105056fb885,\n 6f33f708-8343-b946-a56a-62c3c4ef7978,\n 75f47707-dc94-e704-5c53-46fa0d6c6796,\n 7823908d-43ec-1f85-7a17-a6a492cadf50,\n 7ba35975-cd2e-e163-858c-2e6e57ed22d0,\n 7ca5d0ed-e9e4-b2dd-1525-e9d3d1f7fbe4,\n 844fcbcf-df13-b884-5329-c88e8586f91e,\n 88f08d93-2060-55c1-5e55-3dff63a67ed1,\n 8b4ebb7f-3bbe-584b-b865-4db2a147123a,\n 91f7aa69-e4b8-0fdf-3993-539e5e76d1e0,\n 96dc0a90-cd62-0098-2ab3-8460a12e9ee3,\n 99e8110c-ca5f-e9fb-cb35-be2fe5f4e87f,\n 9e1a06ce-1bce-9331-0017-49866b9c898b,\n a25f6a71-6f2c-39db-f465-6441459d31c5,\n a2957691-b1b7-7a92-8bec-db6f12cfd8c3,\n a2d6654c-a39d-e37d-0617-3fd3592e94c5,\n a3858cde-9be1-092e-d23e-e3c934f4f040,\n aac9912d-17bf-6b18-0b3c-354de7c834d3,\n ab33e90c-5f42-937f-24dc-25a5add65955,\n af59f4a0-5a1f-c977-cc83-fb4741a0f665,\n b0f70c3a-1f50-1f5e-95a9-e846b21ec7cb,\n b3a1f131-5573-ae2d-8f9b-34c95653d4bd,\n b50164ea-5ae5-4e83-82a4-5999100720f6,\n b605d0df-fafe-0f4e-b85a-db29bd7b6bd9,\n b6b93026-41c1-0918-0739-ba1cc6e67c9f,\n b9cfda65-2e74-7c1f-a53c-4cc6c1117e2f,\n b9f082f1-8ba3-1e52-1ad2-b33480080777,\n bd0abba0-defe-ea7f-7321-1a9a597b6ecf,\n bdc9cbf1-0fe2-e2e7-6ea3-7f1262e10745,\n c210698f-0ea1-fc60-a0a5-4ad3e1002d12,\n c213d54d-3312-6396-8150-44113274cf25,\n c3a1cbbd-f6cc-94e5-7ea9-de52fde62703,\n c4da537c-1651-ddae-4486-7db30d67b366,\n c5bf60c6-a7eb-2407-e9e9-b16c25696171,\n cbe54c28-a36b-1e87-89dc-68ceaf517df1,\n ce5bcdc1-fa2b-c630-61e3-4b6e2e40c929,\n cfbbdf04-57d1-0761-72f4-bbffc5317618,\n d2f79e2f-b942-004e-8042-09378830fcc6,\n d3234519-1410-7b06-be7e-41743c269046,\n d4e3fda5-1691-79e2-9611-516c30665bc3,\n d560f64b-e3dd-7ffa-98b4-85deaaaa1310,\n d5eec912-c6b0-a674-4a8b-bf55ea736384,\n d6a82a95-1b92-3e0a-443c-def36840ff07,\n d8eb6412-0826-c069-8293-b3205fe0a658,\n db15c5be-ab40-212e-f52a-bbd75ca19ddd,\n ddfda704-93f4-263a-d406-9975d530e058,\n dea61187-b7bc-5c51-1072-75716b461015,\n e0edeaf1-166d-d683-c609-dcba6fafc520,\n e2485bb6-6425-3e83-8de0-4a9e5640230e,\n e2f150a9-3409-a30d-3e44-ede9819cf976,\n e497cd2f-65f2-ef76-0336-5a0850b51605,\n e56a0eb1-0348-c4bc-5d0f-5781a0d96ade,\n e5c13682-6ee6-372c-1539-4bbe16badeac,\n e6e273cf-c93c-8acc-22ac-968488c03e99,\n e7e96d54-006d-7b34-29ed-479c3ec3068c,\n e81775f3-ca42-25f7-2051-e671246595df,\n ea1c8f19-6554-0577-572c-6eda7c725b86,\n ecca1ca1-8052-6a3a-d720-89403961e1bf,\n ee086a50-4591-7fb4-17c5-7804570f89e9,\n ef7a0fc6-cf1b-e5a9-e3f8-73a5edeb79ab,\n f4c4b58b-1492-977a-8023-df38f031f87d,\n f5e77d4d-cf30-cf2d-9097-a70286ee6241,\n f692ff1b-e245-f7f3-29f2-a2fbf83d58c3,\n ff3f83bf-d20a-daba-3145-b817c0f365e3,\n 1f276327-d531-4489-9823-6ceccce13bdb]"
     },
     "execution_count": 6,
     "metadata": {},
     "output_type": "execute_result"
    }
   ],
   "source": [
    "from sampo.scheduler.heft.prioritization import prioritization\n",
    "\n",
    "static_prioritization = prioritization(fixed_wg, work_estimator)\n",
    "static_prioritization"
   ],
   "metadata": {
    "collapsed": false,
    "ExecuteTime": {
     "end_time": "2025-06-04T17:25:16.459951700Z",
     "start_time": "2025-06-04T17:25:16.448728100Z"
    }
   },
   "id": "722e727d004ebc3c"
  },
  {
   "cell_type": "code",
   "execution_count": 7,
   "outputs": [
    {
     "data": {
      "text/plain": "318"
     },
     "execution_count": 7,
     "metadata": {},
     "output_type": "execute_result"
    }
   ],
   "source": [
    "stochastic_wg = graph_scheme.prepare_graph().to_work_graph()\n",
    "stochastic_wg.vertex_count"
   ],
   "metadata": {
    "collapsed": false,
    "ExecuteTime": {
     "end_time": "2025-06-04T17:25:16.998767500Z",
     "start_time": "2025-06-04T17:25:16.887319100Z"
    }
   },
   "id": "94419317a7ba088b"
  },
  {
   "cell_type": "code",
   "execution_count": 8,
   "outputs": [],
   "source": [
    "def stochastic_prioritization_function(wg: WorkGraph, work_estimator: WorkTimeEstimator) -> list[GraphNode]:\n",
    "    # wg is stochastic-generated graph\n",
    "    # here we can use only information from static graph\n",
    "    # let's use static prioritization\n",
    "\n",
    "    order = []\n",
    "    for original_static_node in static_prioritization:\n",
    "        static_node = stochastic_wg[original_static_node.id]\n",
    "        order.append(static_node)\n",
    "        # haha, get all defects...\n",
    "        children = static_node.get_following_nodes()\n",
    "        children_prioritization = prioritization_nodes(children, work_estimator)\n",
    "        order.extend(children_prioritization)\n",
    "    return order\n",
    "\n",
    "\n",
    "def stochastic_prioritization_function_enhanced(wg: WorkGraph, work_estimator: WorkTimeEstimator) -> list[GraphNode]:\n",
    "    # wg is stochastic-generated graph\n",
    "    # here we can use information from static graph's followers statistics\n",
    "    # let's use static prioritization\n",
    "\n",
    "    weights = {node: -(work_priority(node, calculate_working_time_cascade, work_estimator) + scheme.average_labor_cost(node)) # stochastic_wg[node.id].get_following_nodes())\n",
    "               for node in static_prioritization}\n",
    "\n",
    "    path_weights = ford_bellman(static_prioritization, weights)\n",
    "\n",
    "    ordered_nodes = [i[0] for i in sorted(path_weights.items(), key=lambda x: (x[1], x[0].id))\n",
    "                     if not i[0].is_inseparable_son()]\n",
    "    final_order = []\n",
    "    for original_static_node in ordered_nodes:\n",
    "        static_node = stochastic_wg[original_static_node.id]\n",
    "        final_order.append(static_node)\n",
    "        children_prioritization = prioritization_nodes(static_node.get_following_nodes(), work_estimator)\n",
    "        final_order.extend(children_prioritization)\n",
    "    return final_order"
   ],
   "metadata": {
    "collapsed": false,
    "ExecuteTime": {
     "end_time": "2025-06-04T17:25:17.400882500Z",
     "start_time": "2025-06-04T17:25:17.383882400Z"
    }
   },
   "id": "4b68cab0332f3c5e"
  },
  {
   "cell_type": "code",
   "execution_count": 9,
   "outputs": [],
   "source": [
    "contractors = [get_contractor_by_wg(stochastic_wg)]"
   ],
   "metadata": {
    "collapsed": false,
    "ExecuteTime": {
     "end_time": "2025-06-04T17:25:17.801097200Z",
     "start_time": "2025-06-04T17:25:17.786432Z"
    }
   }
  },
  {
   "cell_type": "code",
   "execution_count": 10,
   "outputs": [
    {
     "data": {
      "text/plain": "138"
     },
     "execution_count": 10,
     "metadata": {},
     "output_type": "execute_result"
    }
   ],
   "source": [
    "scheduler = HEFTScheduler(stochastic_prioritization_f=stochastic_prioritization, work_estimator=work_estimator)\n",
    "\n",
    "project1 = SchedulingPipeline.create() \\\n",
    "    .wg(stochastic_wg) \\\n",
    "    .contractors(contractors) \\\n",
    "    .work_estimator(work_estimator) \\\n",
    "    .schedule(scheduler) \\\n",
    "    .finish()[0]\n",
    "\n",
    "project1.schedule.execution_time"
   ],
   "metadata": {
    "collapsed": false,
    "ExecuteTime": {
     "end_time": "2025-06-04T17:25:18.772838300Z",
     "start_time": "2025-06-04T17:25:18.268526Z"
    }
   },
   "id": "ba1135b7c82c406b"
  },
  {
   "cell_type": "code",
   "execution_count": 11,
   "outputs": [
    {
     "data": {
      "text/plain": "     idx                               task_id          task_name  \\\n0      0  f5e77d4d-cf30-cf2d-9097-a70286ee6241          Check #17   \n1      1  610e4ad5-09c4-7055-dff4-948fe6b4f832           Check #2   \n2      2  7ca5d0ed-e9e4-b2dd-1525-e9d3d1f7fbe4          Check #25   \n3      3  573e8d77-550a-e889-8ff4-1e8d8944897c           Check #3   \n4      4  d4e3fda5-1691-79e2-9611-516c30665bc3          Check #30   \n..   ...                                   ...                ...   \n313  313  b214b68a-123e-8c9c-177b-069d4bd7b29c   start of project   \n314  314  865b88c4-964b-7d51-323c-c0ab76fb4499   start of project   \n315  315  f777fae8-eebb-369e-8af3-23e6cafb5478   start of project   \n316  316  66498021-b0d7-23a0-cdd4-d0d5ad0e7487   start of project   \n317  317  ac59ae67-59ca-ee56-592a-e3abc614060b  finish of project   \n\n      task_name_mapped                            contractor  cost  volume  \\\n0            Check #17  bebb2e9d-7bc0-4e29-8a15-08f8866bb760     0     0.0   \n1             Check #2  bebb2e9d-7bc0-4e29-8a15-08f8866bb760     0     0.0   \n2            Check #25  bebb2e9d-7bc0-4e29-8a15-08f8866bb760     0     0.0   \n3             Check #3  bebb2e9d-7bc0-4e29-8a15-08f8866bb760     0     0.0   \n4            Check #30  bebb2e9d-7bc0-4e29-8a15-08f8866bb760     0     0.0   \n..                 ...                                   ...   ...     ...   \n313   start of project  bebb2e9d-7bc0-4e29-8a15-08f8866bb760     0     0.0   \n314   start of project  bebb2e9d-7bc0-4e29-8a15-08f8866bb760     0     0.0   \n315   start of project  bebb2e9d-7bc0-4e29-8a15-08f8866bb760     0     0.0   \n316   start of project  bebb2e9d-7bc0-4e29-8a15-08f8866bb760     0     0.0   \n317  finish of project  bebb2e9d-7bc0-4e29-8a15-08f8866bb760     0     0.0   \n\n    measurement  start  finish  duration          workers  \\\n0          unit      0       0         0  {'engineer': 2}   \n1          unit      0       0         0  {'engineer': 2}   \n2          unit      0       0         0  {'engineer': 2}   \n3          unit      0       0         0  {'engineer': 2}   \n4          unit      0       0         0  {'engineer': 2}   \n..          ...    ...     ...       ...              ...   \n313        unit    137     137         0               {}   \n314        unit    137     137         0               {}   \n315        unit    137     137         0               {}   \n316        unit    137     137         0               {}   \n317        unit    138     138         0               {}   \n\n                                 scheduled_work_object  \n0    ScheduledWork[work_unit=f5e77d4d-cf30-cf2d-909...  \n1    ScheduledWork[work_unit=610e4ad5-09c4-7055-dff...  \n2    ScheduledWork[work_unit=7ca5d0ed-e9e4-b2dd-152...  \n3    ScheduledWork[work_unit=573e8d77-550a-e889-8ff...  \n4    ScheduledWork[work_unit=d4e3fda5-1691-79e2-961...  \n..                                                 ...  \n313  ScheduledWork[work_unit=b214b68a-123e-8c9c-177...  \n314  ScheduledWork[work_unit=865b88c4-964b-7d51-323...  \n315  ScheduledWork[work_unit=f777fae8-eebb-369e-8af...  \n316  ScheduledWork[work_unit=66498021-b0d7-23a0-cdd...  \n317  ScheduledWork[work_unit=ac59ae67-59ca-ee56-592...  \n\n[318 rows x 13 columns]",
      "text/html": "<div>\n<style scoped>\n    .dataframe tbody tr th:only-of-type {\n        vertical-align: middle;\n    }\n\n    .dataframe tbody tr th {\n        vertical-align: top;\n    }\n\n    .dataframe thead th {\n        text-align: right;\n    }\n</style>\n<table border=\"1\" class=\"dataframe\">\n  <thead>\n    <tr style=\"text-align: right;\">\n      <th></th>\n      <th>idx</th>\n      <th>task_id</th>\n      <th>task_name</th>\n      <th>task_name_mapped</th>\n      <th>contractor</th>\n      <th>cost</th>\n      <th>volume</th>\n      <th>measurement</th>\n      <th>start</th>\n      <th>finish</th>\n      <th>duration</th>\n      <th>workers</th>\n      <th>scheduled_work_object</th>\n    </tr>\n  </thead>\n  <tbody>\n    <tr>\n      <th>0</th>\n      <td>0</td>\n      <td>f5e77d4d-cf30-cf2d-9097-a70286ee6241</td>\n      <td>Check #17</td>\n      <td>Check #17</td>\n      <td>bebb2e9d-7bc0-4e29-8a15-08f8866bb760</td>\n      <td>0</td>\n      <td>0.0</td>\n      <td>unit</td>\n      <td>0</td>\n      <td>0</td>\n      <td>0</td>\n      <td>{'engineer': 2}</td>\n      <td>ScheduledWork[work_unit=f5e77d4d-cf30-cf2d-909...</td>\n    </tr>\n    <tr>\n      <th>1</th>\n      <td>1</td>\n      <td>610e4ad5-09c4-7055-dff4-948fe6b4f832</td>\n      <td>Check #2</td>\n      <td>Check #2</td>\n      <td>bebb2e9d-7bc0-4e29-8a15-08f8866bb760</td>\n      <td>0</td>\n      <td>0.0</td>\n      <td>unit</td>\n      <td>0</td>\n      <td>0</td>\n      <td>0</td>\n      <td>{'engineer': 2}</td>\n      <td>ScheduledWork[work_unit=610e4ad5-09c4-7055-dff...</td>\n    </tr>\n    <tr>\n      <th>2</th>\n      <td>2</td>\n      <td>7ca5d0ed-e9e4-b2dd-1525-e9d3d1f7fbe4</td>\n      <td>Check #25</td>\n      <td>Check #25</td>\n      <td>bebb2e9d-7bc0-4e29-8a15-08f8866bb760</td>\n      <td>0</td>\n      <td>0.0</td>\n      <td>unit</td>\n      <td>0</td>\n      <td>0</td>\n      <td>0</td>\n      <td>{'engineer': 2}</td>\n      <td>ScheduledWork[work_unit=7ca5d0ed-e9e4-b2dd-152...</td>\n    </tr>\n    <tr>\n      <th>3</th>\n      <td>3</td>\n      <td>573e8d77-550a-e889-8ff4-1e8d8944897c</td>\n      <td>Check #3</td>\n      <td>Check #3</td>\n      <td>bebb2e9d-7bc0-4e29-8a15-08f8866bb760</td>\n      <td>0</td>\n      <td>0.0</td>\n      <td>unit</td>\n      <td>0</td>\n      <td>0</td>\n      <td>0</td>\n      <td>{'engineer': 2}</td>\n      <td>ScheduledWork[work_unit=573e8d77-550a-e889-8ff...</td>\n    </tr>\n    <tr>\n      <th>4</th>\n      <td>4</td>\n      <td>d4e3fda5-1691-79e2-9611-516c30665bc3</td>\n      <td>Check #30</td>\n      <td>Check #30</td>\n      <td>bebb2e9d-7bc0-4e29-8a15-08f8866bb760</td>\n      <td>0</td>\n      <td>0.0</td>\n      <td>unit</td>\n      <td>0</td>\n      <td>0</td>\n      <td>0</td>\n      <td>{'engineer': 2}</td>\n      <td>ScheduledWork[work_unit=d4e3fda5-1691-79e2-961...</td>\n    </tr>\n    <tr>\n      <th>...</th>\n      <td>...</td>\n      <td>...</td>\n      <td>...</td>\n      <td>...</td>\n      <td>...</td>\n      <td>...</td>\n      <td>...</td>\n      <td>...</td>\n      <td>...</td>\n      <td>...</td>\n      <td>...</td>\n      <td>...</td>\n      <td>...</td>\n    </tr>\n    <tr>\n      <th>313</th>\n      <td>313</td>\n      <td>b214b68a-123e-8c9c-177b-069d4bd7b29c</td>\n      <td>start of project</td>\n      <td>start of project</td>\n      <td>bebb2e9d-7bc0-4e29-8a15-08f8866bb760</td>\n      <td>0</td>\n      <td>0.0</td>\n      <td>unit</td>\n      <td>137</td>\n      <td>137</td>\n      <td>0</td>\n      <td>{}</td>\n      <td>ScheduledWork[work_unit=b214b68a-123e-8c9c-177...</td>\n    </tr>\n    <tr>\n      <th>314</th>\n      <td>314</td>\n      <td>865b88c4-964b-7d51-323c-c0ab76fb4499</td>\n      <td>start of project</td>\n      <td>start of project</td>\n      <td>bebb2e9d-7bc0-4e29-8a15-08f8866bb760</td>\n      <td>0</td>\n      <td>0.0</td>\n      <td>unit</td>\n      <td>137</td>\n      <td>137</td>\n      <td>0</td>\n      <td>{}</td>\n      <td>ScheduledWork[work_unit=865b88c4-964b-7d51-323...</td>\n    </tr>\n    <tr>\n      <th>315</th>\n      <td>315</td>\n      <td>f777fae8-eebb-369e-8af3-23e6cafb5478</td>\n      <td>start of project</td>\n      <td>start of project</td>\n      <td>bebb2e9d-7bc0-4e29-8a15-08f8866bb760</td>\n      <td>0</td>\n      <td>0.0</td>\n      <td>unit</td>\n      <td>137</td>\n      <td>137</td>\n      <td>0</td>\n      <td>{}</td>\n      <td>ScheduledWork[work_unit=f777fae8-eebb-369e-8af...</td>\n    </tr>\n    <tr>\n      <th>316</th>\n      <td>316</td>\n      <td>66498021-b0d7-23a0-cdd4-d0d5ad0e7487</td>\n      <td>start of project</td>\n      <td>start of project</td>\n      <td>bebb2e9d-7bc0-4e29-8a15-08f8866bb760</td>\n      <td>0</td>\n      <td>0.0</td>\n      <td>unit</td>\n      <td>137</td>\n      <td>137</td>\n      <td>0</td>\n      <td>{}</td>\n      <td>ScheduledWork[work_unit=66498021-b0d7-23a0-cdd...</td>\n    </tr>\n    <tr>\n      <th>317</th>\n      <td>317</td>\n      <td>ac59ae67-59ca-ee56-592a-e3abc614060b</td>\n      <td>finish of project</td>\n      <td>finish of project</td>\n      <td>bebb2e9d-7bc0-4e29-8a15-08f8866bb760</td>\n      <td>0</td>\n      <td>0.0</td>\n      <td>unit</td>\n      <td>138</td>\n      <td>138</td>\n      <td>0</td>\n      <td>{}</td>\n      <td>ScheduledWork[work_unit=ac59ae67-59ca-ee56-592...</td>\n    </tr>\n  </tbody>\n</table>\n<p>318 rows × 13 columns</p>\n</div>"
     },
     "execution_count": 11,
     "metadata": {},
     "output_type": "execute_result"
    }
   ],
   "source": [
    "project1.schedule.full_schedule_df"
   ],
   "metadata": {
    "collapsed": false,
    "ExecuteTime": {
     "end_time": "2025-06-04T17:25:18.773359100Z",
     "start_time": "2025-06-04T17:25:18.745037500Z"
    }
   },
   "id": "3d55a95ff734a313"
  },
  {
   "cell_type": "code",
   "execution_count": 12,
   "outputs": [
    {
     "data": {
      "text/plain": "109"
     },
     "execution_count": 12,
     "metadata": {},
     "output_type": "execute_result"
    }
   ],
   "source": [
    "from sampo.scheduler.heft.prioritization import stochastic_prioritization\n",
    "\n",
    "scheduler = HEFTScheduler(prioritization_f=stochastic_prioritization_function_enhanced, work_estimator=work_estimator)\n",
    "\n",
    "project2 = SchedulingPipeline.create() \\\n",
    "    .wg(stochastic_wg) \\\n",
    "    .contractors(contractors) \\\n",
    "    .work_estimator(work_estimator) \\\n",
    "    .schedule(scheduler) \\\n",
    "    .finish()[0]\n",
    "\n",
    "project2.schedule.execution_time"
   ],
   "metadata": {
    "collapsed": false,
    "ExecuteTime": {
     "end_time": "2025-06-04T17:25:19.879943300Z",
     "start_time": "2025-06-04T17:25:19.351193700Z"
    }
   },
   "id": "2bef0db61782908a"
  },
  {
   "cell_type": "code",
   "execution_count": 31,
   "outputs": [
    {
     "data": {
      "text/plain": "     idx                               task_id         task_name  \\\n0      0  6364d5e0-d65a-2a5e-70e1-ad82c4710bb7      minimal road   \n1      1  fc62789c-12a7-567c-652b-54d3aa7f5864  start of project   \n2      2  ac7c2e69-7f2e-eb7e-0352-05d79b683076  start of project   \n3      3  e5182800-e282-110b-eda7-ffc2d14f568f    temporary road   \n4      4  2e27cdd5-ac91-0a39-f166-f41b5bd840c6        final road   \n..   ...                                   ...               ...   \n349  349  0d68b38b-dcab-bde0-426c-8b90656c335b  start of project   \n350  350  1273ec81-d2fe-a0e5-c57a-888052265e5b  start of project   \n351  351  42815fb5-b334-80a3-7137-803fe4b0b71f  start of project   \n352  352  62390465-7ca4-ff07-dfce-4c513751593c  start of project   \n353  353  d69589e5-7c14-9fc9-872c-8c5181160896  start of project   \n\n     task_name_mapped                            contractor  cost    volume  \\\n0        minimal road  646f260e-3de7-4b41-8e23-3afc5a96db56  1770  6.009262   \n1    start of project  646f260e-3de7-4b41-8e23-3afc5a96db56     0  0.000000   \n2    start of project  646f260e-3de7-4b41-8e23-3afc5a96db56     0  0.000000   \n3      temporary road  646f260e-3de7-4b41-8e23-3afc5a96db56  1770  6.009262   \n4          final road  646f260e-3de7-4b41-8e23-3afc5a96db56  3540  6.009262   \n..                ...                                   ...   ...       ...   \n349  start of project  646f260e-3de7-4b41-8e23-3afc5a96db56     0  0.000000   \n350  start of project  646f260e-3de7-4b41-8e23-3afc5a96db56     0  0.000000   \n351  start of project  646f260e-3de7-4b41-8e23-3afc5a96db56     0  0.000000   \n352  start of project  646f260e-3de7-4b41-8e23-3afc5a96db56     0  0.000000   \n353  start of project  646f260e-3de7-4b41-8e23-3afc5a96db56     0  0.000000   \n\n    measurement  start  finish  duration  \\\n0            km      0       1         1   \n1          unit      0       0         0   \n2          unit      0       0         0   \n3            km      1       2         1   \n4            km      2       4         2   \n..          ...    ...     ...       ...   \n349        unit    704     704         0   \n350        unit    704     704         0   \n351        unit    704     704         0   \n352        unit    704     704         0   \n353        unit    705     705         0   \n\n                                            workers  \\\n0    {'driver': 53, 'manager': 17, 'handyman': 107}   \n1                                                {}   \n2                                                {}   \n3    {'driver': 53, 'manager': 17, 'handyman': 107}   \n4    {'driver': 53, 'manager': 17, 'handyman': 107}   \n..                                              ...   \n349                                              {}   \n350                                              {}   \n351                                              {}   \n352                                              {}   \n353                                              {}   \n\n                                 scheduled_work_object  \n0    ScheduledWork[work_unit=6364d5e0-d65a-2a5e-70e...  \n1    ScheduledWork[work_unit=fc62789c-12a7-567c-652...  \n2    ScheduledWork[work_unit=ac7c2e69-7f2e-eb7e-035...  \n3    ScheduledWork[work_unit=e5182800-e282-110b-eda...  \n4    ScheduledWork[work_unit=2e27cdd5-ac91-0a39-f16...  \n..                                                 ...  \n349  ScheduledWork[work_unit=0d68b38b-dcab-bde0-426...  \n350  ScheduledWork[work_unit=1273ec81-d2fe-a0e5-c57...  \n351  ScheduledWork[work_unit=42815fb5-b334-80a3-713...  \n352  ScheduledWork[work_unit=62390465-7ca4-ff07-dfc...  \n353  ScheduledWork[work_unit=d69589e5-7c14-9fc9-872...  \n\n[354 rows x 13 columns]",
      "text/html": "<div>\n<style scoped>\n    .dataframe tbody tr th:only-of-type {\n        vertical-align: middle;\n    }\n\n    .dataframe tbody tr th {\n        vertical-align: top;\n    }\n\n    .dataframe thead th {\n        text-align: right;\n    }\n</style>\n<table border=\"1\" class=\"dataframe\">\n  <thead>\n    <tr style=\"text-align: right;\">\n      <th></th>\n      <th>idx</th>\n      <th>task_id</th>\n      <th>task_name</th>\n      <th>task_name_mapped</th>\n      <th>contractor</th>\n      <th>cost</th>\n      <th>volume</th>\n      <th>measurement</th>\n      <th>start</th>\n      <th>finish</th>\n      <th>duration</th>\n      <th>workers</th>\n      <th>scheduled_work_object</th>\n    </tr>\n  </thead>\n  <tbody>\n    <tr>\n      <th>0</th>\n      <td>0</td>\n      <td>6364d5e0-d65a-2a5e-70e1-ad82c4710bb7</td>\n      <td>minimal road</td>\n      <td>minimal road</td>\n      <td>646f260e-3de7-4b41-8e23-3afc5a96db56</td>\n      <td>1770</td>\n      <td>6.009262</td>\n      <td>km</td>\n      <td>0</td>\n      <td>1</td>\n      <td>1</td>\n      <td>{'driver': 53, 'manager': 17, 'handyman': 107}</td>\n      <td>ScheduledWork[work_unit=6364d5e0-d65a-2a5e-70e...</td>\n    </tr>\n    <tr>\n      <th>1</th>\n      <td>1</td>\n      <td>fc62789c-12a7-567c-652b-54d3aa7f5864</td>\n      <td>start of project</td>\n      <td>start of project</td>\n      <td>646f260e-3de7-4b41-8e23-3afc5a96db56</td>\n      <td>0</td>\n      <td>0.000000</td>\n      <td>unit</td>\n      <td>0</td>\n      <td>0</td>\n      <td>0</td>\n      <td>{}</td>\n      <td>ScheduledWork[work_unit=fc62789c-12a7-567c-652...</td>\n    </tr>\n    <tr>\n      <th>2</th>\n      <td>2</td>\n      <td>ac7c2e69-7f2e-eb7e-0352-05d79b683076</td>\n      <td>start of project</td>\n      <td>start of project</td>\n      <td>646f260e-3de7-4b41-8e23-3afc5a96db56</td>\n      <td>0</td>\n      <td>0.000000</td>\n      <td>unit</td>\n      <td>0</td>\n      <td>0</td>\n      <td>0</td>\n      <td>{}</td>\n      <td>ScheduledWork[work_unit=ac7c2e69-7f2e-eb7e-035...</td>\n    </tr>\n    <tr>\n      <th>3</th>\n      <td>3</td>\n      <td>e5182800-e282-110b-eda7-ffc2d14f568f</td>\n      <td>temporary road</td>\n      <td>temporary road</td>\n      <td>646f260e-3de7-4b41-8e23-3afc5a96db56</td>\n      <td>1770</td>\n      <td>6.009262</td>\n      <td>km</td>\n      <td>1</td>\n      <td>2</td>\n      <td>1</td>\n      <td>{'driver': 53, 'manager': 17, 'handyman': 107}</td>\n      <td>ScheduledWork[work_unit=e5182800-e282-110b-eda...</td>\n    </tr>\n    <tr>\n      <th>4</th>\n      <td>4</td>\n      <td>2e27cdd5-ac91-0a39-f166-f41b5bd840c6</td>\n      <td>final road</td>\n      <td>final road</td>\n      <td>646f260e-3de7-4b41-8e23-3afc5a96db56</td>\n      <td>3540</td>\n      <td>6.009262</td>\n      <td>km</td>\n      <td>2</td>\n      <td>4</td>\n      <td>2</td>\n      <td>{'driver': 53, 'manager': 17, 'handyman': 107}</td>\n      <td>ScheduledWork[work_unit=2e27cdd5-ac91-0a39-f16...</td>\n    </tr>\n    <tr>\n      <th>...</th>\n      <td>...</td>\n      <td>...</td>\n      <td>...</td>\n      <td>...</td>\n      <td>...</td>\n      <td>...</td>\n      <td>...</td>\n      <td>...</td>\n      <td>...</td>\n      <td>...</td>\n      <td>...</td>\n      <td>...</td>\n      <td>...</td>\n    </tr>\n    <tr>\n      <th>349</th>\n      <td>349</td>\n      <td>0d68b38b-dcab-bde0-426c-8b90656c335b</td>\n      <td>start of project</td>\n      <td>start of project</td>\n      <td>646f260e-3de7-4b41-8e23-3afc5a96db56</td>\n      <td>0</td>\n      <td>0.000000</td>\n      <td>unit</td>\n      <td>704</td>\n      <td>704</td>\n      <td>0</td>\n      <td>{}</td>\n      <td>ScheduledWork[work_unit=0d68b38b-dcab-bde0-426...</td>\n    </tr>\n    <tr>\n      <th>350</th>\n      <td>350</td>\n      <td>1273ec81-d2fe-a0e5-c57a-888052265e5b</td>\n      <td>start of project</td>\n      <td>start of project</td>\n      <td>646f260e-3de7-4b41-8e23-3afc5a96db56</td>\n      <td>0</td>\n      <td>0.000000</td>\n      <td>unit</td>\n      <td>704</td>\n      <td>704</td>\n      <td>0</td>\n      <td>{}</td>\n      <td>ScheduledWork[work_unit=1273ec81-d2fe-a0e5-c57...</td>\n    </tr>\n    <tr>\n      <th>351</th>\n      <td>351</td>\n      <td>42815fb5-b334-80a3-7137-803fe4b0b71f</td>\n      <td>start of project</td>\n      <td>start of project</td>\n      <td>646f260e-3de7-4b41-8e23-3afc5a96db56</td>\n      <td>0</td>\n      <td>0.000000</td>\n      <td>unit</td>\n      <td>704</td>\n      <td>704</td>\n      <td>0</td>\n      <td>{}</td>\n      <td>ScheduledWork[work_unit=42815fb5-b334-80a3-713...</td>\n    </tr>\n    <tr>\n      <th>352</th>\n      <td>352</td>\n      <td>62390465-7ca4-ff07-dfce-4c513751593c</td>\n      <td>start of project</td>\n      <td>start of project</td>\n      <td>646f260e-3de7-4b41-8e23-3afc5a96db56</td>\n      <td>0</td>\n      <td>0.000000</td>\n      <td>unit</td>\n      <td>704</td>\n      <td>704</td>\n      <td>0</td>\n      <td>{}</td>\n      <td>ScheduledWork[work_unit=62390465-7ca4-ff07-dfc...</td>\n    </tr>\n    <tr>\n      <th>353</th>\n      <td>353</td>\n      <td>d69589e5-7c14-9fc9-872c-8c5181160896</td>\n      <td>start of project</td>\n      <td>start of project</td>\n      <td>646f260e-3de7-4b41-8e23-3afc5a96db56</td>\n      <td>0</td>\n      <td>0.000000</td>\n      <td>unit</td>\n      <td>705</td>\n      <td>705</td>\n      <td>0</td>\n      <td>{}</td>\n      <td>ScheduledWork[work_unit=d69589e5-7c14-9fc9-872...</td>\n    </tr>\n  </tbody>\n</table>\n<p>354 rows × 13 columns</p>\n</div>"
     },
     "execution_count": 31,
     "metadata": {},
     "output_type": "execute_result"
    }
   ],
   "source": [
    "project2.schedule.full_schedule_df"
   ],
   "metadata": {
    "collapsed": false,
    "ExecuteTime": {
     "end_time": "2025-06-04T17:12:47.951382800Z",
     "start_time": "2025-06-04T17:12:47.922751800Z"
    }
   }
  },
  {
   "cell_type": "code",
   "execution_count": 38,
   "outputs": [
    {
     "data": {
      "text/plain": "{'562a77eb-098e-7013-7df0-71e73210e250',\n '649f5874-02c0-f38b-9ea9-dc08f8206c13'}"
     },
     "execution_count": 38,
     "metadata": {},
     "output_type": "execute_result"
    }
   ],
   "source": [
    "s = set(project1.schedule.full_schedule_df.task_id).difference(project2.schedule.full_schedule_df.task_id)\n",
    "s"
   ],
   "metadata": {
    "collapsed": false,
    "ExecuteTime": {
     "end_time": "2025-06-04T17:14:22.461025600Z",
     "start_time": "2025-06-04T17:14:22.444439300Z"
    }
   }
  },
  {
   "cell_type": "code",
   "execution_count": 40,
   "outputs": [
    {
     "data": {
      "text/plain": "     idx                               task_id          task_name  \\\n0      0  649f5874-02c0-f38b-9ea9-dc08f8206c13   start of project   \n355  355  562a77eb-098e-7013-7df0-71e73210e250  finish of project   \n\n      task_name_mapped                            contractor  cost  volume  \\\n0     start of project  646f260e-3de7-4b41-8e23-3afc5a96db56     0     0.0   \n355  finish of project  646f260e-3de7-4b41-8e23-3afc5a96db56     0     0.0   \n\n    measurement  start  finish  duration workers  \\\n0          unit      0       0         0      {}   \n355        unit    785     785         0      {}   \n\n                                 scheduled_work_object  \n0    ScheduledWork[work_unit=649f5874-02c0-f38b-9ea...  \n355  ScheduledWork[work_unit=562a77eb-098e-7013-7df...  ",
      "text/html": "<div>\n<style scoped>\n    .dataframe tbody tr th:only-of-type {\n        vertical-align: middle;\n    }\n\n    .dataframe tbody tr th {\n        vertical-align: top;\n    }\n\n    .dataframe thead th {\n        text-align: right;\n    }\n</style>\n<table border=\"1\" class=\"dataframe\">\n  <thead>\n    <tr style=\"text-align: right;\">\n      <th></th>\n      <th>idx</th>\n      <th>task_id</th>\n      <th>task_name</th>\n      <th>task_name_mapped</th>\n      <th>contractor</th>\n      <th>cost</th>\n      <th>volume</th>\n      <th>measurement</th>\n      <th>start</th>\n      <th>finish</th>\n      <th>duration</th>\n      <th>workers</th>\n      <th>scheduled_work_object</th>\n    </tr>\n  </thead>\n  <tbody>\n    <tr>\n      <th>0</th>\n      <td>0</td>\n      <td>649f5874-02c0-f38b-9ea9-dc08f8206c13</td>\n      <td>start of project</td>\n      <td>start of project</td>\n      <td>646f260e-3de7-4b41-8e23-3afc5a96db56</td>\n      <td>0</td>\n      <td>0.0</td>\n      <td>unit</td>\n      <td>0</td>\n      <td>0</td>\n      <td>0</td>\n      <td>{}</td>\n      <td>ScheduledWork[work_unit=649f5874-02c0-f38b-9ea...</td>\n    </tr>\n    <tr>\n      <th>355</th>\n      <td>355</td>\n      <td>562a77eb-098e-7013-7df0-71e73210e250</td>\n      <td>finish of project</td>\n      <td>finish of project</td>\n      <td>646f260e-3de7-4b41-8e23-3afc5a96db56</td>\n      <td>0</td>\n      <td>0.0</td>\n      <td>unit</td>\n      <td>785</td>\n      <td>785</td>\n      <td>0</td>\n      <td>{}</td>\n      <td>ScheduledWork[work_unit=562a77eb-098e-7013-7df...</td>\n    </tr>\n  </tbody>\n</table>\n</div>"
     },
     "execution_count": 40,
     "metadata": {},
     "output_type": "execute_result"
    }
   ],
   "source": [
    "import pandas as pd\n",
    "\n",
    "project1.schedule.full_schedule_df[project1.schedule.full_schedule_df.task_id.isin(s)]"
   ],
   "metadata": {
    "collapsed": false,
    "ExecuteTime": {
     "end_time": "2025-06-04T17:17:57.515161100Z",
     "start_time": "2025-06-04T17:17:57.502300100Z"
    }
   }
  },
  {
   "cell_type": "code",
   "execution_count": 13,
   "outputs": [],
   "source": [
    "# [node for lst in self._node2followers.values() for lst2, _ in lst for node in lst2 if node.work_unit.name == 'finish of project']\n",
    "# [(g1, g2) for g1 in defect_graphs for g2 in defect_graphs if len(set(g1).intersection(set(g2))) > 0]\n",
    "# sorted([node for lst in self._node2followers.values() for lst2, _ in lst for node in lst2], key=lambda x: x.id)\n",
    "# sorted([(node, prob) for lst in self._node2followers.values() for lst2, prob in lst for node in lst2], key=lambda x: x[0].id)"
   ],
   "metadata": {
    "collapsed": false,
    "ExecuteTime": {
     "end_time": "2025-06-04T17:01:42.078599600Z",
     "start_time": "2025-06-04T17:01:42.060021900Z"
    }
   },
   "id": "f120a540ae1a143c"
  },
  {
   "cell_type": "code",
   "execution_count": null,
   "outputs": [],
   "source": [],
   "metadata": {
    "collapsed": false
   }
  }
 ],
 "metadata": {
  "kernelspec": {
   "display_name": "Python 3",
   "language": "python",
   "name": "python3"
  },
  "language_info": {
   "codemirror_mode": {
    "name": "ipython",
    "version": 2
   },
   "file_extension": ".py",
   "mimetype": "text/x-python",
   "name": "python",
   "nbconvert_exporter": "python",
   "pygments_lexer": "ipython2",
   "version": "2.7.6"
  }
 },
 "nbformat": 4,
 "nbformat_minor": 5
}
