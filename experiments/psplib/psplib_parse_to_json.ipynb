{
 "cells": [
  {
   "cell_type": "code",
   "execution_count": null,
   "id": "7bde67d8",
   "metadata": {},
   "outputs": [],
   "source": [
    "import json\n",
    "from os import listdir\n",
    "from pathlib import Path"
   ]
  },
  {
   "cell_type": "code",
   "execution_count": null,
   "id": "0023b9ea",
   "metadata": {},
   "outputs": [],
   "source": []
  },
  {
   "cell_type": "code",
   "execution_count": null,
   "id": "a9dd1e0d-957b-4f57-a336-f794a82324f8",
   "metadata": {},
   "outputs": [],
   "source": [
    "def open_sm_file(sm_file_path):\n",
    "    with open(sm_file_path, \"r\") as sm_file:\n",
    "        data = sm_file.read().splitlines()\n",
    "    return data"
   ]
  },
  {
   "cell_type": "code",
   "execution_count": null,
   "id": "c5170469-f2ec-43a1-bd5d-96d0cec377f5",
   "metadata": {},
   "outputs": [],
   "source": [
    "def get_resource_max(data):\n",
    "    resource_max_index = data.index(\"RESOURCEAVAILABILITIES:\") + 2\n",
    "    resource_max = data[resource_max_index]\n",
    "    resource_max = [int(i) for i in resource_max.split()]\n",
    "    return resource_max"
   ]
  },
  {
   "cell_type": "code",
   "execution_count": null,
   "id": "6d739b0b-0dae-43e6-87be-91de78ea06b7",
   "metadata": {},
   "outputs": [],
   "source": [
    "def get_n_jobs_full(data):\n",
    "    for line in data:\n",
    "        if line.startswith(\"jobs (incl. supersource/sink ):\"):\n",
    "            break\n",
    "    n_jobs_full = line.split()[-1]\n",
    "    n_jobs_full = int(n_jobs_full)\n",
    "    return n_jobs_full"
   ]
  },
  {
   "cell_type": "code",
   "execution_count": null,
   "id": "d0333f43-23be-495d-8987-3c3c5e89e4e8",
   "metadata": {},
   "outputs": [],
   "source": [
    "def get_graph_edges(data, n_jobs_full):\n",
    "    graph_index_start = data.index(\"PRECEDENCE RELATIONS:\") + 2\n",
    "    graph_index_end = graph_index_start + n_jobs_full\n",
    "\n",
    "    graph = data[graph_index_start:graph_index_end]\n",
    "    graph = [i.split() for i in graph]\n",
    "    graph = [[int(i) for i in row] for row in graph]\n",
    "    graph = [[f\"#{i}\" for i in row] for row in graph]\n",
    "    graph = [(row[0], row[3:]) for row in graph]\n",
    "\n",
    "    graph_edges = []\n",
    "    for parent, successors in graph:\n",
    "        for successor in successors:\n",
    "            graph_edges.append( (parent, successor) )\n",
    "    \n",
    "    return graph_edges"
   ]
  },
  {
   "cell_type": "code",
   "execution_count": null,
   "id": "3c09d067-f1f1-4d36-95df-11371b0eb35c",
   "metadata": {},
   "outputs": [],
   "source": [
    "def get_requests(data, n_jobs_full):\n",
    "    requires_index_start = data.index(\"REQUESTS/DURATIONS:\") + 3\n",
    "    requires_index_end = requires_index_start + n_jobs_full\n",
    "\n",
    "    requires = data[requires_index_start:requires_index_end]\n",
    "    requires = [row.split() for row in requires]\n",
    "    requires = [[int(i) for i in row] for row in requires]\n",
    "\n",
    "    durations = {f\"#{row[0]}\": row[2] for row in requires}\n",
    "    resources = {f\"#{row[0]}\": row[3:] for row in requires}\n",
    "    return (durations, resources)"
   ]
  },
  {
   "cell_type": "code",
   "execution_count": null,
   "id": "0d1aa0d8-2ca4-436a-b5fc-f471cabb9cfb",
   "metadata": {},
   "outputs": [],
   "source": []
  },
  {
   "cell_type": "code",
   "execution_count": null,
   "id": "bf51af30",
   "metadata": {},
   "outputs": [],
   "source": [
    "def parse_sm_file(from_folder, file, to_folder):\n",
    "    \n",
    "    open_path = Path(from_folder) / file\n",
    "    data = open_sm_file(open_path)\n",
    "    \n",
    "    n_jobs_full = get_n_jobs_full(data)\n",
    "    resource_max = get_resource_max(data)\n",
    "    n_resources = len(resource_max)\n",
    "    \n",
    "    graph_edges = get_graph_edges(data, n_jobs_full)\n",
    "    durations, resources = get_requests(data, n_jobs_full)\n",
    "\n",
    "    jobs = []\n",
    "    for i in range(1, n_jobs_full+1):\n",
    "        name = f\"#{i}\"\n",
    "        job_data = dict(\n",
    "            name=name,\n",
    "            duration=durations[name],\n",
    "            resources=resources[name],\n",
    "            successors=[b for a, b in graph_edges if (a == name)],\n",
    "            predecessors=[a for a, b in graph_edges if (b == name)]\n",
    "        )\n",
    "        jobs.append(job_data)\n",
    "\n",
    "    assert len(jobs) == n_jobs_full\n",
    "    assert all(len(r) == n_resources for r in resources.values())\n",
    "    \n",
    "    result = {}\n",
    "    result[\"n_jobs_full\"] = n_jobs_full\n",
    "    result[\"n_resources\"] = n_resources\n",
    "    result[\"resource_pool\"] = resource_max\n",
    "    result[\"jobs\"] = jobs\n",
    "    \n",
    "    file_id = file.split(\".\")[0]\n",
    "    file_id = f\"{file_id}.json\"\n",
    "\n",
    "    # remove excessive newlines\n",
    "    json_string = json.dumps(result, indent=2)\n",
    "    json_string = json_string.replace(\"\\n        \", \"\")\n",
    "    json_string = json_string.replace(\"\\n      ]\", \"]\")\n",
    "    \n",
    "    save_path = Path(to_folder) / file_id\n",
    "    with open(save_path, \"w\") as json_file:\n",
    "        json_file.write(json_string)\n",
    "    return result"
   ]
  },
  {
   "cell_type": "code",
   "execution_count": null,
   "id": "f34c4df2-cb1f-471d-b585-ea2d29edf092",
   "metadata": {},
   "outputs": [],
   "source": []
  },
  {
   "cell_type": "code",
   "execution_count": null,
   "id": "ffdc8ea9",
   "metadata": {},
   "outputs": [],
   "source": [
    "s = parse_sm_file(\n",
    "    from_folder=\"j120_sm\", \n",
    "    file=\"j1201_1.sm\", \n",
    "    to_folder=\"j120_json\"\n",
    ")"
   ]
  },
  {
   "cell_type": "code",
   "execution_count": null,
   "id": "0ea6ab9f-11f0-4150-8e5e-faa160c1b755",
   "metadata": {},
   "outputs": [],
   "source": []
  },
  {
   "cell_type": "code",
   "execution_count": null,
   "id": "f313b5e4-6b37-46e4-a707-e12226feaee2",
   "metadata": {},
   "outputs": [],
   "source": []
  },
  {
   "cell_type": "code",
   "execution_count": null,
   "id": "2f15ff10",
   "metadata": {},
   "outputs": [],
   "source": []
  },
  {
   "cell_type": "code",
   "execution_count": null,
   "id": "cd182e17",
   "metadata": {},
   "outputs": [],
   "source": [
    "from_filder = \"j120_sm\"\n",
    "to_folder = \"j120_json\"\n",
    "\n",
    "files_to_parse = listdir(from_filder)\n",
    "for file_name in files_to_parse:\n",
    "    parse_sm_file(from_filder, file_name, to_folder)"
   ]
  },
  {
   "cell_type": "code",
   "execution_count": null,
   "id": "371e765e",
   "metadata": {},
   "outputs": [],
   "source": []
  },
  {
   "cell_type": "code",
   "execution_count": null,
   "id": "ab718d65",
   "metadata": {},
   "outputs": [],
   "source": []
  },
  {
   "cell_type": "code",
   "execution_count": null,
   "id": "b924dd27",
   "metadata": {},
   "outputs": [],
   "source": []
  }
 ],
 "metadata": {
  "kernelspec": {
   "display_name": "Python 3 (ipykernel)",
   "language": "python",
   "name": "python3"
  },
  "language_info": {
   "codemirror_mode": {
    "name": "ipython",
    "version": 3
   },
   "file_extension": ".py",
   "mimetype": "text/x-python",
   "name": "python",
   "nbconvert_exporter": "python",
   "pygments_lexer": "ipython3",
   "version": "3.12.7"
  }
 },
 "nbformat": 4,
 "nbformat_minor": 5
}
