{
 "cells": [
  {
   "cell_type": "code",
   "execution_count": 1,
   "metadata": {
    "ExecuteTime": {
     "end_time": "2023-10-31T08:17:22.640827Z",
     "start_time": "2023-10-31T08:17:22.161108400Z"
    },
    "collapsed": true,
    "jupyter": {
     "outputs_hidden": true
    }
   },
   "outputs": [],
   "source": [
    "from sampo.generator.base import SimpleSynthetic\n",
    "from sampo.generator.types import SyntheticGraphType"
   ]
  },
  {
   "cell_type": "markdown",
   "metadata": {
    "collapsed": false,
    "jupyter": {
     "outputs_hidden": false
    }
   },
   "source": [
    "# 1. Graph generation"
   ]
  },
  {
   "cell_type": "code",
   "execution_count": 2,
   "metadata": {
    "ExecuteTime": {
     "end_time": "2023-10-31T08:17:22.663581500Z",
     "start_time": "2023-10-31T08:17:22.640827Z"
    },
    "collapsed": false,
    "jupyter": {
     "outputs_hidden": false
    }
   },
   "outputs": [],
   "source": [
    "# SimpleSynthetic object used for the simple work graph structure generation\n",
    "\n",
    "r_seed = 231\n",
    "ss = SimpleSynthetic(r_seed)"
   ]
  },
  {
   "cell_type": "code",
   "execution_count": 3,
   "metadata": {
    "ExecuteTime": {
     "end_time": "2023-10-31T08:17:22.701082400Z",
     "start_time": "2023-10-31T08:17:22.681145200Z"
    },
    "collapsed": false,
    "jupyter": {
     "outputs_hidden": false
    }
   },
   "outputs": [],
   "source": [
    "# simple graph\n",
    "# should generate general (average) type of graph with 10 clusters from 100 to 200 vertices each\n",
    "\n",
    "simple_wg = ss.work_graph(mode=SyntheticGraphType.GENERAL,\n",
    "                          cluster_counts=10,\n",
    "                          bottom_border=100,\n",
    "                          top_border=200)"
   ]
  },
  {
   "cell_type": "code",
   "execution_count": 4,
   "metadata": {
    "ExecuteTime": {
     "end_time": "2023-10-31T08:17:29.710850800Z",
     "start_time": "2023-10-31T08:17:22.701082400Z"
    },
    "collapsed": false,
    "jupyter": {
     "outputs_hidden": false
    }
   },
   "outputs": [],
   "source": [
    "# complex graph\n",
    "# should generate general (average) type of graph with 300 unique works, 100 resources and 2000 vertices\n",
    "\n",
    "advanced_wg = ss.advanced_work_graph(works_count_top_border=2000,\n",
    "                                     uniq_works=300,\n",
    "                                     uniq_resources=100)"
   ]
  },
  {
   "cell_type": "markdown",
   "metadata": {
    "collapsed": false,
    "jupyter": {
     "outputs_hidden": false
    }
   },
   "source": [
    "# 2. Contractor generation"
   ]
  },
  {
   "cell_type": "code",
   "execution_count": 5,
   "metadata": {
    "ExecuteTime": {
     "end_time": "2023-10-31T08:17:29.731148Z",
     "start_time": "2023-10-31T08:17:29.710850800Z"
    },
    "collapsed": false,
    "jupyter": {
     "outputs_hidden": false
    }
   },
   "outputs": [],
   "source": [
    "from uuid import uuid4\n",
    "from sampo.schemas.resources import Worker\n",
    "from sampo.schemas.contractor import Contractor"
   ]
  },
  {
   "cell_type": "markdown",
   "metadata": {
    "collapsed": false,
    "jupyter": {
     "outputs_hidden": false
    }
   },
   "source": [
    "### Manual generation\n",
    "To create contractor, you should provide minimal info: unique id, contractor name, and supplied workers (simple renewable resources)."
   ]
  },
  {
   "cell_type": "code",
   "execution_count": 6,
   "metadata": {
    "ExecuteTime": {
     "end_time": "2023-10-31T08:17:29.751365800Z",
     "start_time": "2023-10-31T08:17:29.731148Z"
    },
    "collapsed": false,
    "jupyter": {
     "outputs_hidden": false
    }
   },
   "outputs": [],
   "source": [
    "contractors = [\n",
    "    Contractor(id=str(uuid4()),\n",
    "               name=\"OOO Berezka\",\n",
    "               workers={'worker' : Worker(id='0', name='worker', count=100)})\n",
    "]"
   ]
  },
  {
   "cell_type": "markdown",
   "metadata": {
    "collapsed": false,
    "jupyter": {
     "outputs_hidden": false
    }
   },
   "source": [
    "### Generation from graph"
   ]
  },
  {
   "cell_type": "code",
   "execution_count": 7,
   "metadata": {
    "ExecuteTime": {
     "end_time": "2023-10-31T08:17:29.770932Z",
     "start_time": "2023-10-31T08:17:29.751365800Z"
    },
    "collapsed": false,
    "jupyter": {
     "outputs_hidden": false
    }
   },
   "outputs": [],
   "source": [
    "from sampo.generator.environment.contractor_by_wg import get_contractor_by_wg\n",
    "\n",
    "contractors = [get_contractor_by_wg(simple_wg)]"
   ]
  },
  {
   "cell_type": "markdown",
   "metadata": {
    "collapsed": false,
    "jupyter": {
     "outputs_hidden": false
    }
   },
   "source": [
    "# 3. Scheduling"
   ]
  },
  {
   "cell_type": "markdown",
   "metadata": {
    "collapsed": false,
    "jupyter": {
     "outputs_hidden": false
    }
   },
   "source": [
    "### Scheduler construction\n",
    "Before scheduling you should specify scheduling algorithm used for transforming input data to the final schedule.\n",
    "At this time SAMPO contains heuristic algorithms, such as HEFTAddEnd, HEFTAddBetween and Topological scheduler, and the Genetic algorithm.\n",
    "While creation, you can specify the hyperparameters to fit the algorithm."
   ]
  },
  {
   "cell_type": "code",
   "execution_count": 8,
   "metadata": {
    "ExecuteTime": {
     "end_time": "2023-10-31T08:17:29.831002900Z",
     "start_time": "2023-10-31T08:17:29.770932Z"
    },
    "collapsed": false,
    "jupyter": {
     "outputs_hidden": false
    }
   },
   "outputs": [],
   "source": [
    "from sampo.scheduler.heft.base import HEFTScheduler\n",
    "\n",
    "# here we can just create simple heuristic scheduler\n",
    "scheduler = HEFTScheduler()"
   ]
  },
  {
   "cell_type": "code",
   "execution_count": 9,
   "metadata": {
    "ExecuteTime": {
     "end_time": "2023-10-31T08:17:29.851237100Z",
     "start_time": "2023-10-31T08:17:29.811172300Z"
    },
    "collapsed": false,
    "jupyter": {
     "outputs_hidden": false
    }
   },
   "outputs": [
    {
     "name": "stdout",
     "output_type": "stream",
     "text": [
      "Can not find native module; switching to default\n"
     ]
    }
   ],
   "source": [
    "from sampo.scheduler.genetic.base import GeneticScheduler\n",
    "\n",
    "# or more complex genetic scheduler\n",
    "scheduler = GeneticScheduler(mutate_order=0.05,\n",
    "                             mutate_resources=0.05)"
   ]
  },
  {
   "cell_type": "markdown",
   "metadata": {
    "collapsed": false,
    "jupyter": {
     "outputs_hidden": false
    }
   },
   "source": [
    "### Scheduling process\n",
    "SAMPO provides a simple interface to all its features.\n",
    "It called SchedulingPipeline.\n",
    "Using it you only should pass all the scheduling arguments, it remembers them, and you can produce schedules in many ways."
   ]
  },
  {
   "cell_type": "code",
   "execution_count": 10,
   "metadata": {
    "ExecuteTime": {
     "end_time": "2023-10-31T08:21:13.881802200Z",
     "start_time": "2023-10-31T08:17:29.851237100Z"
    },
    "collapsed": false,
    "jupyter": {
     "outputs_hidden": false
    }
   },
   "outputs": [
    {
     "name": "stdout",
     "output_type": "stream",
     "text": [
      "Genetic optimizing took 30.315876007080078 ms\n",
      "Toolbox initialization & first population took 5215.619802474976 ms\n",
      "First population evaluation took 4028.813600540161 ms\n",
      "-- Generation 1, population=50, best fitness=1120.0 --\n",
      "-- Generation 2, population=50, best fitness=1068.0 --\n",
      "-- Generation 3, population=50, best fitness=1016.0 --\n",
      "-- Generation 4, population=50, best fitness=1016.0 --\n",
      "-- Generation 5, population=50, best fitness=996.0 --\n",
      "-- Generation 6, population=50, best fitness=996.0 --\n",
      "-- Generation 7, population=50, best fitness=996.0 --\n",
      "-- Generation 8, population=50, best fitness=996.0 --\n",
      "-- Generation 9, population=50, best fitness=996.0 --\n",
      "-- Generation 10, population=50, best fitness=996.0 --\n",
      "-- Generation 11, population=50, best fitness=996.0 --\n",
      "-- Generation 12, population=50, best fitness=996.0 --\n",
      "-- Generation 13, population=50, best fitness=996.0 --\n",
      "-- Generation 14, population=50, best fitness=979.0 --\n",
      "-- Generation 15, population=50, best fitness=979.0 --\n",
      "-- Generation 16, population=50, best fitness=979.0 --\n",
      "-- Generation 17, population=50, best fitness=972.0 --\n",
      "-- Generation 18, population=50, best fitness=972.0 --\n",
      "-- Generation 19, population=50, best fitness=972.0 --\n",
      "-- Generation 20, population=50, best fitness=972.0 --\n",
      "-- Generation 21, population=50, best fitness=972.0 --\n",
      "-- Generation 22, population=50, best fitness=972.0 --\n",
      "-- Generation 23, population=50, best fitness=972.0 --\n",
      "-- Generation 24, population=50, best fitness=972.0 --\n",
      "-- Generation 25, population=50, best fitness=972.0 --\n",
      "-- Generation 26, population=50, best fitness=970.0 --\n",
      "-- Generation 27, population=50, best fitness=970.0 --\n",
      "-- Generation 28, population=50, best fitness=970.0 --\n",
      "-- Generation 29, population=50, best fitness=970.0 --\n",
      "-- Generation 30, population=50, best fitness=970.0 --\n",
      "-- Generation 31, population=50, best fitness=970.0 --\n",
      "-- Generation 32, population=50, best fitness=970.0 --\n",
      "-- Generation 33, population=50, best fitness=964.0 --\n",
      "-- Generation 34, population=50, best fitness=964.0 --\n",
      "-- Generation 35, population=50, best fitness=964.0 --\n",
      "-- Generation 36, population=50, best fitness=964.0 --\n",
      "-- Generation 37, population=50, best fitness=964.0 --\n",
      "-- Generation 38, population=50, best fitness=964.0 --\n",
      "-- Generation 39, population=50, best fitness=964.0 --\n",
      "-- Generation 40, population=50, best fitness=964.0 --\n",
      "-- Generation 41, population=50, best fitness=964.0 --\n",
      "-- Generation 42, population=50, best fitness=964.0 --\n",
      "-- Generation 43, population=50, best fitness=964.0 --\n",
      "-- Generation 44, population=50, best fitness=964.0 --\n",
      "-- Generation 45, population=50, best fitness=964.0 --\n",
      "-- Generation 46, population=50, best fitness=964.0 --\n",
      "-- Generation 47, population=50, best fitness=964.0 --\n",
      "-- Generation 48, population=50, best fitness=964.0 --\n",
      "-- Generation 49, population=50, best fitness=964.0 --\n",
      "-- Generation 50, population=50, best fitness=964.0 --\n",
      "Final time: 951.0\n",
      "Generations processing took 213235.8374595642 ms\n",
      "Full genetic processing took 222483.2377433777 ms\n",
      "Evaluation time: 204837.13102340698\n"
     ]
    },
    {
     "data": {
      "text/plain": [
       "951"
      ]
     },
     "execution_count": 10,
     "metadata": {},
     "output_type": "execute_result"
    }
   ],
   "source": [
    "from sampo.pipeline import SchedulingPipeline\n",
    "\n",
    "project = SchedulingPipeline.create() \\\n",
    "    .wg(simple_wg) \\\n",
    "    .contractors(contractors) \\\n",
    "    .schedule(scheduler) \\\n",
    "    .finish()[0]\n",
    "\n",
    "project.schedule.execution_time"
   ]
  },
  {
   "cell_type": "markdown",
   "metadata": {
    "collapsed": false,
    "jupyter": {
     "outputs_hidden": false
    }
   },
   "source": [
    "### Other metrics\n",
    "Genetic scheduler can do more than just optimize MakeSpan. It supports more metrics.\n",
    "Metrics are represented by `FitnessFunction` class and can be passed to `GeneticScheduler` on constructing.\n",
    "\n",
    "Here we're constructing Genetic that should optimize resources to deadline."
   ]
  },
  {
   "cell_type": "code",
   "execution_count": 11,
   "metadata": {
    "ExecuteTime": {
     "end_time": "2023-10-31T08:27:06.272880400Z",
     "start_time": "2023-10-31T08:21:13.896735100Z"
    },
    "collapsed": false,
    "jupyter": {
     "outputs_hidden": false
    }
   },
   "outputs": [
    {
     "name": "stdout",
     "output_type": "stream",
     "text": [
      "Genetic optimizing took 32.92560577392578 ms\n",
      "Toolbox initialization & first population took 5090.832233428955 ms\n",
      "First population evaluation took 4190.772771835327 ms\n",
      "-- Generation 1, population=50, best fitness=334.0 --\n",
      "-- Generation 1, population=50, best peak=334.0 --\n",
      "-- Generation 2, population=50, best peak=243.0 --\n",
      "-- Generation 3, population=50, best peak=243.0 --\n",
      "-- Generation 4, population=50, best peak=243.0 --\n",
      "-- Generation 5, population=50, best peak=243.0 --\n",
      "-- Generation 6, population=50, best peak=243.0 --\n",
      "-- Generation 7, population=50, best peak=243.0 --\n",
      "-- Generation 8, population=50, best peak=243.0 --\n",
      "-- Generation 9, population=50, best peak=243.0 --\n",
      "-- Generation 10, population=50, best peak=243.0 --\n",
      "-- Generation 11, population=50, best peak=243.0 --\n",
      "-- Generation 12, population=50, best peak=243.0 --\n",
      "-- Generation 13, population=50, best peak=229.0 --\n",
      "-- Generation 14, population=50, best peak=229.0 --\n",
      "-- Generation 15, population=50, best peak=229.0 --\n",
      "-- Generation 16, population=50, best peak=229.0 --\n",
      "-- Generation 17, population=50, best peak=229.0 --\n",
      "-- Generation 18, population=50, best peak=229.0 --\n",
      "-- Generation 19, population=50, best peak=229.0 --\n",
      "-- Generation 20, population=50, best peak=229.0 --\n",
      "-- Generation 21, population=50, best peak=229.0 --\n",
      "-- Generation 22, population=50, best peak=229.0 --\n",
      "-- Generation 23, population=50, best peak=229.0 --\n",
      "-- Generation 24, population=50, best peak=229.0 --\n",
      "-- Generation 25, population=50, best peak=229.0 --\n",
      "-- Generation 26, population=50, best peak=229.0 --\n",
      "-- Generation 27, population=50, best peak=229.0 --\n",
      "-- Generation 28, population=50, best peak=229.0 --\n",
      "-- Generation 29, population=50, best peak=229.0 --\n",
      "-- Generation 30, population=50, best peak=229.0 --\n",
      "-- Generation 31, population=50, best peak=229.0 --\n",
      "-- Generation 32, population=50, best peak=229.0 --\n",
      "-- Generation 33, population=50, best peak=229.0 --\n",
      "-- Generation 34, population=50, best peak=229.0 --\n",
      "-- Generation 35, population=50, best peak=229.0 --\n",
      "-- Generation 36, population=50, best peak=229.0 --\n",
      "-- Generation 37, population=50, best peak=229.0 --\n",
      "Final time: 229.0\n",
      "Generations processing took 339735.8045578003 ms\n",
      "Full genetic processing took 349020.9403038025 ms\n",
      "Evaluation time: 334693.89057159424\n"
     ]
    },
    {
     "data": {
      "text/plain": [
       "1756"
      ]
     },
     "execution_count": 11,
     "metadata": {},
     "output_type": "execute_result"
    }
   ],
   "source": [
    "from sampo.schemas.time import Time\n",
    "from sampo.scheduler.genetic.operators import DeadlineResourcesFitness\n",
    "\n",
    "deadline = Time(2000)\n",
    "# calling `prepare` method to pass explicit parameters to fitness function\n",
    "fitness_constructor = DeadlineResourcesFitness(deadline)\n",
    "\n",
    "scheduler = GeneticScheduler(mutate_order=0.05,\n",
    "                             mutate_resources=0.05,\n",
    "                             fitness_constructor=fitness_constructor)\n",
    "scheduler.set_deadline(deadline)\n",
    "\n",
    "project = SchedulingPipeline.create() \\\n",
    "    .wg(simple_wg) \\\n",
    "    .contractors(contractors) \\\n",
    "    .schedule(scheduler) \\\n",
    "    .finish()[0]\n",
    "\n",
    "project.schedule.execution_time"
   ]
  },
  {
   "cell_type": "markdown",
   "metadata": {
    "collapsed": false,
    "jupyter": {
     "outputs_hidden": false
    }
   },
   "source": [
    "Additionally, you can construct other metrics: deadline cost, time with resources (without deadline) fitness:"
   ]
  },
  {
   "cell_type": "code",
   "execution_count": 12,
   "metadata": {
    "ExecuteTime": {
     "end_time": "2023-10-31T08:28:08.257361900Z",
     "start_time": "2023-10-31T08:27:06.276925900Z"
    },
    "collapsed": false,
    "jupyter": {
     "outputs_hidden": false
    }
   },
   "outputs": [
    {
     "name": "stdout",
     "output_type": "stream",
     "text": [
      "Genetic optimizing took 32.875776290893555 ms\n",
      "Toolbox initialization & first population took 5288.079023361206 ms\n",
      "First population evaluation took 4078.0670642852783 ms\n",
      "-- Generation 1, population=50, best fitness=1375560.0 --\n",
      "-- Generation 2, population=50, best fitness=1375560.0 --\n",
      "-- Generation 3, population=50, best fitness=1375560.0 --\n",
      "-- Generation 4, population=50, best fitness=1375560.0 --\n",
      "-- Generation 5, population=50, best fitness=1375560.0 --\n",
      "-- Generation 6, population=50, best fitness=1375560.0 --\n",
      "-- Generation 7, population=50, best fitness=1375560.0 --\n",
      "-- Generation 8, population=50, best fitness=1375560.0 --\n",
      "-- Generation 9, population=50, best fitness=1375560.0 --\n",
      "-- Generation 10, population=50, best fitness=1375560.0 --\n",
      "-- Generation 11, population=50, best fitness=1375560.0 --\n",
      "-- Generation 12, population=50, best fitness=1375560.0 --\n",
      "Deadline not reached !!! Deadline 2000 < best time 1375560.0\n",
      "Final time: 1375560.0\n",
      "Generations processing took 49289.43705558777 ms\n",
      "Full genetic processing took 58659.178256988525 ms\n",
      "Evaluation time: 50605.92722892761\n"
     ]
    },
    {
     "data": {
      "text/plain": [
       "1737"
      ]
     },
     "execution_count": 12,
     "metadata": {},
     "output_type": "execute_result"
    }
   ],
   "source": [
    "from sampo.scheduler.genetic.operators import DeadlineCostFitness\n",
    "\n",
    "fitness_constructor = DeadlineCostFitness(deadline)\n",
    "\n",
    "scheduler = GeneticScheduler(mutate_order=0.05,\n",
    "                             mutate_resources=0.05,\n",
    "                             fitness_constructor=fitness_constructor)\n",
    "scheduler.set_deadline(deadline)\n",
    "\n",
    "project = SchedulingPipeline.create() \\\n",
    "    .wg(simple_wg) \\\n",
    "    .contractors(contractors) \\\n",
    "    .schedule(scheduler) \\\n",
    "    .finish()[0]\n",
    "\n",
    "project.schedule.execution_time"
   ]
  },
  {
   "cell_type": "code",
   "execution_count": 13,
   "metadata": {
    "ExecuteTime": {
     "end_time": "2023-10-31T08:35:20.615297500Z",
     "start_time": "2023-10-31T08:28:08.257361900Z"
    },
    "collapsed": false,
    "jupyter": {
     "outputs_hidden": false
    }
   },
   "outputs": [
    {
     "name": "stdout",
     "output_type": "stream",
     "text": [
      "Genetic optimizing took 30.807018280029297 ms\n",
      "Toolbox initialization & first population took 4955.848932266235 ms\n",
      "First population evaluation took 4028.3138751983643 ms\n",
      "-- Generation 1, population=50, best fitness=1523.0 --\n",
      "-- Generation 1, population=50, best peak=341.0 --\n",
      "-- Generation 2, population=50, best peak=307.0 --\n",
      "-- Generation 3, population=50, best peak=279.0 --\n",
      "-- Generation 4, population=50, best peak=269.0 --\n",
      "-- Generation 5, population=50, best peak=269.0 --\n",
      "-- Generation 6, population=50, best peak=269.0 --\n",
      "-- Generation 7, population=50, best peak=269.0 --\n",
      "-- Generation 8, population=50, best peak=269.0 --\n",
      "-- Generation 9, population=50, best peak=269.0 --\n",
      "-- Generation 10, population=50, best peak=269.0 --\n",
      "-- Generation 11, population=50, best peak=269.0 --\n",
      "-- Generation 12, population=50, best peak=269.0 --\n",
      "-- Generation 13, population=50, best peak=269.0 --\n",
      "-- Generation 14, population=50, best peak=269.0 --\n",
      "-- Generation 15, population=50, best peak=269.0 --\n",
      "-- Generation 16, population=50, best peak=269.0 --\n",
      "-- Generation 17, population=50, best peak=269.0 --\n",
      "-- Generation 18, population=50, best peak=263.0 --\n",
      "-- Generation 19, population=50, best peak=263.0 --\n",
      "-- Generation 20, population=50, best peak=263.0 --\n",
      "-- Generation 21, population=50, best peak=263.0 --\n",
      "-- Generation 22, population=50, best peak=263.0 --\n",
      "-- Generation 23, population=50, best peak=263.0 --\n",
      "-- Generation 24, population=50, best peak=263.0 --\n",
      "-- Generation 25, population=50, best peak=263.0 --\n",
      "-- Generation 26, population=50, best peak=263.0 --\n",
      "-- Generation 27, population=50, best peak=263.0 --\n",
      "-- Generation 28, population=50, best peak=263.0 --\n",
      "-- Generation 29, population=50, best peak=263.0 --\n",
      "-- Generation 30, population=50, best peak=263.0 --\n",
      "-- Generation 31, population=50, best peak=263.0 --\n",
      "-- Generation 32, population=50, best peak=263.0 --\n",
      "-- Generation 33, population=50, best peak=263.0 --\n",
      "-- Generation 34, population=50, best peak=263.0 --\n",
      "-- Generation 35, population=50, best peak=263.0 --\n",
      "-- Generation 36, population=50, best peak=263.0 --\n",
      "-- Generation 37, population=50, best peak=263.0 --\n",
      "-- Generation 38, population=50, best peak=251.0 --\n",
      "-- Generation 39, population=50, best peak=251.0 --\n",
      "-- Generation 40, population=50, best peak=251.0 --\n",
      "-- Generation 41, population=50, best peak=251.0 --\n",
      "-- Generation 42, population=50, best peak=251.0 --\n",
      "-- Generation 43, population=50, best peak=251.0 --\n",
      "-- Generation 44, population=50, best peak=251.0 --\n",
      "-- Generation 45, population=50, best peak=251.0 --\n",
      "-- Generation 46, population=50, best peak=251.0 --\n",
      "-- Generation 47, population=50, best peak=251.0 --\n",
      "-- Generation 48, population=50, best peak=251.0 --\n",
      "-- Generation 49, population=50, best peak=251.0 --\n",
      "-- Generation 50, population=50, best peak=251.0 --\n",
      "Final time: 251.0\n",
      "Generations processing took 420072.54123687744 ms\n",
      "Full genetic processing took 429056.70404434204 ms\n",
      "Evaluation time: 411582.2513103485\n"
     ]
    },
    {
     "data": {
      "text/plain": [
       "1441"
      ]
     },
     "execution_count": 13,
     "metadata": {},
     "output_type": "execute_result"
    }
   ],
   "source": [
    "from sampo.scheduler.genetic.operators import TimeWithResourcesFitness\n",
    "\n",
    "fitness_constructor = TimeWithResourcesFitness()\n",
    "\n",
    "scheduler = GeneticScheduler(mutate_order=0.05,\n",
    "                             mutate_resources=0.05,\n",
    "                             fitness_constructor=fitness_constructor)\n",
    "scheduler.set_deadline(deadline)\n",
    "\n",
    "project = SchedulingPipeline.create() \\\n",
    "    .wg(simple_wg) \\\n",
    "    .contractors(contractors) \\\n",
    "    .schedule(scheduler) \\\n",
    "    .finish()[0]\n",
    "\n",
    "project.schedule.execution_time"
   ]
  },
  {
   "cell_type": "code",
   "execution_count": 13,
   "metadata": {
    "ExecuteTime": {
     "end_time": "2023-10-31T08:35:20.674007700Z",
     "start_time": "2023-10-31T08:35:20.615367400Z"
    },
    "collapsed": false,
    "jupyter": {
     "outputs_hidden": false
    }
   },
   "outputs": [],
   "source": []
  }
 ],
 "metadata": {
  "kernelspec": {
   "display_name": "Python 3 (ipykernel)",
   "language": "python",
   "name": "python3"
  },
  "language_info": {
   "codemirror_mode": {
    "name": "ipython",
    "version": 3
   },
   "file_extension": ".py",
   "mimetype": "text/x-python",
   "name": "python",
   "nbconvert_exporter": "python",
   "pygments_lexer": "ipython3",
   "version": "3.12.2"
  }
 },
 "nbformat": 4,
 "nbformat_minor": 4
}
