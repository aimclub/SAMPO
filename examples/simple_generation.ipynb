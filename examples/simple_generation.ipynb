{
 "cells": [
  {
   "cell_type": "code",
   "execution_count": 1,
   "metadata": {
    "collapsed": true,
    "ExecuteTime": {
     "end_time": "2023-10-30T11:21:31.055771800Z",
     "start_time": "2023-10-30T11:21:29.736888300Z"
    }
   },
   "outputs": [],
   "source": [
    "from sampo.generator.base import SimpleSynthetic\n",
    "from sampo.generator.types import SyntheticGraphType"
   ]
  },
  {
   "cell_type": "markdown",
   "source": [
    "# 1. Graph generation"
   ],
   "metadata": {
    "collapsed": false
   }
  },
  {
   "cell_type": "code",
   "execution_count": 2,
   "outputs": [],
   "source": [
    "# SimpleSynthetic object used for the simple work graph structure generation\n",
    "\n",
    "r_seed = 231\n",
    "ss = SimpleSynthetic(r_seed)"
   ],
   "metadata": {
    "collapsed": false,
    "ExecuteTime": {
     "end_time": "2023-10-30T11:21:31.069733100Z",
     "start_time": "2023-10-30T11:21:31.055771800Z"
    }
   }
  },
  {
   "cell_type": "code",
   "execution_count": 3,
   "outputs": [],
   "source": [
    "# simple graph\n",
    "# should generate general (average) type of graph with 10 clusters from 100 to 200 vertices each\n",
    "\n",
    "simple_wg = ss.work_graph(mode=SyntheticGraphType.GENERAL,\n",
    "                          cluster_counts=10,\n",
    "                          bottom_border=100,\n",
    "                          top_border=200)"
   ],
   "metadata": {
    "collapsed": false,
    "ExecuteTime": {
     "end_time": "2023-10-30T11:21:31.107631500Z",
     "start_time": "2023-10-30T11:21:31.083698500Z"
    }
   }
  },
  {
   "cell_type": "code",
   "execution_count": 4,
   "outputs": [],
   "source": [
    "# complex graph\n",
    "# should generate general (average) type of graph with 300 unique works, 100 resources and 2000 vertices\n",
    "\n",
    "advanced_wg = ss.advanced_work_graph(works_count_top_border=2000,\n",
    "                                     uniq_works=300,\n",
    "                                     uniq_resources=100)"
   ],
   "metadata": {
    "collapsed": false,
    "ExecuteTime": {
     "end_time": "2023-10-30T11:21:38.124598200Z",
     "start_time": "2023-10-30T11:21:31.102645500Z"
    }
   }
  },
  {
   "cell_type": "markdown",
   "source": [
    "# 2. Contractor generation"
   ],
   "metadata": {
    "collapsed": false
   }
  },
  {
   "cell_type": "code",
   "execution_count": 5,
   "outputs": [],
   "source": [
    "from uuid import uuid4\n",
    "from sampo.schemas.resources import Worker\n",
    "from sampo.schemas.contractor import Contractor"
   ],
   "metadata": {
    "collapsed": false,
    "ExecuteTime": {
     "end_time": "2023-10-30T11:21:38.153209700Z",
     "start_time": "2023-10-30T11:21:38.123625400Z"
    }
   }
  },
  {
   "cell_type": "markdown",
   "source": [
    "### Manual generation\n",
    "To create contractor, you should provide minimal info: unique id, contractor name, and supplied workers (simple renewable resources)."
   ],
   "metadata": {
    "collapsed": false
   }
  },
  {
   "cell_type": "code",
   "execution_count": 6,
   "outputs": [],
   "source": [
    "contractors = [\n",
    "    Contractor(id=str(uuid4()),\n",
    "               name=\"OOO Berezka\",\n",
    "               workers={'worker' : Worker(id='0', name='worker', count=100)})\n",
    "]"
   ],
   "metadata": {
    "collapsed": false,
    "ExecuteTime": {
     "end_time": "2023-10-30T11:21:38.162187800Z",
     "start_time": "2023-10-30T11:21:38.141241900Z"
    }
   }
  },
  {
   "cell_type": "markdown",
   "source": [
    "### Generation from graph"
   ],
   "metadata": {
    "collapsed": false
   }
  },
  {
   "cell_type": "code",
   "execution_count": 7,
   "outputs": [],
   "source": [
    "from sampo.generator.environment.contractor_by_wg import get_contractor_by_wg\n",
    "\n",
    "contractors = [get_contractor_by_wg(simple_wg)]"
   ],
   "metadata": {
    "collapsed": false,
    "ExecuteTime": {
     "end_time": "2023-10-30T11:21:38.175487800Z",
     "start_time": "2023-10-30T11:21:38.156204500Z"
    }
   }
  },
  {
   "cell_type": "markdown",
   "source": [
    "# 3. Scheduling"
   ],
   "metadata": {
    "collapsed": false
   }
  },
  {
   "cell_type": "markdown",
   "source": [
    "### Scheduler construction\n",
    "Before scheduling you should specify scheduling algorithm used for transforming input data to the final schedule.\n",
    "At this time SAMPO contains heuristic algorithms, such as HEFTAddEnd, HEFTAddBetween and Topological scheduler, and the Genetic algorithm.\n",
    "While creation, you can specify the hyperparameters to fit the algorithm."
   ],
   "metadata": {
    "collapsed": false
   }
  },
  {
   "cell_type": "code",
   "execution_count": 8,
   "outputs": [],
   "source": [
    "from sampo.scheduler.heft.base import HEFTScheduler\n",
    "\n",
    "# here we can just create simple heuristic scheduler\n",
    "scheduler = HEFTScheduler()"
   ],
   "metadata": {
    "collapsed": false,
    "ExecuteTime": {
     "end_time": "2023-10-30T11:21:38.248502Z",
     "start_time": "2023-10-30T11:21:38.171500500Z"
    }
   }
  },
  {
   "cell_type": "code",
   "execution_count": 9,
   "outputs": [
    {
     "name": "stdout",
     "output_type": "stream",
     "text": [
      "Can not find native module; switching to default\n"
     ]
    }
   ],
   "source": [
    "from sampo.scheduler.genetic.base import GeneticScheduler\n",
    "\n",
    "# or more complex genetic scheduler\n",
    "scheduler = GeneticScheduler(mutate_order=0.1,\n",
    "                             mutate_resources=0.3)"
   ],
   "metadata": {
    "collapsed": false,
    "ExecuteTime": {
     "end_time": "2023-10-30T11:21:38.326329400Z",
     "start_time": "2023-10-30T11:21:38.249500400Z"
    }
   }
  },
  {
   "cell_type": "markdown",
   "source": [
    "### Scheduling process\n",
    "SAMPO provides a simple interface to all its features.\n",
    "It called SchedulingPipeline.\n",
    "Using it you only should pass all the scheduling arguments, it remembers them, and you can produce schedules in many ways."
   ],
   "metadata": {
    "collapsed": false
   }
  },
  {
   "cell_type": "code",
   "execution_count": 10,
   "outputs": [
    {
     "name": "stdout",
     "output_type": "stream",
     "text": [
      "Genetic optimizing took 32.912254333496094 ms\n"
     ]
    },
    {
     "name": "stderr",
     "output_type": "stream",
     "text": [
      "\n",
      "KeyboardInterrupt\n",
      "\n"
     ]
    }
   ],
   "source": [
    "from sampo.pipeline import SchedulingPipeline\n",
    "\n",
    "schedule = SchedulingPipeline.create() \\\n",
    "    .wg(simple_wg) \\\n",
    "    .contractors(contractors) \\\n",
    "    .schedule(scheduler) \\\n",
    "    .finish()\n",
    "\n",
    "schedule.execution_time"
   ],
   "metadata": {
    "collapsed": false,
    "ExecuteTime": {
     "end_time": "2023-10-30T11:21:43.035314100Z",
     "start_time": "2023-10-30T11:21:38.328324600Z"
    }
   }
  },
  {
   "cell_type": "markdown",
   "source": [
    "### Other metrics\n",
    "Genetic scheduler can do more than just optimize MakeSpan. It supports more metrics.\n",
    "Metrics are represented by `FitnessFunction` class and can be passed to `GeneticScheduler` on constructing.\n",
    "\n",
    "Here we're constructing Genetic that should optimize resources to deadline."
   ],
   "metadata": {
    "collapsed": false
   }
  },
  {
   "cell_type": "code",
   "execution_count": null,
   "outputs": [],
   "source": [
    "from sampo.schemas.time import Time\n",
    "from sampo.scheduler.genetic.operators import DeadlineResourcesFitness\n",
    "\n",
    "deadline = Time(2000)\n",
    "# calling `prepare` method to pass explicit parameters to fitness function\n",
    "fitness_constructor = DeadlineResourcesFitness.prepare(deadline)\n",
    "\n",
    "scheduler = GeneticScheduler(mutate_order=0.1,\n",
    "                             mutate_resources=0.3,\n",
    "                             fitness_constructor=fitness_constructor)\n",
    "scheduler.set_deadline(deadline)\n",
    "\n",
    "schedule = SchedulingPipeline.create() \\\n",
    "    .wg(simple_wg) \\\n",
    "    .contractors(contractors) \\\n",
    "    .schedule(scheduler) \\\n",
    "    .finish()\n",
    "\n",
    "schedule.execution_time"
   ],
   "metadata": {
    "collapsed": false,
    "ExecuteTime": {
     "start_time": "2023-10-30T11:21:43.028359300Z"
    }
   }
  },
  {
   "cell_type": "markdown",
   "source": [
    "Additionally, you can construct other metrics: deadline cost, time with resources (without deadline) fitness:"
   ],
   "metadata": {
    "collapsed": false
   }
  },
  {
   "cell_type": "code",
   "execution_count": null,
   "outputs": [],
   "source": [
    "from sampo.scheduler.genetic.operators import DeadlineCostFitness\n",
    "\n",
    "fitness_constructor = DeadlineCostFitness.prepare(deadline)\n",
    "\n",
    "scheduler = GeneticScheduler(mutate_order=0.1,\n",
    "                             mutate_resources=0.3,\n",
    "                             fitness_constructor=fitness_constructor)\n",
    "scheduler.set_deadline(deadline)\n",
    "\n",
    "schedule = SchedulingPipeline.create() \\\n",
    "    .wg(simple_wg) \\\n",
    "    .contractors(contractors) \\\n",
    "    .schedule(scheduler) \\\n",
    "    .finish()\n",
    "\n",
    "schedule.execution_time"
   ],
   "metadata": {
    "collapsed": false,
    "ExecuteTime": {
     "start_time": "2023-10-30T11:21:43.030352900Z"
    }
   }
  },
  {
   "cell_type": "code",
   "execution_count": null,
   "outputs": [],
   "source": [
    "from sampo.scheduler.genetic.operators import TimeAndResourcesFitness\n",
    "\n",
    "fitness_constructor = TimeAndResourcesFitness\n",
    "\n",
    "scheduler = GeneticScheduler(mutate_order=0.1,\n",
    "                             mutate_resources=0.3,\n",
    "                             fitness_constructor=fitness_constructor)\n",
    "scheduler.set_deadline(deadline)\n",
    "\n",
    "schedule = SchedulingPipeline.create() \\\n",
    "    .wg(simple_wg) \\\n",
    "    .contractors(contractors) \\\n",
    "    .schedule(scheduler) \\\n",
    "    .finish()\n",
    "\n",
    "schedule.execution_time"
   ],
   "metadata": {
    "collapsed": false,
    "ExecuteTime": {
     "start_time": "2023-10-30T11:21:43.032349300Z"
    }
   }
  },
  {
   "cell_type": "code",
   "execution_count": null,
   "outputs": [],
   "source": [],
   "metadata": {
    "collapsed": false,
    "ExecuteTime": {
     "start_time": "2023-10-30T11:21:43.034341900Z"
    }
   }
  }
 ],
 "metadata": {
  "kernelspec": {
   "display_name": "Python 3",
   "language": "python",
   "name": "python3"
  },
  "language_info": {
   "codemirror_mode": {
    "name": "ipython",
    "version": 2
   },
   "file_extension": ".py",
   "mimetype": "text/x-python",
   "name": "python",
   "nbconvert_exporter": "python",
   "pygments_lexer": "ipython2",
   "version": "2.7.6"
  }
 },
 "nbformat": 4,
 "nbformat_minor": 0
}
