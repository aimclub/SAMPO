{
 "cells": [
  {
   "cell_type": "code",
   "execution_count": 1,
   "metadata": {
    "collapsed": true,
    "ExecuteTime": {
     "end_time": "2023-12-22T13:31:48.569172Z",
     "start_time": "2023-12-22T13:31:48.087793800Z"
    }
   },
   "outputs": [],
   "source": [
    "from sampo.generator.base import SimpleSynthetic\n",
    "from sampo.generator import SyntheticGraphType"
   ]
  },
  {
   "cell_type": "markdown",
   "source": [
    "# 1. Graph generation"
   ],
   "metadata": {
    "collapsed": false
   }
  },
  {
   "cell_type": "markdown",
   "source": [
    "### Synthetic graphs\n",
    "There is `SimpleSynthetic` class that should be used for synthetic graph generation.\n",
    "It has enough methods to generate whatever you want to give to scheduler."
   ],
   "metadata": {
    "collapsed": false
   }
  },
  {
   "cell_type": "code",
   "execution_count": 2,
   "outputs": [],
   "source": [
    "# SimpleSynthetic object used for the simple work graph structure generation\n",
    "\n",
    "r_seed = 231\n",
    "ss = SimpleSynthetic(r_seed)"
   ],
   "metadata": {
    "collapsed": false,
    "ExecuteTime": {
     "end_time": "2023-12-22T13:31:48.585171500Z",
     "start_time": "2023-12-22T13:31:48.570173200Z"
    }
   }
  },
  {
   "cell_type": "code",
   "execution_count": 3,
   "outputs": [
    {
     "data": {
      "text/plain": "180"
     },
     "execution_count": 3,
     "metadata": {},
     "output_type": "execute_result"
    }
   ],
   "source": [
    "# simple graph\n",
    "# should generate general (average) type of graph with 10 clusters from 100 to 200 vertices each\n",
    "\n",
    "wg = ss.work_graph(mode=SyntheticGraphType.GENERAL,\n",
    "                   cluster_counts=10,\n",
    "                   bottom_border=100,\n",
    "                   top_border=200)\n",
    "wg.vertex_count"
   ],
   "metadata": {
    "collapsed": false,
    "ExecuteTime": {
     "end_time": "2023-12-22T13:31:48.631170100Z",
     "start_time": "2023-12-22T13:31:48.586173200Z"
    }
   }
  },
  {
   "cell_type": "markdown",
   "source": [
    "# StructureEstimator creation"
   ],
   "metadata": {
    "collapsed": false
   }
  },
  {
   "cell_type": "code",
   "execution_count": 9,
   "outputs": [],
   "source": [
    "from random import Random\n",
    "from sampo.schemas.structure_estimator import DefaultStructureEstimator, DefaultStructureGenerationEstimator\n",
    "\n",
    "rand = Random(r_seed)\n",
    "generator = DefaultStructureGenerationEstimator(rand)\n",
    "\n",
    "sub_works = [f'Sub-work {i}' for i in range(5)]\n",
    "\n",
    "# assign 5 uniform-distributed generations to each non-service node \n",
    "for node in wg.nodes:\n",
    "    if node.work_unit.is_service_unit:\n",
    "        continue\n",
    "    for sub_work in sub_works:\n",
    "        generator.set_probability(parent=node.work_unit.name, child=sub_work, probability=1 / len(sub_works))\n",
    "\n",
    "structure_estimator = DefaultStructureEstimator(generator, rand) "
   ],
   "metadata": {
    "collapsed": false,
    "ExecuteTime": {
     "end_time": "2023-12-22T13:34:00.420452500Z",
     "start_time": "2023-12-22T13:34:00.405423300Z"
    }
   }
  },
  {
   "cell_type": "code",
   "execution_count": 14,
   "outputs": [
    {
     "data": {
      "text/plain": "357"
     },
     "execution_count": 14,
     "metadata": {},
     "output_type": "execute_result"
    }
   ],
   "source": [
    "from sampo.pipeline.preparation import PreparationPipeline\n",
    "\n",
    "restructed_wg = PreparationPipeline() \\\n",
    "    .wg(wg) \\\n",
    "    .structure_estimator(structure_estimator) \\\n",
    "    .build_wg()\n",
    "restructed_wg.vertex_count"
   ],
   "metadata": {
    "collapsed": false,
    "ExecuteTime": {
     "end_time": "2023-12-22T13:37:41.070206900Z",
     "start_time": "2023-12-22T13:37:40.681199700Z"
    }
   }
  },
  {
   "cell_type": "code",
   "execution_count": null,
   "outputs": [],
   "source": [],
   "metadata": {
    "collapsed": false
   }
  }
 ],
 "metadata": {
  "kernelspec": {
   "display_name": "Python 3",
   "language": "python",
   "name": "python3"
  },
  "language_info": {
   "codemirror_mode": {
    "name": "ipython",
    "version": 2
   },
   "file_extension": ".py",
   "mimetype": "text/x-python",
   "name": "python",
   "nbconvert_exporter": "python",
   "pygments_lexer": "ipython2",
   "version": "2.7.6"
  }
 },
 "nbformat": 4,
 "nbformat_minor": 0
}
