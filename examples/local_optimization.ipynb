{
 "cells": [
  {
   "cell_type": "code",
   "execution_count": 1,
   "metadata": {
    "collapsed": true,
    "ExecuteTime": {
     "start_time": "2023-07-01T21:15:24.697601Z",
     "end_time": "2023-07-01T21:15:25.125812Z"
    }
   },
   "outputs": [],
   "source": [
    "from sampo.generator import SimpleSynthetic, get_contractor_by_wg\n",
    "from sampo.generator.types import SyntheticGraphType\n",
    "from sampo.scheduler.heft.base import HEFTScheduler\n",
    "from sampo.pipeline import SchedulingPipeline"
   ]
  },
  {
   "cell_type": "markdown",
   "source": [
    "# 1. Data preparation"
   ],
   "metadata": {
    "collapsed": false
   }
  },
  {
   "cell_type": "code",
   "execution_count": 2,
   "outputs": [],
   "source": [
    "# SimpleSynthetic object used for the simple work graph structure generation\n",
    "\n",
    "r_seed = 231\n",
    "ss = SimpleSynthetic(r_seed)\n",
    "\n",
    "# simple graph\n",
    "# should generate general (average) type of graph with 10 clusters from 100 to 200 vertices each\n",
    "\n",
    "simple_wg = ss.work_graph(mode=SyntheticGraphType.General,\n",
    "                          cluster_counts=10,\n",
    "                          bottom_border=100,\n",
    "                          top_border=200)\n",
    "\n",
    "contractors = [get_contractor_by_wg(simple_wg)]\n",
    "\n",
    "scheduler = HEFTScheduler()"
   ],
   "metadata": {
    "collapsed": false,
    "ExecuteTime": {
     "start_time": "2023-07-01T21:15:25.122811Z",
     "end_time": "2023-07-01T21:15:25.154843Z"
    }
   }
  },
  {
   "cell_type": "markdown",
   "source": [
    "# 2. Local optimization\n",
    "There are two types of local optimization in SAMPO: order and schedule."
   ],
   "metadata": {
    "collapsed": false
   }
  },
  {
   "cell_type": "markdown",
   "source": [
    "### Scheduling order optimization\n",
    "This local optimization should rearrange scheduling order to improve scheduling results."
   ],
   "metadata": {
    "collapsed": false
   }
  },
  {
   "cell_type": "code",
   "execution_count": 3,
   "outputs": [
    {
     "name": "stdout",
     "output_type": "stream",
     "text": [
      "Swapped 1 times!\n",
      "Swapped 1 times!\n"
     ]
    },
    {
     "data": {
      "text/plain": "8661"
     },
     "execution_count": 3,
     "metadata": {},
     "output_type": "execute_result"
    }
   ],
   "source": [
    "from sampo.scheduler.utils.local_optimization import SwapOrderLocalOptimizer\n",
    "\n",
    "local_optimizer = SwapOrderLocalOptimizer()\n",
    "\n",
    "schedule = SchedulingPipeline.create() \\\n",
    "    .wg(simple_wg) \\\n",
    "    .contractors(contractors) \\\n",
    "    .optimize_local(local_optimizer, range(0, 10)) \\\n",
    "    .schedule(scheduler) \\\n",
    "    .finish()\n",
    "\n",
    "schedule.execution_time"
   ],
   "metadata": {
    "collapsed": false,
    "ExecuteTime": {
     "start_time": "2023-07-01T21:15:27.212547Z",
     "end_time": "2023-07-01T21:15:27.796855Z"
    }
   }
  },
  {
   "cell_type": "markdown",
   "source": [
    "### Schedule optimization\n",
    "This local optimization should recalculate parts of schedule to make it better."
   ],
   "metadata": {
    "collapsed": false
   }
  },
  {
   "cell_type": "code",
   "execution_count": 4,
   "outputs": [
    {
     "name": "stdout",
     "output_type": "stream",
     "text": [
      "Found! finish of project finish of project\n"
     ]
    },
    {
     "data": {
      "text/plain": "8661"
     },
     "execution_count": 4,
     "metadata": {},
     "output_type": "execute_result"
    }
   ],
   "source": [
    "from sampo.scheduler.timeline.just_in_time_timeline import JustInTimeTimeline\n",
    "from sampo.scheduler.utils.local_optimization import ParallelizeScheduleLocalOptimizer\n",
    "\n",
    "local_optimizer = ParallelizeScheduleLocalOptimizer(JustInTimeTimeline)\n",
    "\n",
    "schedule = SchedulingPipeline.create() \\\n",
    "    .wg(simple_wg) \\\n",
    "    .contractors(contractors) \\\n",
    "    .schedule(scheduler) \\\n",
    "    .optimize_local(local_optimizer, range(0, 5)) \\\n",
    "    .finish()\n",
    "\n",
    "schedule.execution_time"
   ],
   "metadata": {
    "collapsed": false,
    "ExecuteTime": {
     "start_time": "2023-07-01T21:15:28.199018Z",
     "end_time": "2023-07-01T21:15:28.861640Z"
    }
   }
  },
  {
   "cell_type": "markdown",
   "source": [
    "### Both\n",
    "Using pipeline you can apply both type of optimizations.\n",
    "You also can stack local optimizers, they should be applied sequentially."
   ],
   "metadata": {
    "collapsed": false
   }
  },
  {
   "cell_type": "code",
   "execution_count": 5,
   "outputs": [
    {
     "name": "stdout",
     "output_type": "stream",
     "text": [
      "Swapped 27 times!\n",
      "Swapped 33 times!\n",
      "Swapped 13 times!\n",
      "Swapped 14 times!\n",
      "Found! temporary road engineering preparation\n",
      "Found! finish of project elem of pipe_network\n",
      "Found! finish of project elem of pipe_network\n",
      "Found! finish of project elem of pipe_network\n",
      "Found! finish of project elem of pipe_network\n",
      "Found! pipe drainage tank\n",
      "Found! pipe KTP and NEP\n",
      "Found! finish of project high power line\n",
      "Found! pipe block local automation\n",
      "Found! pipe metering installation\n",
      "Found! pipe block dosage inhibitor\n",
      "Found! pipe KTP and NEP\n",
      "Found! pipe metering installation\n",
      "Found! pipe start filters system\n",
      "Found! pipe block water distribution\n",
      "Found! pipe drainage tank\n",
      "Found! pipe firewall tank\n",
      "Found! finish of project elem of pipe_network\n",
      "Found! finish of project elem of pipe_network\n",
      "Found! finish of project elem of pipe_network\n",
      "Found! finish of project mast\n",
      "Found! finish of project mast\n",
      "Found! finish of project power network\n",
      "Found! finish of project pipe\n",
      "Found! finish of project pipe\n",
      "Found! finish of project power line\n",
      "Found! finish of project power line\n",
      "Found! finish of project pipe\n",
      "Found! finish of project looping\n",
      "Found! finish of project borehole\n",
      "Found! finish of project borehole\n",
      "Found! finish of project borehole\n",
      "Found! finish of project borehole\n",
      "Found! finish of project borehole\n",
      "Found! finish of project borehole\n",
      "Found! finish of project borehole\n",
      "Found! finish of project borehole\n",
      "Found! finish of project borehole\n",
      "Found! finish of project borehole\n",
      "Found! finish of project borehole\n",
      "Found! finish of project borehole\n",
      "Found! finish of project borehole\n",
      "Found! finish of project borehole\n",
      "Found! finish of project borehole\n",
      "Found! finish of project borehole\n",
      "Found! finish of project borehole\n",
      "Found! finish of project borehole\n",
      "Found! finish of project node\n",
      "Found! finish of project node\n",
      "Found! finish of project node\n",
      "Found! finish of project final road\n",
      "Found! cluster handing finish of project\n",
      "Found! engineering preparation temporary road\n",
      "Found! final road engineering preparation\n",
      "Found! node final road\n",
      "Found! node elem of pipe_network\n",
      "Found! node elem of pipe_network\n",
      "Found! node elem of pipe_network\n",
      "Found! node elem of pipe_network\n",
      "Found! node elem of pipe_network\n",
      "Found! pipe pipe\n",
      "Found! power network KTP and NEP\n",
      "Found! power network block local automation\n",
      "Found! power network drainage tank\n",
      "Found! power network metering installation\n",
      "Found! power network KTP and NEP\n",
      "Found! power network metering installation\n",
      "Found! power network block dosage inhibitor\n",
      "Found! power network start filters system\n",
      "Found! power network block water distribution\n",
      "Found! power network drainage tank\n",
      "Found! power network firewall tank\n",
      "Found! node elem of pipe_network\n",
      "Found! node elem of pipe_network\n",
      "Found! node elem of pipe_network\n",
      "Found! node elem of pipe_network\n",
      "Found! node elem of pipe_network\n",
      "Found! node mast\n",
      "Found! node mast\n",
      "Found! node mast\n",
      "Found! node mast\n",
      "Found! node pipe\n",
      "Found! node pipe\n",
      "Found! node pipe\n",
      "Found! node pipe\n",
      "Found! node looping\n",
      "Found! node power line\n",
      "Found! node power line\n",
      "Found! node power network\n",
      "Found! node borehole\n",
      "Found! node borehole\n",
      "Found! node borehole\n",
      "Found! node borehole\n",
      "Found! node borehole\n",
      "Found! node borehole\n",
      "Found! node borehole\n",
      "Found! node borehole\n",
      "Found! node borehole\n",
      "Found! node borehole\n",
      "Found! node borehole\n",
      "Found! node borehole\n",
      "Found! node borehole\n",
      "Found! node borehole\n",
      "Found! node borehole\n",
      "Found! node borehole\n",
      "Found! node borehole\n",
      "Found! node borehole\n",
      "Found! node borehole\n",
      "Found! node borehole\n",
      "Found! node borehole\n",
      "Found! node borehole\n",
      "Found! node borehole\n",
      "Found! node borehole\n",
      "Found! node borehole\n",
      "Found! node high power line\n",
      "Found! node node\n",
      "Found! node node\n",
      "Found! node node\n"
     ]
    },
    {
     "data": {
      "text/plain": "8661"
     },
     "execution_count": 5,
     "metadata": {},
     "output_type": "execute_result"
    }
   ],
   "source": [
    "from sampo.pipeline import SchedulingPipeline\n",
    "\n",
    "order_optimizer = SwapOrderLocalOptimizer()\n",
    "schedule_optimizer = ParallelizeScheduleLocalOptimizer(JustInTimeTimeline)\n",
    "\n",
    "schedule = SchedulingPipeline.create() \\\n",
    "    .wg(simple_wg) \\\n",
    "    .contractors(contractors) \\\n",
    "    .optimize_local(order_optimizer, range(0, simple_wg.vertex_count // 2)) \\\n",
    "    .optimize_local(order_optimizer, range(simple_wg.vertex_count // 2, simple_wg.vertex_count)) \\\n",
    "    .schedule(scheduler) \\\n",
    "    .optimize_local(schedule_optimizer, range(0, simple_wg.vertex_count // 2)) \\\n",
    "    .optimize_local(schedule_optimizer, range(simple_wg.vertex_count // 2, simple_wg.vertex_count)) \\\n",
    "    .finish()\n",
    "\n",
    "schedule.execution_time"
   ],
   "metadata": {
    "collapsed": false,
    "ExecuteTime": {
     "start_time": "2023-07-01T21:15:30.679374Z",
     "end_time": "2023-07-01T21:15:31.396371Z"
    }
   }
  },
  {
   "cell_type": "code",
   "execution_count": null,
   "outputs": [],
   "source": [],
   "metadata": {
    "collapsed": false
   }
  }
 ],
 "metadata": {
  "kernelspec": {
   "display_name": "Python 3",
   "language": "python",
   "name": "python3"
  },
  "language_info": {
   "codemirror_mode": {
    "name": "ipython",
    "version": 2
   },
   "file_extension": ".py",
   "mimetype": "text/x-python",
   "name": "python",
   "nbconvert_exporter": "python",
   "pygments_lexer": "ipython2",
   "version": "2.7.6"
  }
 },
 "nbformat": 4,
 "nbformat_minor": 0
}
