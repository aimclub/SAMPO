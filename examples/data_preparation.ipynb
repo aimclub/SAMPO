{
 "cells": [
  {
   "cell_type": "code",
   "execution_count": 4,
   "metadata": {
    "collapsed": true,
    "ExecuteTime": {
     "end_time": "2023-11-21T08:52:14.776501100Z",
     "start_time": "2023-11-21T08:52:14.189646700Z"
    }
   },
   "outputs": [],
   "source": [
    "from sampo.generator.base import SimpleSynthetic\n",
    "from sampo.generator.types import SyntheticGraphType"
   ]
  },
  {
   "cell_type": "markdown",
   "source": [
    "# 1. Graph generation"
   ],
   "metadata": {
    "collapsed": false
   }
  },
  {
   "cell_type": "markdown",
   "source": [
    "### Synthetic graphs\n",
    "There is `SimpleSynthetic` class that should be used for synthetic graph generation.\n",
    "It has enough methods to generate whatever you want to give to scheduler."
   ],
   "metadata": {
    "collapsed": false
   }
  },
  {
   "cell_type": "code",
   "execution_count": 5,
   "outputs": [],
   "source": [
    "# SimpleSynthetic object used for the simple work graph structure generation\n",
    "\n",
    "r_seed = 231\n",
    "ss = SimpleSynthetic(r_seed)"
   ],
   "metadata": {
    "collapsed": false,
    "ExecuteTime": {
     "end_time": "2023-11-21T08:52:16.744126300Z",
     "start_time": "2023-11-21T08:52:16.728785Z"
    }
   }
  },
  {
   "cell_type": "code",
   "execution_count": 6,
   "outputs": [],
   "source": [
    "# simple graph\n",
    "# should generate general (average) type of graph with 10 clusters from 100 to 200 vertices each\n",
    "\n",
    "simple_wg = ss.work_graph(mode=SyntheticGraphType.GENERAL,\n",
    "                          cluster_counts=10,\n",
    "                          bottom_border=100,\n",
    "                          top_border=200)"
   ],
   "metadata": {
    "collapsed": false,
    "ExecuteTime": {
     "end_time": "2023-11-21T08:52:17.676770300Z",
     "start_time": "2023-11-21T08:52:17.643293700Z"
    }
   }
  },
  {
   "cell_type": "code",
   "execution_count": 7,
   "outputs": [
    {
     "ename": "TypeError",
     "evalue": "'NoneType' object is not iterable",
     "output_type": "error",
     "traceback": [
      "\u001B[1;31m---------------------------------------------------------------------------\u001B[0m",
      "\u001B[1;31mTypeError\u001B[0m                                 Traceback (most recent call last)",
      "Cell \u001B[1;32mIn[7], line 4\u001B[0m\n\u001B[0;32m      1\u001B[0m \u001B[38;5;66;03m# complex graph\u001B[39;00m\n\u001B[0;32m      2\u001B[0m \u001B[38;5;66;03m# should generate general (average) type of graph with 300 unique works, 100 resources and 2000 vertices\u001B[39;00m\n\u001B[1;32m----> 4\u001B[0m advanced_wg \u001B[38;5;241m=\u001B[39m \u001B[43mss\u001B[49m\u001B[38;5;241;43m.\u001B[39;49m\u001B[43madvanced_work_graph\u001B[49m\u001B[43m(\u001B[49m\u001B[43mworks_count_top_border\u001B[49m\u001B[38;5;241;43m=\u001B[39;49m\u001B[38;5;241;43m2000\u001B[39;49m\u001B[43m,\u001B[49m\n\u001B[0;32m      5\u001B[0m \u001B[43m                                     \u001B[49m\u001B[43muniq_works\u001B[49m\u001B[38;5;241;43m=\u001B[39;49m\u001B[38;5;241;43m300\u001B[39;49m\u001B[43m,\u001B[49m\n\u001B[0;32m      6\u001B[0m \u001B[43m                                     \u001B[49m\u001B[43muniq_resources\u001B[49m\u001B[38;5;241;43m=\u001B[39;49m\u001B[38;5;241;43m100\u001B[39;49m\u001B[43m)\u001B[49m\n",
      "File \u001B[1;32m~\\PycharmProjects\\sampo\\sampo\\generator\\base.py:72\u001B[0m, in \u001B[0;36mSimpleSynthetic.advanced_work_graph\u001B[1;34m(self, works_count_top_border, uniq_works, uniq_resources)\u001B[0m\n\u001B[0;32m     70\u001B[0m wg \u001B[38;5;241m=\u001B[39m \u001B[38;5;28mself\u001B[39m\u001B[38;5;241m.\u001B[39mwork_graph(top_border\u001B[38;5;241m=\u001B[39mworks_count_top_border)\n\u001B[0;32m     71\u001B[0m wg \u001B[38;5;241m=\u001B[39m extend_names(uniq_works, wg, \u001B[38;5;28mself\u001B[39m\u001B[38;5;241m.\u001B[39m_rand)\n\u001B[1;32m---> 72\u001B[0m wg \u001B[38;5;241m=\u001B[39m \u001B[43mextend_resources\u001B[49m\u001B[43m(\u001B[49m\u001B[43muniq_resources\u001B[49m\u001B[43m,\u001B[49m\u001B[43m \u001B[49m\u001B[43mwg\u001B[49m\u001B[43m,\u001B[49m\u001B[43m \u001B[49m\u001B[38;5;28;43mself\u001B[39;49m\u001B[38;5;241;43m.\u001B[39;49m\u001B[43m_rand\u001B[49m\u001B[43m)\u001B[49m\n\u001B[0;32m     73\u001B[0m \u001B[38;5;28;01mreturn\u001B[39;00m wg\n",
      "File \u001B[1;32m~\\PycharmProjects\\sampo\\sampo\\generator\\pipeline\\extension.py:62\u001B[0m, in \u001B[0;36mextend_resources\u001B[1;34m(uniq_resources, wg, rand)\u001B[0m\n\u001B[0;32m     53\u001B[0m \u001B[38;5;28;01mdef\u001B[39;00m \u001B[38;5;21mextend_resources\u001B[39m(uniq_resources: \u001B[38;5;28mint\u001B[39m, wg: WorkGraph, rand: Random) \u001B[38;5;241m-\u001B[39m\u001B[38;5;241m>\u001B[39m WorkGraph:\n\u001B[0;32m     54\u001B[0m \u001B[38;5;250m    \u001B[39m\u001B[38;5;124;03m\"\"\"\u001B[39;00m\n\u001B[0;32m     55\u001B[0m \u001B[38;5;124;03m    Increases the number of unique resources in WorkGraph\u001B[39;00m\n\u001B[0;32m     56\u001B[0m \n\u001B[1;32m   (...)\u001B[0m\n\u001B[0;32m     60\u001B[0m \u001B[38;5;124;03m    :return: modified WorkGraph\u001B[39;00m\n\u001B[0;32m     61\u001B[0m \u001B[38;5;124;03m    \"\"\"\u001B[39;00m\n\u001B[1;32m---> 62\u001B[0m     \u001B[38;5;28;01mreturn\u001B[39;00m \u001B[43m_extend_str_fields\u001B[49m\u001B[43m(\u001B[49m\u001B[43muniq_resources\u001B[49m\u001B[43m,\u001B[49m\u001B[43m \u001B[49m\u001B[43mwg\u001B[49m\u001B[43m,\u001B[49m\u001B[43m \u001B[49m\u001B[43mrand\u001B[49m\u001B[43m,\u001B[49m\u001B[43m \u001B[49m\u001B[43m_get_uniq_resource_kinds\u001B[49m\u001B[43m,\u001B[49m\u001B[43m \u001B[49m\u001B[43m_update_resource_names\u001B[49m\u001B[43m)\u001B[49m\n",
      "File \u001B[1;32m~\\PycharmProjects\\sampo\\sampo\\generator\\pipeline\\extension.py:16\u001B[0m, in \u001B[0;36m_extend_str_fields\u001B[1;34m(new_uniq_count, wg, rand, uniq_finder_str, update_node)\u001B[0m\n\u001B[0;32m     14\u001B[0m \u001B[38;5;28;01mif\u001B[39;00m new_uniq_count \u001B[38;5;241m<\u001B[39m\u001B[38;5;241m=\u001B[39m \u001B[38;5;28mlen\u001B[39m(uniq_str):\n\u001B[0;32m     15\u001B[0m     \u001B[38;5;28;01mreturn\u001B[39;00m wg\n\u001B[1;32m---> 16\u001B[0m wg \u001B[38;5;241m=\u001B[39m \u001B[43mdeepcopy\u001B[49m\u001B[43m(\u001B[49m\u001B[43mwg\u001B[49m\u001B[43m)\u001B[49m\n\u001B[0;32m     17\u001B[0m rand\u001B[38;5;241m.\u001B[39mshuffle(uniq_str)\n\u001B[0;32m     18\u001B[0m names_plus_one \u001B[38;5;241m=\u001B[39m \u001B[38;5;28mset\u001B[39m(uniq_str[:new_uniq_count \u001B[38;5;241m%\u001B[39m \u001B[38;5;28mlen\u001B[39m(uniq_str)])\n",
      "File \u001B[1;32m~\\AppData\\Local\\Programs\\Python\\Python310\\lib\\copy.py:161\u001B[0m, in \u001B[0;36mdeepcopy\u001B[1;34m(x, memo, _nil)\u001B[0m\n\u001B[0;32m    159\u001B[0m reductor \u001B[38;5;241m=\u001B[39m \u001B[38;5;28mgetattr\u001B[39m(x, \u001B[38;5;124m\"\u001B[39m\u001B[38;5;124m__reduce_ex__\u001B[39m\u001B[38;5;124m\"\u001B[39m, \u001B[38;5;28;01mNone\u001B[39;00m)\n\u001B[0;32m    160\u001B[0m \u001B[38;5;28;01mif\u001B[39;00m reductor \u001B[38;5;129;01mis\u001B[39;00m \u001B[38;5;129;01mnot\u001B[39;00m \u001B[38;5;28;01mNone\u001B[39;00m:\n\u001B[1;32m--> 161\u001B[0m     rv \u001B[38;5;241m=\u001B[39m \u001B[43mreductor\u001B[49m\u001B[43m(\u001B[49m\u001B[38;5;241;43m4\u001B[39;49m\u001B[43m)\u001B[49m\n\u001B[0;32m    162\u001B[0m \u001B[38;5;28;01melse\u001B[39;00m:\n\u001B[0;32m    163\u001B[0m     reductor \u001B[38;5;241m=\u001B[39m \u001B[38;5;28mgetattr\u001B[39m(x, \u001B[38;5;124m\"\u001B[39m\u001B[38;5;124m__reduce__\u001B[39m\u001B[38;5;124m\"\u001B[39m, \u001B[38;5;28;01mNone\u001B[39;00m)\n",
      "File \u001B[1;32m~\\PycharmProjects\\sampo\\sampo\\schemas\\graph.py:318\u001B[0m, in \u001B[0;36mWorkGraph.__getstate__\u001B[1;34m(self)\u001B[0m\n\u001B[0;32m    316\u001B[0m \u001B[38;5;28;01mdef\u001B[39;00m \u001B[38;5;21m__getstate__\u001B[39m(\u001B[38;5;28mself\u001B[39m):\n\u001B[0;32m    317\u001B[0m     \u001B[38;5;66;03m# custom method to avoid calling __hash__() on GraphNode objects\u001B[39;00m\n\u001B[1;32m--> 318\u001B[0m     representation \u001B[38;5;241m=\u001B[39m \u001B[38;5;28;43mself\u001B[39;49m\u001B[38;5;241;43m.\u001B[39;49m\u001B[43m_serialize\u001B[49m\u001B[43m(\u001B[49m\u001B[43m)\u001B[49m\n\u001B[0;32m    319\u001B[0m     representation[\u001B[38;5;124m'\u001B[39m\u001B[38;5;124mstart\u001B[39m\u001B[38;5;124m'\u001B[39m] \u001B[38;5;241m=\u001B[39m \u001B[38;5;28mself\u001B[39m\u001B[38;5;241m.\u001B[39mstart\u001B[38;5;241m.\u001B[39mid\n\u001B[0;32m    320\u001B[0m     representation[\u001B[38;5;124m'\u001B[39m\u001B[38;5;124mfinish\u001B[39m\u001B[38;5;124m'\u001B[39m] \u001B[38;5;241m=\u001B[39m \u001B[38;5;28mself\u001B[39m\u001B[38;5;241m.\u001B[39mstart\u001B[38;5;241m.\u001B[39mid\n",
      "File \u001B[1;32m~\\PycharmProjects\\sampo\\sampo\\schemas\\graph.py:340\u001B[0m, in \u001B[0;36mWorkGraph._serialize\u001B[1;34m(self)\u001B[0m\n\u001B[0;32m    338\u001B[0m \u001B[38;5;28;01mdef\u001B[39;00m \u001B[38;5;21m_serialize\u001B[39m(\u001B[38;5;28mself\u001B[39m) \u001B[38;5;241m-\u001B[39m\u001B[38;5;241m>\u001B[39m T:\n\u001B[0;32m    339\u001B[0m     \u001B[38;5;28;01mreturn\u001B[39;00m {\n\u001B[1;32m--> 340\u001B[0m         \u001B[38;5;124m'\u001B[39m\u001B[38;5;124mnodes\u001B[39m\u001B[38;5;124m'\u001B[39m: [graph_node\u001B[38;5;241m.\u001B[39m_serialize() \u001B[38;5;28;01mfor\u001B[39;00m graph_node \u001B[38;5;129;01min\u001B[39;00m \u001B[38;5;28mself\u001B[39m\u001B[38;5;241m.\u001B[39mnodes]\n\u001B[0;32m    341\u001B[0m     }\n",
      "File \u001B[1;32m~\\PycharmProjects\\sampo\\sampo\\schemas\\graph.py:340\u001B[0m, in \u001B[0;36m<listcomp>\u001B[1;34m(.0)\u001B[0m\n\u001B[0;32m    338\u001B[0m \u001B[38;5;28;01mdef\u001B[39;00m \u001B[38;5;21m_serialize\u001B[39m(\u001B[38;5;28mself\u001B[39m) \u001B[38;5;241m-\u001B[39m\u001B[38;5;241m>\u001B[39m T:\n\u001B[0;32m    339\u001B[0m     \u001B[38;5;28;01mreturn\u001B[39;00m {\n\u001B[1;32m--> 340\u001B[0m         \u001B[38;5;124m'\u001B[39m\u001B[38;5;124mnodes\u001B[39m\u001B[38;5;124m'\u001B[39m: [\u001B[43mgraph_node\u001B[49m\u001B[38;5;241;43m.\u001B[39;49m\u001B[43m_serialize\u001B[49m\u001B[43m(\u001B[49m\u001B[43m)\u001B[49m \u001B[38;5;28;01mfor\u001B[39;00m graph_node \u001B[38;5;129;01min\u001B[39;00m \u001B[38;5;28mself\u001B[39m\u001B[38;5;241m.\u001B[39mnodes]\n\u001B[0;32m    341\u001B[0m     }\n",
      "File \u001B[1;32m~\\PycharmProjects\\sampo\\sampo\\schemas\\graph.py:80\u001B[0m, in \u001B[0;36mGraphNode._serialize\u001B[1;34m(self)\u001B[0m\n\u001B[0;32m     77\u001B[0m \u001B[38;5;28;01mdef\u001B[39;00m \u001B[38;5;21m_serialize\u001B[39m(\u001B[38;5;28mself\u001B[39m) \u001B[38;5;241m-\u001B[39m\u001B[38;5;241m>\u001B[39m T:\n\u001B[0;32m     78\u001B[0m     \u001B[38;5;28;01mreturn\u001B[39;00m {\n\u001B[0;32m     79\u001B[0m         \u001B[38;5;124m'\u001B[39m\u001B[38;5;124mwork_unit\u001B[39m\u001B[38;5;124m'\u001B[39m: \u001B[38;5;28mself\u001B[39m\u001B[38;5;241m.\u001B[39m_work_unit\u001B[38;5;241m.\u001B[39m_serialize(),\n\u001B[1;32m---> 80\u001B[0m         \u001B[38;5;124m'\u001B[39m\u001B[38;5;124mparent_edges\u001B[39m\u001B[38;5;124m'\u001B[39m: [(e\u001B[38;5;241m.\u001B[39mstart\u001B[38;5;241m.\u001B[39mid, e\u001B[38;5;241m.\u001B[39mlag, e\u001B[38;5;241m.\u001B[39mtype\u001B[38;5;241m.\u001B[39mvalue) \u001B[38;5;28;01mfor\u001B[39;00m e \u001B[38;5;129;01min\u001B[39;00m \u001B[38;5;28mself\u001B[39m\u001B[38;5;241m.\u001B[39m_parent_edges],\n\u001B[0;32m     81\u001B[0m         \u001B[38;5;66;03m# 'child_edges': [(e.finish.work_unit.id, e.lag, e.type.value) for e in self._children_edges]\u001B[39;00m\n\u001B[0;32m     82\u001B[0m     }\n",
      "\u001B[1;31mTypeError\u001B[0m: 'NoneType' object is not iterable"
     ]
    }
   ],
   "source": [
    "# complex graph\n",
    "# should generate general (average) type of graph with 300 unique works, 100 resources and 2000 vertices\n",
    "\n",
    "advanced_wg = ss.advanced_work_graph(works_count_top_border=2000,\n",
    "                                     uniq_works=300,\n",
    "                                     uniq_resources=100)"
   ],
   "metadata": {
    "collapsed": false,
    "ExecuteTime": {
     "end_time": "2023-11-21T08:52:22.427435100Z",
     "start_time": "2023-11-21T08:52:18.624735Z"
    }
   }
  },
  {
   "cell_type": "markdown",
   "source": [
    "### Loading from file\n",
    "`WorkGraph` can be saved and loaded from file.\n",
    "Let me just save generated `WorkGraph` to file and load it again:"
   ],
   "metadata": {
    "collapsed": false
   }
  },
  {
   "cell_type": "code",
   "execution_count": null,
   "outputs": [],
   "source": [
    "simple_wg.vertex_count"
   ],
   "metadata": {
    "collapsed": false,
    "ExecuteTime": {
     "start_time": "2023-11-21T08:48:59.144949500Z"
    }
   }
  },
  {
   "cell_type": "code",
   "execution_count": null,
   "outputs": [],
   "source": [
    "import os\n",
    "from sampo.schemas.graph import WorkGraph\n",
    "\n",
    "simple_wg.dump('.', 'wg')\n",
    "loaded_simple_wg = WorkGraph.load('.', 'wg')\n",
    "os.remove('wg.json')"
   ],
   "metadata": {
    "collapsed": false,
    "ExecuteTime": {
     "start_time": "2023-11-21T08:48:59.144949500Z"
    }
   }
  },
  {
   "cell_type": "code",
   "execution_count": null,
   "outputs": [],
   "source": [
    "loaded_simple_wg.vertex_count"
   ],
   "metadata": {
    "collapsed": false,
    "ExecuteTime": {
     "start_time": "2023-11-21T08:48:59.151146800Z"
    }
   }
  },
  {
   "cell_type": "markdown",
   "source": [
    "# 2. Contractor generation"
   ],
   "metadata": {
    "collapsed": false
   }
  },
  {
   "cell_type": "code",
   "execution_count": null,
   "outputs": [],
   "source": [
    "from uuid import uuid4\n",
    "from sampo.schemas.resources import Worker\n",
    "from sampo.schemas.contractor import Contractor"
   ],
   "metadata": {
    "collapsed": false,
    "ExecuteTime": {
     "start_time": "2023-11-21T08:48:59.151146800Z"
    }
   }
  },
  {
   "cell_type": "markdown",
   "source": [
    "### Manual generation\n",
    "To create contractor, you should provide minimal info: unique id, contractor name, and supplied workers (simple renewable resources)."
   ],
   "metadata": {
    "collapsed": false
   }
  },
  {
   "cell_type": "code",
   "execution_count": null,
   "outputs": [],
   "source": [
    "contractors = [\n",
    "    Contractor(id=str(uuid4()),\n",
    "               name=\"OOO Berezka\",\n",
    "               workers={'builder' : Worker(id=str(uuid4()), name='builder', count=100)})\n",
    "]"
   ],
   "metadata": {
    "collapsed": false,
    "ExecuteTime": {
     "start_time": "2023-11-21T08:48:59.151146800Z"
    }
   }
  },
  {
   "cell_type": "markdown",
   "source": [
    "### Synthetic generation\n",
    "Of course, you can generate contractors using `SimpleSynthetic`:"
   ],
   "metadata": {
    "collapsed": false
   }
  },
  {
   "cell_type": "code",
   "execution_count": null,
   "outputs": [],
   "source": [
    "contractors = [ss.contractor(5), ss.contractor(10), ss.contractor(15)]"
   ],
   "metadata": {
    "collapsed": false,
    "ExecuteTime": {
     "start_time": "2023-11-21T08:48:59.151146800Z"
    }
   }
  },
  {
   "cell_type": "markdown",
   "source": [
    "### Generation from graph\n",
    "There is also the function that provides contractor from given `WorkGraph`.\n",
    "There is guaranteed that returned `Contractor` can supply it."
   ],
   "metadata": {
    "collapsed": false
   }
  },
  {
   "cell_type": "code",
   "execution_count": null,
   "outputs": [],
   "source": [
    "from sampo.generator.environment import get_contractor_by_wg\n",
    "\n",
    "contractors = [get_contractor_by_wg(simple_wg)]"
   ],
   "metadata": {
    "collapsed": false,
    "ExecuteTime": {
     "start_time": "2023-11-21T08:48:59.151146800Z"
    }
   }
  },
  {
   "cell_type": "markdown",
   "source": [
    "### Loading from file\n",
    "Finally, there is the ability to save-load `Contractor` objects:"
   ],
   "metadata": {
    "collapsed": false
   }
  },
  {
   "cell_type": "code",
   "execution_count": null,
   "outputs": [],
   "source": [
    "print(contractors[0])\n",
    "contractors[0].dump('.', 'contractor')"
   ],
   "metadata": {
    "collapsed": false,
    "ExecuteTime": {
     "end_time": "2023-11-21T08:48:59.151146800Z",
     "start_time": "2023-11-21T08:48:59.151146800Z"
    }
   }
  },
  {
   "cell_type": "code",
   "execution_count": null,
   "outputs": [],
   "source": [
    "loaded_contractor = Contractor.load('.', 'contractor')\n",
    "print(loaded_contractor)\n",
    "os.remove('contractor.json')"
   ],
   "metadata": {
    "collapsed": false,
    "ExecuteTime": {
     "start_time": "2023-11-21T08:48:59.151146800Z"
    }
   }
  },
  {
   "cell_type": "code",
   "execution_count": null,
   "outputs": [],
   "source": [],
   "metadata": {
    "collapsed": false,
    "ExecuteTime": {
     "start_time": "2023-11-21T08:48:59.151146800Z"
    }
   }
  }
 ],
 "metadata": {
  "kernelspec": {
   "display_name": "Python 3",
   "language": "python",
   "name": "python3"
  },
  "language_info": {
   "codemirror_mode": {
    "name": "ipython",
    "version": 2
   },
   "file_extension": ".py",
   "mimetype": "text/x-python",
   "name": "python",
   "nbconvert_exporter": "python",
   "pygments_lexer": "ipython2",
   "version": "2.7.6"
  }
 },
 "nbformat": 4,
 "nbformat_minor": 0
}
