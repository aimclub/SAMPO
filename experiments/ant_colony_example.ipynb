{
 "cells": [
  {
   "cell_type": "code",
   "execution_count": null,
   "id": "92475a06-fedc-46d8-910b-590a85774281",
   "metadata": {},
   "outputs": [],
   "source": [
    "# general imports\n",
    "import numpy as np\n",
    "import plotly.graph_objects as go\n",
    "import plotly.express as px\n",
    "from time import perf_counter"
   ]
  },
  {
   "cell_type": "code",
   "execution_count": null,
   "id": "e5ec7dbe-74d6-4f5d-8410-8ec3943d8f3f",
   "metadata": {},
   "outputs": [],
   "source": [
    "# experimental swarm modules\n",
    "from swarm.ant_colony import AntColony\n",
    "from swarm.ant_pheromones import BinsPheromones\n",
    "from swarm.precedence import PrecedenceManager\n",
    "from swarm.evolution_history import EvolutionHistory\n",
    "\n",
    "from psplib.launcher import load_psplib_data, Launcher\n",
    "from psplib.launcher import get_dict_of_optimized_data_structures"
   ]
  },
  {
   "cell_type": "code",
   "execution_count": null,
   "id": "d189451b-ec6a-47d5-8224-d236d482ed7a",
   "metadata": {},
   "outputs": [],
   "source": []
  },
  {
   "cell_type": "markdown",
   "id": "ecab985a-58e5-40c8-bcde-5d402b3b8909",
   "metadata": {},
   "source": [
    "## Prepare data"
   ]
  },
  {
   "cell_type": "code",
   "execution_count": null,
   "id": "e9ecc850-98bb-4fec-b0a9-c0b4d56bb48f",
   "metadata": {},
   "outputs": [],
   "source": [
    "# loading data for the test\n",
    "wg, contractors, work_estimator = load_psplib_data(\"psplib/j120_json/j1206_1.json\")\n",
    "ods = get_dict_of_optimized_data_structures(wg, contractors)\n",
    "\n",
    "n_tasks = len(wg.nodes)\n",
    "# to get metrics\n",
    "launcher = Launcher(wg, contractors, work_estimator, ods)\n",
    "# to convert to valid order\n",
    "precedence_manager = PrecedenceManager.from_workgraph(wg)"
   ]
  },
  {
   "cell_type": "code",
   "execution_count": null,
   "id": "4478dba6-791f-45b4-920c-d7d30fdab308",
   "metadata": {},
   "outputs": [],
   "source": [
    "# for now, define fitness here\n",
    "def fitness_function(priorities_array):\n",
    "    activity_list = precedence_manager(priorities_array)\n",
    "    makespan = launcher(activity_list)\n",
    "    # -1 because we want higher = better (maybe?)\n",
    "    return (-1) * makespan"
   ]
  },
  {
   "cell_type": "code",
   "execution_count": null,
   "id": "3f66cf7c-8dd2-4116-90c2-d770b1a7cd40",
   "metadata": {},
   "outputs": [],
   "source": []
  },
  {
   "cell_type": "markdown",
   "id": "5347add1-9738-4537-882d-928a169d99b4",
   "metadata": {},
   "source": [
    "## Create colony"
   ]
  },
  {
   "cell_type": "code",
   "execution_count": null,
   "id": "1169b30e-31f2-4110-a5da-1c4f11af92e8",
   "metadata": {},
   "outputs": [],
   "source": [
    "colony = AntColony(\n",
    "    fitness_function=fitness_function,\n",
    "    pheromones=BinsPheromones(\n",
    "        n_tasks=n_tasks, \n",
    "        # use 5*5 structure for now\n",
    "        n_bins=5, \n",
    "        n_sub_bins=5,\n",
    "        # reproducible results \n",
    "        random=np.random.default_rng(seed=0)\n",
    "    ),\n",
    "    history=EvolutionHistory()\n",
    ")"
   ]
  },
  {
   "cell_type": "code",
   "execution_count": null,
   "id": "4415d235-d33a-4d01-b5a0-91056122c519",
   "metadata": {},
   "outputs": [],
   "source": []
  },
  {
   "cell_type": "markdown",
   "id": "044df226-b064-484a-abcd-5c3e04e35cf5",
   "metadata": {},
   "source": [
    "## Start the evolution"
   ]
  },
  {
   "cell_type": "code",
   "execution_count": null,
   "id": "d35707c1-4277-49a2-8d16-33217424f16f",
   "metadata": {},
   "outputs": [],
   "source": [
    "# basic evolution\n",
    "# can be interrupted, progress will be saved in history\n",
    "colony.simple_evolution(n_generations=550, n_per_generation=25)"
   ]
  },
  {
   "cell_type": "code",
   "execution_count": null,
   "id": "38ab3431-89e6-4738-a845-a6593e9bc6d3",
   "metadata": {},
   "outputs": [],
   "source": []
  },
  {
   "cell_type": "markdown",
   "id": "bc92ff91-522b-4bc0-bad3-03b290d30501",
   "metadata": {},
   "source": [
    "## Plot"
   ]
  },
  {
   "cell_type": "code",
   "execution_count": null,
   "id": "405e0749-f205-49ef-942a-d7f370aeb37f",
   "metadata": {},
   "outputs": [],
   "source": [
    "# info about evolution\n",
    "stats = colony.history.get_stats()\n",
    "\n",
    "# a super-simple baseline\n",
    "baseline = max(\n",
    "    fitness_function(np.arange(n_tasks)),\n",
    "    fitness_function(np.arange(n_tasks)[::-1])\n",
    ")\n",
    "# for plotting, we need array with same length as others\n",
    "baseline_line = baseline * np.ones(stats[\"n_generations\"])"
   ]
  },
  {
   "cell_type": "code",
   "execution_count": null,
   "id": "9917eaee-4edc-4deb-b383-74829837076c",
   "metadata": {},
   "outputs": [],
   "source": []
  },
  {
   "cell_type": "code",
   "execution_count": null,
   "id": "95e96437-d74a-4ca4-82c7-22b2061d8c1f",
   "metadata": {},
   "outputs": [],
   "source": [
    "# plot the history of evolution\n",
    "fig = go.Figure([\n",
    "    go.Scatter(y=stats[\"generation_best\"], name=\"Gen Best\", line_color=\"navy\"),\n",
    "    go.Scatter(y=stats[\"generation_mean\"], name=\"Gen Mean\", line_color=\"green\"),\n",
    "    go.Scatter(y=stats[\"best_so_far\"], name=\"Best\", line_color=\"black\"),\n",
    "    go.Scatter(y=baseline_line, name=\"Baseline\", line_color=\"lightgrey\")\n",
    "])\n",
    "\n",
    "fig.update_layout(height=500, width=1000, template=\"plotly_white\")\n",
    "fig.update_layout(\n",
    "    xaxis_title=\"Generation\",                   \n",
    "    yaxis_title=\"Metric\"\n",
    ")\n",
    "fig.update_layout(legend=dict(\n",
    "    yanchor=\"middle\", y=0.25,\n",
    "    xanchor=\"center\", x=0.75\n",
    "))\n",
    "\n",
    "fig.show()"
   ]
  },
  {
   "cell_type": "code",
   "execution_count": null,
   "id": "9ecd12ae-ffd6-424d-8531-62baeb3985d4",
   "metadata": {},
   "outputs": [],
   "source": []
  },
  {
   "cell_type": "markdown",
   "id": "4ec369fe-4233-4ced-863c-2903f290c5e0",
   "metadata": {},
   "source": [
    "## Testing integration"
   ]
  },
  {
   "cell_type": "code",
   "execution_count": null,
   "id": "1d2dad4b-f416-4d72-b29f-7413dbd7fca4",
   "metadata": {},
   "outputs": [],
   "source": [
    "from sampo.scheduler.base import Scheduler\n",
    "from sampo.scheduler.resource.identity import IdentityResourceOptimizer\n",
    "from sampo.pipeline import SchedulingPipeline"
   ]
  },
  {
   "cell_type": "code",
   "execution_count": null,
   "id": "16bfe1fc-4c8f-43da-902e-6f561aacfa6a",
   "metadata": {},
   "outputs": [],
   "source": []
  },
  {
   "cell_type": "code",
   "execution_count": null,
   "id": "de35aa75-43cd-478c-8d9b-df7dd1060749",
   "metadata": {},
   "outputs": [],
   "source": []
  },
  {
   "cell_type": "code",
   "execution_count": null,
   "id": "76675f14-7a3b-4947-b74d-3e9f4e925878",
   "metadata": {},
   "outputs": [],
   "source": [
    "class AntSheduler(Scheduler):\n",
    "\n",
    "    def __init__(self, resource_optimizer, work_estimator):\n",
    "        super().__init__(\n",
    "            scheduler_type=\"AntScheduler[Experimental]\",\n",
    "            resource_optimizer=resource_optimizer,\n",
    "            work_estimator=work_estimator\n",
    "        )\n",
    "    \n",
    "    def __str__(self):\n",
    "        return \"AntScheduler[Experimental]\"\n",
    "\n",
    "    def schedule_with_cache(self, wg, contractors, *args, **kwargs):\n",
    "        ods = get_dict_of_optimized_data_structures(wg, contractors)\n",
    "        \n",
    "        n_tasks = len(wg.nodes)\n",
    "        launcher = Launcher(wg, contractors, self.work_estimator, ods)\n",
    "        precedence_manager = PrecedenceManager.from_workgraph(wg)\n",
    "\n",
    "        def fitness_function(priorities_array):\n",
    "            activity_list = precedence_manager(priorities_array)\n",
    "            makespan = launcher(activity_list)\n",
    "            return (-1) * makespan\n",
    "\n",
    "        colony = AntColony(\n",
    "            fitness_function=fitness_function,\n",
    "            pheromones=BinsPheromones(\n",
    "                n_tasks=n_tasks, \n",
    "                n_bins=5, \n",
    "                n_sub_bins=5,\n",
    "                random=np.random.default_rng(seed=0)\n",
    "            ),\n",
    "            history=EvolutionHistory()\n",
    "        )\n",
    "        colony.simple_evolution(n_generations=10, n_per_generation=25)\n",
    "\n",
    "        best_solution = colony.history.best_solution\n",
    "        best_activity_list = precedence_manager(best_solution)\n",
    "        best_schedule = launcher.get_schedule(best_activity_list)\n",
    "        return [best_schedule]"
   ]
  },
  {
   "cell_type": "code",
   "execution_count": null,
   "id": "1765b05b-eb04-431d-9e60-36d8a80d4ccb",
   "metadata": {},
   "outputs": [],
   "source": [
    "wg, contractors, work_estimator = load_psplib_data(\"psplib/j120_json/j1206_1.json\")"
   ]
  },
  {
   "cell_type": "code",
   "execution_count": null,
   "id": "43df337d-e390-4010-94b1-483f38f3c823",
   "metadata": {},
   "outputs": [],
   "source": [
    "ant_sheduler = AntSheduler(\n",
    "    work_estimator=work_estimator,\n",
    "    resource_optimizer=IdentityResourceOptimizer()\n",
    ")"
   ]
  },
  {
   "cell_type": "code",
   "execution_count": null,
   "id": "c1c23f90-8439-4d54-ba69-c793529b9c76",
   "metadata": {},
   "outputs": [],
   "source": []
  },
  {
   "cell_type": "code",
   "execution_count": null,
   "id": "85b6dc72-b03a-459e-b2c9-b5dea65b5c89",
   "metadata": {},
   "outputs": [],
   "source": [
    "schedule = (\n",
    "    SchedulingPipeline\n",
    "    .create()\n",
    "    .wg(wg)\n",
    "    .contractors(contractors)\n",
    "    .schedule(ant_sheduler)\n",
    "    .finish()\n",
    ")[0]"
   ]
  },
  {
   "cell_type": "code",
   "execution_count": null,
   "id": "f750f34e-869d-40bc-9766-995833b99672",
   "metadata": {},
   "outputs": [],
   "source": []
  },
  {
   "cell_type": "code",
   "execution_count": null,
   "id": "94a17549-4dc0-4d26-af90-359055b9ece5",
   "metadata": {},
   "outputs": [],
   "source": []
  },
  {
   "cell_type": "code",
   "execution_count": null,
   "id": "ecdb623c-2c32-419a-b7e0-c29e8e9b255a",
   "metadata": {},
   "outputs": [],
   "source": []
  },
  {
   "cell_type": "code",
   "execution_count": null,
   "id": "f8fccaf2-ce59-4495-b42a-6808e36ad86f",
   "metadata": {},
   "outputs": [],
   "source": []
  }
 ],
 "metadata": {
  "kernelspec": {
   "display_name": "Python 3 (ipykernel)",
   "language": "python",
   "name": "python3"
  },
  "language_info": {
   "codemirror_mode": {
    "name": "ipython",
    "version": 3
   },
   "file_extension": ".py",
   "mimetype": "text/x-python",
   "name": "python",
   "nbconvert_exporter": "python",
   "pygments_lexer": "ipython3",
   "version": "3.12.7"
  }
 },
 "nbformat": 4,
 "nbformat_minor": 5
}
