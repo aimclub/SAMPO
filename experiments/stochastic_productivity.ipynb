{
 "cells": [
  {
   "cell_type": "code",
   "execution_count": 7,
   "id": "initial_id",
   "metadata": {
    "collapsed": true,
    "ExecuteTime": {
     "end_time": "2024-01-10T14:57:53.195805200Z",
     "start_time": "2024-01-10T14:57:53.021874400Z"
    }
   },
   "outputs": [
    {
     "name": "stdout",
     "output_type": "stream",
     "text": [
      "SEQUENTIAL SEQUENTIAL SEQUENTIAL PARALLEL GENERAL SEQUENTIAL SEQUENTIAL GENERAL GENERAL SEQUENTIAL PARALLEL PARALLEL SEQUENTIAL SEQUENTIAL GENERAL SEQUENTIAL PARALLEL GENERAL SEQUENTIAL PARALLEL GENERAL\n"
     ]
    }
   ],
   "source": [
    "from typing import Iterable\n",
    "from sampo.schemas import Time\n",
    "from sampo.scheduler.multi_agency.block_generator import generate_blocks, SyntheticBlockGraphType\n",
    "from sampo.scheduler.multi_agency.multi_agency import StochasticManager, ScheduledBlock\n",
    "from sampo.scheduler.multi_agency import Agent, validate_block_schedule\n",
    "from uuid import uuid4\n",
    "from copy import deepcopy\n",
    "\n",
    "from sampo.generator import SimpleSynthetic\n",
    "from sampo.scheduler import HEFTScheduler\n",
    "from random import Random\n",
    "\n",
    "r_seed = 231\n",
    "rand = Random(r_seed)\n",
    "ss = SimpleSynthetic(rand)\n",
    "\n",
    "scheduler_constructors = [HEFTScheduler, HEFTScheduler, HEFTScheduler, HEFTScheduler, HEFTScheduler, HEFTScheduler, HEFTScheduler, HEFTScheduler]\n",
    "base_contractor = ss.contractor(10)\n",
    "\n",
    "bg = generate_blocks(SyntheticBlockGraphType.SEQUENTIAL, 20, [1, 1, 1], lambda x: (50, 60), 0.5, rand)\n",
    "\n",
    "def finish_time(schedule: Iterable[ScheduledBlock]) -> Time:\n",
    "    return max([sblock.end_time for sblock in schedule])"
   ]
  },
  {
   "cell_type": "code",
   "execution_count": 8,
   "outputs": [],
   "source": [
    "from sampo.schemas import WorkerProductivityMode, Contractor, IntervalGaussian\n",
    "from sampo.schemas.time_estimator import DefaultWorkEstimator, WorkTimeEstimator\n",
    "from sampo.scheduler.multi_agency import Manager\n",
    "from typing import Callable\n",
    "\n",
    "\n",
    "def construct_work_estimator(i: int, productivity: WorkerProductivityMode) -> WorkTimeEstimator:\n",
    "    work_estimator = DefaultWorkEstimator()\n",
    "    work_estimator.set_productivity_mode(productivity)\n",
    "    for worker in ['driver', 'fitter', 'manager', 'handyman', 'electrician', 'engineer']:\n",
    "        work_estimator.set_worker_productivity(IntervalGaussian(0.2 * i + 0.2, 1, 0, 2), worker)\n",
    "    return work_estimator\n",
    "\n",
    "\n",
    "def construct_agent(i: int, scheduler_constructor, contractor: Contractor, productivity: WorkerProductivityMode) -> Agent:\n",
    "    work_estimator = construct_work_estimator(i, productivity)\n",
    "    \n",
    "    return Agent(f'Agent {i}', scheduler_constructor(work_estimator=work_estimator), [contractor])\n",
    "\n",
    "def test_with_manager(manager_constructor: Callable[[list[Agent]], Manager], productivity: WorkerProductivityMode):\n",
    "    contractors = [deepcopy(base_contractor) for _ in scheduler_constructors]\n",
    "    for contractor in contractors:\n",
    "        contractor.id = str(uuid4())\n",
    "    \n",
    "    agents = [construct_agent(i, scheduler_constructors[i % len(scheduler_constructors)], contractor, productivity)\n",
    "              for i, contractor in enumerate(contractors)]\n",
    "    manager = manager_constructor(agents)\n",
    "    \n",
    "    scheduled_blocks = manager.manage_blocks(bg)\n",
    "    # validate_block_schedule(bg, scheduled_blocks, agents)\n",
    "    \n",
    "    return finish_time(scheduled_blocks.values())"
   ],
   "metadata": {
    "collapsed": false,
    "ExecuteTime": {
     "end_time": "2024-01-10T14:57:53.414491600Z",
     "start_time": "2024-01-10T14:57:53.398842800Z"
    }
   },
   "id": "dc9efaa64c64805c"
  },
  {
   "cell_type": "code",
   "execution_count": 39,
   "outputs": [
    {
     "data": {
      "text/plain": "9633"
     },
     "execution_count": 39,
     "metadata": {},
     "output_type": "execute_result"
    }
   ],
   "source": [
    "time_static = test_with_manager(Manager, WorkerProductivityMode.Stochastic)\n",
    "time_static"
   ],
   "metadata": {
    "collapsed": false,
    "ExecuteTime": {
     "end_time": "2024-01-10T13:50:18.412168100Z",
     "start_time": "2024-01-10T13:50:07.170123400Z"
    }
   },
   "id": "892c5caca2db4070"
  },
  {
   "cell_type": "code",
   "execution_count": 40,
   "outputs": [
    {
     "data": {
      "text/plain": "4531"
     },
     "execution_count": 40,
     "metadata": {},
     "output_type": "execute_result"
    }
   ],
   "source": [
    "time_stochastic = test_with_manager(StochasticManager, WorkerProductivityMode.Stochastic)\n",
    "time_stochastic"
   ],
   "metadata": {
    "collapsed": false,
    "ExecuteTime": {
     "end_time": "2024-01-10T13:50:29.334349700Z",
     "start_time": "2024-01-10T13:50:18.396234400Z"
    }
   },
   "id": "508802b6eeb1919f"
  },
  {
   "cell_type": "code",
   "execution_count": 41,
   "outputs": [
    {
     "name": "stdout",
     "output_type": "stream",
     "text": [
      "27254 11829\n",
      "16765 51175\n",
      "19170 43856\n",
      "28078 18893\n",
      "15790 13870\n",
      "29057 6302\n",
      "12200 8015\n",
      "18533 15938\n",
      "5346 8329\n",
      "11771 12090\n",
      "Success percentage: 60% on 10 iterations\n"
     ]
    }
   ],
   "source": [
    "def run_comparison(iterations: int):\n",
    "    successes = 0\n",
    "    for i in range(iterations):\n",
    "        time_static = test_with_manager(Manager, WorkerProductivityMode.Stochastic)\n",
    "        time_stochastic = test_with_manager(StochasticManager, WorkerProductivityMode.Stochastic)\n",
    "        print(f'{time_static} {time_stochastic}')\n",
    "        if time_stochastic < time_static:\n",
    "            successes += 1\n",
    "    print(f'Success percentage: {int(100 * successes / iterations)}% on {iterations} iterations')\n",
    "\n",
    "run_comparison(10)"
   ],
   "metadata": {
    "collapsed": false,
    "ExecuteTime": {
     "end_time": "2024-01-10T13:54:17.130759300Z",
     "start_time": "2024-01-10T13:50:36.091768900Z"
    }
   },
   "id": "9f35554d8eadd2f5"
  },
  {
   "cell_type": "markdown",
   "source": [
    "# Mode 2"
   ],
   "metadata": {
    "collapsed": false
   },
   "id": "c02818c9a8da177f"
  },
  {
   "cell_type": "code",
   "execution_count": 15,
   "outputs": [
    {
     "data": {
      "text/plain": "2540"
     },
     "execution_count": 15,
     "metadata": {},
     "output_type": "execute_result"
    }
   ],
   "source": [
    "test_with_manager(Manager, WorkerProductivityMode.Stochastic)"
   ],
   "metadata": {
    "collapsed": false,
    "ExecuteTime": {
     "end_time": "2024-01-10T13:36:56.920531500Z",
     "start_time": "2024-01-10T13:36:44.589117500Z"
    }
   },
   "id": "fe8132da983728a3"
  },
  {
   "cell_type": "code",
   "execution_count": 9,
   "outputs": [],
   "source": [
    "def test_in_mode(mode: WorkerProductivityMode):\n",
    "    work_estimator = DefaultWorkEstimator()\n",
    "    work_estimator.set_productivity_mode(mode)\n",
    "    \n",
    "    contractors = [deepcopy(base_contractor) for _ in scheduler_constructors]\n",
    "    for contractor in contractors:\n",
    "        contractor.id = str(uuid4())\n",
    "    \n",
    "    for worker in ['driver', 'fitter', 'manager', 'handyman', 'electrician', 'engineer']:\n",
    "        for i, contractor in enumerate(contractors):\n",
    "            work_estimator.set_worker_productivity(IntervalGaussian(0.2 * i + 0.2, 1, 0, 2), worker, contractor.id)\n",
    "    \n",
    "    agents = [Agent(f'Agent {i}', scheduler_constructors[i % len(scheduler_constructors)](work_estimator=work_estimator), [contractor])\n",
    "              for i, contractor in enumerate(contractors)]\n",
    "    manager = StochasticManager(agents)\n",
    "    \n",
    "    scheduled_blocks = manager.manage_blocks(bg)\n",
    "    # validate_block_schedule(bg, scheduled_blocks, agents)\n",
    "    \n",
    "    ma_time = finish_time(scheduled_blocks.values())\n",
    "    \n",
    "    conjuncted = bg.to_work_graph()\n",
    "    print(f'Size: {conjuncted.vertex_count}')\n",
    "    scheduler = HEFTScheduler(work_estimator=work_estimator)\n",
    "    conjuncted_time = scheduler.schedule(conjuncted, [contractors[-1]]).execution_time\n",
    "    return ma_time, conjuncted_time"
   ],
   "metadata": {
    "collapsed": false,
    "ExecuteTime": {
     "end_time": "2024-01-10T14:57:59.667013900Z",
     "start_time": "2024-01-10T14:57:59.651362500Z"
    }
   },
   "id": "86dc256854b80187"
  },
  {
   "cell_type": "code",
   "execution_count": 4,
   "outputs": [],
   "source": [
    "# test_in_mode(WorkerProductivityMode.Static)"
   ],
   "metadata": {
    "collapsed": false,
    "ExecuteTime": {
     "end_time": "2024-01-10T14:18:27.516893100Z",
     "start_time": "2024-01-10T14:18:27.501242Z"
    }
   },
   "id": "753ca71d12335121"
  },
  {
   "cell_type": "code",
   "execution_count": 10,
   "outputs": [
    {
     "name": "stdout",
     "output_type": "stream",
     "text": [
      "Size: 1506\n"
     ]
    },
    {
     "data": {
      "text/plain": "(3662, 3610)"
     },
     "execution_count": 10,
     "metadata": {},
     "output_type": "execute_result"
    }
   ],
   "source": [
    "test_in_mode(WorkerProductivityMode.Stochastic)"
   ],
   "metadata": {
    "collapsed": false,
    "ExecuteTime": {
     "end_time": "2024-01-10T14:58:33.720762500Z",
     "start_time": "2024-01-10T14:58:01.966436Z"
    }
   },
   "id": "b511753dfcb6d6ae"
  },
  {
   "cell_type": "code",
   "execution_count": 11,
   "outputs": [
    {
     "name": "stdout",
     "output_type": "stream",
     "text": [
      "Size: 1506\n",
      "(3893, 3856)\n",
      "Size: 1506\n",
      "(3681, 3776)\n",
      "Size: 1506\n",
      "(3842, 3779)\n",
      "Size: 1506\n",
      "(3608, 3671)\n",
      "Size: 1506\n",
      "(3704, 3579)\n",
      "Size: 1506\n",
      "(3731, 3892)\n",
      "Size: 1506\n",
      "(3807, 3784)\n",
      "Size: 1506\n",
      "(3667, 3487)\n",
      "Size: 1506\n",
      "(3539, 3841)\n",
      "Size: 1506\n",
      "(3926, 3600)\n"
     ]
    }
   ],
   "source": [
    "for _ in range(10):\n",
    "    print(test_in_mode(WorkerProductivityMode.Stochastic))"
   ],
   "metadata": {
    "collapsed": false,
    "ExecuteTime": {
     "end_time": "2024-01-10T15:04:11.439850500Z",
     "start_time": "2024-01-10T14:58:50.304622400Z"
    }
   },
   "id": "25186a283ee93416"
  },
  {
   "cell_type": "code",
   "execution_count": null,
   "outputs": [],
   "source": [],
   "metadata": {
    "collapsed": false
   },
   "id": "19fe5ec1ed605676"
  }
 ],
 "metadata": {
  "kernelspec": {
   "display_name": "Python 3",
   "language": "python",
   "name": "python3"
  },
  "language_info": {
   "codemirror_mode": {
    "name": "ipython",
    "version": 2
   },
   "file_extension": ".py",
   "mimetype": "text/x-python",
   "name": "python",
   "nbconvert_exporter": "python",
   "pygments_lexer": "ipython2",
   "version": "2.7.6"
  }
 },
 "nbformat": 4,
 "nbformat_minor": 5
}
