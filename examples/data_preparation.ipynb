{
 "cells": [
  {
   "cell_type": "code",
   "execution_count": 1,
   "metadata": {
    "collapsed": true
   },
   "outputs": [],
   "source": [
    "from sampo.generator import SimpleSynthetic\n",
    "from sampo.generator.types import SyntheticGraphType"
   ]
  },
  {
   "cell_type": "markdown",
   "source": [
    "# 1. Graph generation"
   ],
   "metadata": {
    "collapsed": false
   }
  },
  {
   "cell_type": "markdown",
   "source": [
    "### Synthetic graphs\n",
    "There is `SimpleSynthetic` class that should be used for synthetic graph generation.\n",
    "It has enough methods to generate whatever you want to give to scheduler."
   ],
   "metadata": {
    "collapsed": false
   }
  },
  {
   "cell_type": "code",
   "execution_count": 2,
   "outputs": [],
   "source": [
    "# SimpleSynthetic object used for the simple work graph structure generation\n",
    "\n",
    "r_seed = 231\n",
    "ss = SimpleSynthetic(r_seed)"
   ],
   "metadata": {
    "collapsed": false
   }
  },
  {
   "cell_type": "code",
   "execution_count": 3,
   "outputs": [],
   "source": [
    "# simple graph\n",
    "# should generate general (average) type of graph with 10 clusters from 100 to 200 vertices each\n",
    "\n",
    "simple_wg = ss.work_graph(mode=SyntheticGraphType.General,\n",
    "                          cluster_counts=10,\n",
    "                          bottom_border=100,\n",
    "                          top_border=200)"
   ],
   "metadata": {
    "collapsed": false
   }
  },
  {
   "cell_type": "code",
   "execution_count": 4,
   "outputs": [],
   "source": [
    "# complex graph\n",
    "# should generate general (average) type of graph with 300 unique works, 100 resources and 2000 vertices\n",
    "\n",
    "advanced_wg = ss.advanced_work_graph(works_count_top_border=2000,\n",
    "                                     uniq_works=300,\n",
    "                                     uniq_resources=100)"
   ],
   "metadata": {
    "collapsed": false
   }
  },
  {
   "cell_type": "markdown",
   "source": [
    "### Loading from file\n",
    "`WorkGraph` can be saved and loaded from file.\n",
    "Let me just save generated `WorkGraph` to file and load it again:"
   ],
   "metadata": {
    "collapsed": false
   }
  },
  {
   "cell_type": "code",
   "execution_count": 5,
   "outputs": [
    {
     "data": {
      "text/plain": "137"
     },
     "execution_count": 5,
     "metadata": {},
     "output_type": "execute_result"
    }
   ],
   "source": [
    "simple_wg.vertex_count"
   ],
   "metadata": {
    "collapsed": false
   }
  },
  {
   "cell_type": "code",
   "execution_count": 6,
   "outputs": [],
   "source": [
    "import os\n",
    "from sampo.schemas.graph import WorkGraph\n",
    "\n",
    "simple_wg.dump('.', 'wg')\n",
    "loaded_simple_wg = WorkGraph.load('.', 'wg')\n",
    "os.remove('wg.json')"
   ],
   "metadata": {
    "collapsed": false
   }
  },
  {
   "cell_type": "code",
   "execution_count": 7,
   "outputs": [
    {
     "data": {
      "text/plain": "137"
     },
     "execution_count": 7,
     "metadata": {},
     "output_type": "execute_result"
    }
   ],
   "source": [
    "loaded_simple_wg.vertex_count"
   ],
   "metadata": {
    "collapsed": false
   }
  },
  {
   "cell_type": "markdown",
   "source": [
    "# 2. Contractor generation"
   ],
   "metadata": {
    "collapsed": false
   }
  },
  {
   "cell_type": "code",
   "execution_count": 8,
   "outputs": [],
   "source": [
    "from uuid import uuid4\n",
    "from sampo.schemas.resources import Worker\n",
    "from sampo.schemas.contractor import Contractor"
   ],
   "metadata": {
    "collapsed": false
   }
  },
  {
   "cell_type": "markdown",
   "source": [
    "### Manual generation\n",
    "To create contractor, you should provide minimal info: unique id, contractor name, and supplied workers (simple renewable resources)."
   ],
   "metadata": {
    "collapsed": false
   }
  },
  {
   "cell_type": "code",
   "execution_count": 9,
   "outputs": [],
   "source": [
    "contractors = [\n",
    "    Contractor(id=str(uuid4()),\n",
    "               name=\"OOO Berezka\",\n",
    "               workers={'builder' : Worker(id=str(uuid4()), name='builder', count=100)})\n",
    "]"
   ],
   "metadata": {
    "collapsed": false
   }
  },
  {
   "cell_type": "markdown",
   "source": [
    "### Synthetic generation\n",
    "Of course, you can generate contractors using `SimpleSynthetic`:"
   ],
   "metadata": {
    "collapsed": false
   }
  },
  {
   "cell_type": "code",
   "execution_count": 10,
   "outputs": [],
   "source": [
    "contractors = [ss.contractor(5), ss.contractor(10), ss.contractor(15)]"
   ],
   "metadata": {
    "collapsed": false
   }
  },
  {
   "cell_type": "markdown",
   "source": [
    "### Generation from graph\n",
    "There is also the function that provides contractor from given `WorkGraph`.\n",
    "There is guaranteed that returned `Contractor` can supply it."
   ],
   "metadata": {
    "collapsed": false
   }
  },
  {
   "cell_type": "code",
   "execution_count": 11,
   "outputs": [],
   "source": [
    "from sampo.generator import get_contractor_by_wg\n",
    "\n",
    "contractors = [get_contractor_by_wg(simple_wg)]"
   ],
   "metadata": {
    "collapsed": false
   }
  },
  {
   "cell_type": "markdown",
   "source": [
    "### Loading from file\n",
    "Finally, there is the ability to save-load `Contractor` objects:"
   ],
   "metadata": {
    "collapsed": false
   }
  },
  {
   "cell_type": "code",
   "execution_count": 13,
   "outputs": [
    {
     "name": "stdout",
     "output_type": "stream",
     "text": [
      "Contractor(id='932f28a8-6e24-4603-8b59-08518d76f251', name='Contractor 0', workers={'driver': 6 driver, 'electrician': 2 electrician, 'engineer': 2 engineer, 'fitter': 6 fitter, 'handyman': 6 handyman, 'manager': 2 manager}, equipments={})\n"
     ]
    }
   ],
   "source": [
    "print(contractors[0])\n",
    "contractors[0].dump('.', 'contractor')"
   ],
   "metadata": {
    "collapsed": false
   }
  },
  {
   "cell_type": "code",
   "execution_count": 14,
   "outputs": [
    {
     "name": "stdout",
     "output_type": "stream",
     "text": [
      "Contractor(id='932f28a8-6e24-4603-8b59-08518d76f251', name='Contractor 0', workers={'driver': 6 driver, 'electrician': 2 electrician, 'engineer': 2 engineer, 'fitter': 6 fitter, 'handyman': 6 handyman, 'manager': 2 manager}, equipments={})\n"
     ]
    }
   ],
   "source": [
    "loaded_contractor = Contractor.load('.', 'contractor')\n",
    "print(loaded_contractor)\n",
    "os.remove('contractor.json')"
   ],
   "metadata": {
    "collapsed": false
   }
  },
  {
   "cell_type": "code",
   "execution_count": null,
   "outputs": [],
   "source": [],
   "metadata": {
    "collapsed": false
   }
  }
 ],
 "metadata": {
  "kernelspec": {
   "display_name": "Python 3",
   "language": "python",
   "name": "python3"
  },
  "language_info": {
   "codemirror_mode": {
    "name": "ipython",
    "version": 2
   },
   "file_extension": ".py",
   "mimetype": "text/x-python",
   "name": "python",
   "nbconvert_exporter": "python",
   "pygments_lexer": "ipython2",
   "version": "2.7.6"
  }
 },
 "nbformat": 4,
 "nbformat_minor": 0
}
