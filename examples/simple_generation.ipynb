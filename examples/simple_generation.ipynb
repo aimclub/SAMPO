{
 "cells": [
  {
   "cell_type": "code",
   "execution_count": 1,
   "metadata": {
    "collapsed": true
   },
   "outputs": [],
   "source": [
    "from sampo.generator import SimpleSynthetic\n",
    "from sampo.generator.types import SyntheticGraphType"
   ]
  },
  {
   "cell_type": "markdown",
   "source": [
    "# 1. Graph generation"
   ],
   "metadata": {
    "collapsed": false
   }
  },
  {
   "cell_type": "code",
   "execution_count": 2,
   "outputs": [],
   "source": [
    "# SimpleSynthetic object used for the simple work graph structure generation\n",
    "\n",
    "r_seed = 231\n",
    "ss = SimpleSynthetic(r_seed)"
   ],
   "metadata": {
    "collapsed": false
   }
  },
  {
   "cell_type": "code",
   "execution_count": 3,
   "outputs": [],
   "source": [
    "# simple graph\n",
    "# should generate general (average) type of graph with 10 clusters from 100 to 200 vertices each\n",
    "\n",
    "simple_wg = ss.work_graph(mode=SyntheticGraphType.General,\n",
    "                          cluster_counts=10,\n",
    "                          bottom_border=100,\n",
    "                          top_border=200)"
   ],
   "metadata": {
    "collapsed": false
   }
  },
  {
   "cell_type": "code",
   "execution_count": 4,
   "outputs": [],
   "source": [
    "# complex graph\n",
    "# should generate general (average) type of graph with 300 unique works, 100 resources and 2000 vertices\n",
    "\n",
    "advanced_wg = ss.advanced_work_graph(works_count_top_border=2000,\n",
    "                                     uniq_works=300,\n",
    "                                     uniq_resources=100)"
   ],
   "metadata": {
    "collapsed": false
   }
  },
  {
   "cell_type": "markdown",
   "source": [
    "# 2. Contractor generation"
   ],
   "metadata": {
    "collapsed": false
   }
  },
  {
   "cell_type": "code",
   "execution_count": null,
   "outputs": [],
   "source": [
    "from uuid import uuid4\n",
    "from sampo.schemas.resources import Worker\n",
    "from sampo.schemas.contractor import Contractor"
   ],
   "metadata": {
    "collapsed": false
   }
  },
  {
   "cell_type": "markdown",
   "source": [
    "### Manual generation\n",
    "To create contractor, you should provide minimal info: unique id, contractor name, and supplied workers (simple renewable resources)."
   ],
   "metadata": {
    "collapsed": false
   }
  },
  {
   "cell_type": "code",
   "execution_count": null,
   "outputs": [],
   "source": [
    "contractors = [\n",
    "    Contractor(id=str(uuid4()),\n",
    "               name=\"OOO Berezka\",\n",
    "               workers={'worker' : Worker(id='0', name='worker', count=100)})\n",
    "]"
   ],
   "metadata": {
    "collapsed": false
   }
  },
  {
   "cell_type": "markdown",
   "source": [
    "### Generation from graph"
   ],
   "metadata": {
    "collapsed": false
   }
  },
  {
   "cell_type": "code",
   "execution_count": null,
   "outputs": [],
   "source": [
    "from sampo.generator import get_contractor_by_wg\n",
    "\n",
    "contractors = [get_contractor_by_wg(simple_wg)]"
   ],
   "metadata": {
    "collapsed": false
   }
  },
  {
   "cell_type": "markdown",
   "source": [
    "# 3. Scheduling"
   ],
   "metadata": {
    "collapsed": false
   }
  },
  {
   "cell_type": "markdown",
   "source": [
    "### Scheduler construction\n",
    "Before scheduling you should specify scheduling algorithm used for transforming input data to the final schedule.\n",
    "At this time SAMPO contains heuristic algorithms, such as HEFTAddEnd, HEFTAddBetween and Topological scheduler, and the Genetic algorithm.\n",
    "While creation, you can specify the hyperparameters to fit the algorithm."
   ],
   "metadata": {
    "collapsed": false
   }
  },
  {
   "cell_type": "code",
   "execution_count": null,
   "outputs": [],
   "source": [
    "from sampo.scheduler.heft.base import HEFTScheduler\n",
    "\n",
    "# here we can just create simple heuristic scheduler\n",
    "scheduler = HEFTScheduler()"
   ],
   "metadata": {
    "collapsed": false
   }
  },
  {
   "cell_type": "code",
   "execution_count": null,
   "outputs": [],
   "source": [
    "from sampo.scheduler.genetic.base import GeneticScheduler\n",
    "\n",
    "# or more complex genetic scheduler\n",
    "scheduler = GeneticScheduler(mutate_order=0.1,\n",
    "                             mutate_resources=0.3)"
   ],
   "metadata": {
    "collapsed": false
   }
  },
  {
   "cell_type": "markdown",
   "source": [
    "### Scheduling process\n",
    "SAMPO provides a simple interface to all its features.\n",
    "It called SchedulingPipeline.\n",
    "Using it you only should pass all the scheduling arguments, it remembers them, and you can produce schedules in many ways."
   ],
   "metadata": {
    "collapsed": false
   }
  },
  {
   "cell_type": "code",
   "execution_count": null,
   "outputs": [],
   "source": [
    "from sampo.pipeline import SchedulingPipeline\n",
    "\n",
    "schedule = SchedulingPipeline.create() \\\n",
    "    .wg(simple_wg) \\\n",
    "    .contractors(contractors) \\\n",
    "    .schedule(scheduler) \\\n",
    "    .finish()"
   ],
   "metadata": {
    "collapsed": false
   }
  },
  {
   "cell_type": "code",
   "execution_count": null,
   "outputs": [],
   "source": [],
   "metadata": {
    "collapsed": false
   }
  }
 ],
 "metadata": {
  "kernelspec": {
   "display_name": "Python 3",
   "language": "python",
   "name": "python3"
  },
  "language_info": {
   "codemirror_mode": {
    "name": "ipython",
    "version": 2
   },
   "file_extension": ".py",
   "mimetype": "text/x-python",
   "name": "python",
   "nbconvert_exporter": "python",
   "pygments_lexer": "ipython2",
   "version": "2.7.6"
  }
 },
 "nbformat": 4,
 "nbformat_minor": 0
}
