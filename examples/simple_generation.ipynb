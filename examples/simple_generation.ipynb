{
 "cells": [
  {
   "cell_type": "code",
   "execution_count": 1,
   "metadata": {
    "collapsed": true
   },
   "outputs": [],
   "source": [
    "from sampo.generator import SimpleSynthetic\n",
    "from sampo.generator.types import SyntheticGraphType"
   ]
  },
  {
   "cell_type": "markdown",
   "source": [
    "# 1. Graph generation"
   ],
   "metadata": {
    "collapsed": false
   }
  },
  {
   "cell_type": "code",
   "execution_count": 2,
   "outputs": [],
   "source": [
    "# SimpleSynthetic object used for the simple work graph structure generation\n",
    "\n",
    "r_seed = 231\n",
    "ss = SimpleSynthetic(r_seed)"
   ],
   "metadata": {
    "collapsed": false
   }
  },
  {
   "cell_type": "code",
   "execution_count": 3,
   "outputs": [],
   "source": [
    "# simple graph\n",
    "# should generate general (average) type of graph with 10 clusters from 100 to 200 vertices each\n",
    "\n",
    "simple_wg = ss.work_graph(mode=SyntheticGraphType.General,\n",
    "                          cluster_counts=10,\n",
    "                          bottom_border=100,\n",
    "                          top_border=200)"
   ],
   "metadata": {
    "collapsed": false
   }
  },
  {
   "cell_type": "code",
   "execution_count": 4,
   "outputs": [],
   "source": [
    "# complex graph\n",
    "# should generate general (average) type of graph with 300 unique works, 100 resources and 2000 vertices\n",
    "\n",
    "advanced_wg = ss.advanced_work_graph(works_count_top_border=2000,\n",
    "                                     uniq_works=300,\n",
    "                                     uniq_resources=100)"
   ],
   "metadata": {
    "collapsed": false
   }
  },
  {
   "cell_type": "markdown",
   "source": [
    "# 2. Contractor generation"
   ],
   "metadata": {
    "collapsed": false
   }
  },
  {
   "cell_type": "code",
   "execution_count": 5,
   "outputs": [],
   "source": [
    "from uuid import uuid4\n",
    "from sampo.schemas.resources import Worker\n",
    "from sampo.schemas.contractor import Contractor"
   ],
   "metadata": {
    "collapsed": false
   }
  },
  {
   "cell_type": "markdown",
   "source": [
    "### Manual generation\n",
    "To create contractor, you should provide minimal info: unique id, contractor name, and supplied workers (simple renewable resources)."
   ],
   "metadata": {
    "collapsed": false
   }
  },
  {
   "cell_type": "code",
   "execution_count": 6,
   "outputs": [],
   "source": [
    "contractors = [\n",
    "    Contractor(id=str(uuid4()),\n",
    "               name=\"OOO Berezka\",\n",
    "               workers={'worker' : Worker(id='0', name='worker', count=100)})\n",
    "]"
   ],
   "metadata": {
    "collapsed": false
   }
  },
  {
   "cell_type": "markdown",
   "source": [
    "### Generation from graph"
   ],
   "metadata": {
    "collapsed": false
   }
  },
  {
   "cell_type": "code",
   "execution_count": 7,
   "outputs": [],
   "source": [
    "from sampo.generator import get_contractor_by_wg\n",
    "\n",
    "contractors = [get_contractor_by_wg(simple_wg)]"
   ],
   "metadata": {
    "collapsed": false
   }
  },
  {
   "cell_type": "markdown",
   "source": [
    "# 3. Scheduling"
   ],
   "metadata": {
    "collapsed": false
   }
  },
  {
   "cell_type": "markdown",
   "source": [
    "### Scheduler construction\n",
    "Before scheduling you should specify scheduling algorithm used for transforming input data to the final schedule.\n",
    "At this time SAMPO contains heuristic algorithms, such as HEFTAddEnd, HEFTAddBetween and Topological scheduler, and the Genetic algorithm.\n",
    "While creation, you can specify the hyperparameters to fit the algorithm."
   ],
   "metadata": {
    "collapsed": false
   }
  },
  {
   "cell_type": "code",
   "execution_count": 8,
   "outputs": [],
   "source": [
    "from sampo.scheduler.heft.base import HEFTScheduler\n",
    "\n",
    "# here we can just create simple heuristic scheduler\n",
    "scheduler = HEFTScheduler()"
   ],
   "metadata": {
    "collapsed": false
   }
  },
  {
   "cell_type": "code",
   "execution_count": 9,
   "outputs": [
    {
     "name": "stdout",
     "output_type": "stream",
     "text": [
      "Can't find native module; switching to default\n"
     ]
    }
   ],
   "source": [
    "from sampo.scheduler.genetic.base import GeneticScheduler\n",
    "\n",
    "# or more complex genetic scheduler\n",
    "scheduler = GeneticScheduler(mutate_order=0.1,\n",
    "                             mutate_resources=0.3)"
   ],
   "metadata": {
    "collapsed": false
   }
  },
  {
   "cell_type": "markdown",
   "source": [
    "### Scheduling process\n",
    "SAMPO provides a simple interface to all its features.\n",
    "It called SchedulingPipeline.\n",
    "Using it you only should pass all the scheduling arguments, it remembers them, and you can produce schedules in many ways."
   ],
   "metadata": {
    "collapsed": false
   }
  },
  {
   "cell_type": "code",
   "execution_count": 10,
   "outputs": [
    {
     "name": "stdout",
     "output_type": "stream",
     "text": [
      "Genetic optimizing took 0.0 ms\n",
      "Toolbox initialization & first population took 387.9549503326416 ms\n",
      "First population evaluation took 390.5296325683594 ms\n",
      "-- Generation 0, population=20, best time=994.0 --\n",
      "-- Generation 1, population=15, best time=984.0 --\n",
      "-- Generation 2, population=10, best time=984.0 --\n",
      "-- Generation 3, population=10, best time=984.0 --\n",
      "-- Generation 4, population=4, best time=984.0 --\n",
      "-- Generation 5, population=4, best time=984.0 --\n",
      "-- Generation 6, population=6, best time=984.0 --\n",
      "-- Generation 7, population=6, best time=984.0 --\n",
      "-- Generation 8, population=18, best time=984.0 --\n",
      "-- Generation 9, population=26, best time=984.0 --\n",
      "-- Generation 10, population=18, best time=984.0 --\n",
      "-- Generation 11, population=9, best time=984.0 --\n",
      "-- Generation 12, population=14, best time=984.0 --\n",
      "-- Generation 13, population=7, best time=984.0 --\n",
      "-- Generation 14, population=2, best time=984.0 --\n",
      "-- Generation 15, population=1, best time=984.0 --\n",
      "-- Generation 16, population=1, best time=984.0 --\n",
      "-- Generation 17, population=1, best time=984.0 --\n",
      "-- Generation 18, population=1, best time=984.0 --\n",
      "-- Generation 19, population=1, best time=984.0 --\n",
      "-- Generation 20, population=1, best time=984.0 --\n",
      "-- Generation 21, population=1, best time=984.0 --\n",
      "-- Generation 22, population=1, best time=984.0 --\n",
      "-- Generation 23, population=1, best time=984.0 --\n",
      "-- Generation 24, population=1, best time=984.0 --\n",
      "-- Generation 25, population=1, best time=984.0 --\n",
      "-- Generation 26, population=1, best time=984.0 --\n",
      "-- Generation 27, population=1, best time=984.0 --\n",
      "-- Generation 28, population=1, best time=984.0 --\n",
      "-- Generation 29, population=1, best time=984.0 --\n",
      "-- Generation 30, population=1, best time=984.0 --\n",
      "-- Generation 31, population=1, best time=984.0 --\n",
      "-- Generation 32, population=1, best time=984.0 --\n",
      "-- Generation 33, population=1, best time=984.0 --\n",
      "-- Generation 34, population=1, best time=984.0 --\n",
      "-- Generation 35, population=1, best time=984.0 --\n",
      "-- Generation 36, population=1, best time=984.0 --\n",
      "-- Generation 37, population=1, best time=984.0 --\n",
      "-- Generation 38, population=1, best time=984.0 --\n",
      "-- Generation 39, population=1, best time=984.0 --\n",
      "-- Generation 40, population=1, best time=984.0 --\n",
      "-- Generation 41, population=1, best time=984.0 --\n",
      "-- Generation 42, population=1, best time=984.0 --\n",
      "-- Generation 43, population=1, best time=984.0 --\n",
      "-- Generation 44, population=1, best time=984.0 --\n",
      "-- Generation 45, population=1, best time=984.0 --\n",
      "-- Generation 46, population=1, best time=984.0 --\n",
      "-- Generation 47, population=1, best time=984.0 --\n",
      "-- Generation 48, population=1, best time=984.0 --\n",
      "-- Generation 49, population=1, best time=984.0 --\n",
      "Final time: 984.0\n",
      "Generations processing took 2364.213228225708 ms\n",
      "Evaluation time: 2692.2600269317627\n"
     ]
    },
    {
     "data": {
      "text/plain": "984"
     },
     "execution_count": 10,
     "metadata": {},
     "output_type": "execute_result"
    }
   ],
   "source": [
    "from sampo.pipeline import SchedulingPipeline\n",
    "\n",
    "schedule = SchedulingPipeline.create() \\\n",
    "    .wg(simple_wg) \\\n",
    "    .contractors(contractors) \\\n",
    "    .schedule(scheduler) \\\n",
    "    .finish()\n",
    "\n",
    "schedule.execution_time"
   ],
   "metadata": {
    "collapsed": false
   }
  },
  {
   "cell_type": "markdown",
   "source": [
    "### Other metrics\n",
    "Genetic scheduler can do more than just optimize MakeSpan. It supports more metrics.\n",
    "Metrics are represented by `FitnessFunction` class and can be passed to `GeneticScheduler` on constructing.\n",
    "\n",
    "Here we're constructing Genetic that should optimize resources to deadline."
   ],
   "metadata": {
    "collapsed": false
   }
  },
  {
   "cell_type": "code",
   "execution_count": 11,
   "outputs": [
    {
     "name": "stdout",
     "output_type": "stream",
     "text": [
      "Genetic optimizing took 0.0 ms\n",
      "Toolbox initialization & first population took 363.64173889160156 ms\n",
      "First population evaluation took 421.886682510376 ms\n",
      "-- Generation 0, population=20, best time=375.0 --\n",
      "-- Generation 1, population=11, best time=371.0 --\n",
      "-- Generation 2, population=5, best time=371.0 --\n",
      "-- Generation 3, population=8, best time=371.0 --\n",
      "-- Generation 4, population=9, best time=360.0 --\n",
      "-- Generation 5, population=3, best time=360.0 --\n",
      "-- Generation 6, population=1, best time=360.0 --\n",
      "-- Generation 7, population=1, best time=360.0 --\n",
      "-- Generation 8, population=1, best time=360.0 --\n",
      "-- Generation 9, population=1, best time=360.0 --\n",
      "-- Generation 10, population=1, best time=360.0 --\n",
      "-- Generation 11, population=1, best time=360.0 --\n",
      "-- Generation 12, population=1, best time=360.0 --\n",
      "-- Generation 13, population=1, best time=360.0 --\n",
      "-- Generation 14, population=1, best time=360.0 --\n",
      "-- Generation 15, population=1, best time=360.0 --\n",
      "-- Generation 16, population=1, best time=360.0 --\n",
      "-- Generation 17, population=1, best time=360.0 --\n",
      "-- Generation 18, population=1, best time=360.0 --\n",
      "-- Generation 19, population=1, best time=360.0 --\n",
      "-- Generation 20, population=1, best time=360.0 --\n",
      "-- Generation 21, population=1, best time=360.0 --\n",
      "-- Generation 22, population=1, best time=360.0 --\n",
      "-- Generation 23, population=1, best time=360.0 --\n",
      "-- Generation 24, population=1, best time=360.0 --\n",
      "-- Generation 25, population=1, best time=360.0 --\n",
      "-- Generation 26, population=1, best time=360.0 --\n",
      "-- Generation 27, population=1, best time=360.0 --\n",
      "-- Generation 28, population=1, best time=360.0 --\n",
      "-- Generation 29, population=1, best time=360.0 --\n",
      "-- Generation 30, population=1, best time=360.0 --\n",
      "-- Generation 31, population=1, best time=360.0 --\n",
      "-- Generation 32, population=1, best time=360.0 --\n",
      "-- Generation 33, population=1, best time=360.0 --\n",
      "-- Generation 34, population=1, best time=360.0 --\n",
      "-- Generation 35, population=1, best time=360.0 --\n",
      "-- Generation 36, population=1, best time=360.0 --\n",
      "-- Generation 37, population=1, best time=360.0 --\n",
      "-- Generation 38, population=1, best time=360.0 --\n",
      "-- Generation 39, population=1, best time=360.0 --\n",
      "-- Generation 40, population=1, best time=360.0 --\n",
      "-- Generation 41, population=1, best time=360.0 --\n",
      "-- Generation 42, population=1, best time=360.0 --\n",
      "-- Generation 43, population=1, best time=360.0 --\n",
      "-- Generation 44, population=1, best time=360.0 --\n",
      "-- Generation 45, population=1, best time=360.0 --\n",
      "-- Generation 46, population=1, best time=360.0 --\n",
      "-- Generation 47, population=1, best time=360.0 --\n",
      "-- Generation 48, population=1, best time=360.0 --\n",
      "-- Generation 49, population=1, best time=360.0 --\n",
      "Final time: 360.0\n",
      "Generations processing took 496.17862701416016 ms\n",
      "Evaluation time: 902.4441242218018\n"
     ]
    },
    {
     "data": {
      "text/plain": "1155"
     },
     "execution_count": 11,
     "metadata": {},
     "output_type": "execute_result"
    }
   ],
   "source": [
    "from sampo.schemas.time import Time\n",
    "from sampo.scheduler.genetic.operators import DeadlineResourcesFitness\n",
    "\n",
    "deadline = Time(2000)\n",
    "# calling `prepare` method to pass explicit parameters to fitness function\n",
    "fitness_constructor = DeadlineResourcesFitness.prepare(deadline)\n",
    "\n",
    "scheduler = GeneticScheduler(mutate_order=0.1,\n",
    "                             mutate_resources=0.3,\n",
    "                             fitness_constructor=fitness_constructor)\n",
    "scheduler.set_deadline(deadline)\n",
    "\n",
    "schedule = SchedulingPipeline.create() \\\n",
    "    .wg(simple_wg) \\\n",
    "    .contractors(contractors) \\\n",
    "    .schedule(scheduler) \\\n",
    "    .finish()\n",
    "\n",
    "schedule.execution_time"
   ],
   "metadata": {
    "collapsed": false
   }
  },
  {
   "cell_type": "markdown",
   "source": [
    "Additionally, you can construct other metrics: deadline cost, time with resources (without deadline) fitness:"
   ],
   "metadata": {
    "collapsed": false
   }
  },
  {
   "cell_type": "code",
   "execution_count": 15,
   "outputs": [
    {
     "name": "stdout",
     "output_type": "stream",
     "text": [
      "Genetic optimizing took 0.0 ms\n",
      "Toolbox initialization & first population took 156.21137619018555 ms\n",
      "First population evaluation took 506.76465034484863 ms\n",
      "-- Generation 0, population=20, best time=3750.0 --\n",
      "-- Generation 1, population=9, best time=3750.0 --\n",
      "-- Generation 2, population=4, best time=3750.0 --\n",
      "-- Generation 3, population=7, best time=3710.0 --\n",
      "-- Generation 4, population=9, best time=3710.0 --\n",
      "-- Generation 5, population=5, best time=3710.0 --\n",
      "-- Generation 6, population=4, best time=3710.0 --\n",
      "-- Generation 7, population=8, best time=3640.0 --\n",
      "-- Generation 8, population=12, best time=3640.0 --\n",
      "-- Generation 9, population=5, best time=3640.0 --\n",
      "-- Generation 10, population=6, best time=3570.0 --\n",
      "-- Generation 11, population=2, best time=3570.0 --\n",
      "-- Generation 12, population=1, best time=3570.0 --\n",
      "-- Generation 13, population=1, best time=3570.0 --\n",
      "-- Generation 14, population=1, best time=3570.0 --\n",
      "-- Generation 15, population=1, best time=3570.0 --\n",
      "-- Generation 16, population=1, best time=3570.0 --\n",
      "-- Generation 17, population=1, best time=3570.0 --\n",
      "-- Generation 18, population=1, best time=3570.0 --\n",
      "-- Generation 19, population=1, best time=3570.0 --\n",
      "-- Generation 20, population=1, best time=3570.0 --\n",
      "-- Generation 21, population=1, best time=3570.0 --\n",
      "-- Generation 22, population=1, best time=3570.0 --\n",
      "-- Generation 23, population=1, best time=3570.0 --\n",
      "-- Generation 24, population=1, best time=3570.0 --\n",
      "-- Generation 25, population=1, best time=3570.0 --\n",
      "-- Generation 26, population=1, best time=3570.0 --\n",
      "-- Generation 27, population=1, best time=3570.0 --\n",
      "-- Generation 28, population=1, best time=3570.0 --\n",
      "-- Generation 29, population=1, best time=3570.0 --\n",
      "-- Generation 30, population=1, best time=3570.0 --\n",
      "-- Generation 31, population=1, best time=3570.0 --\n",
      "-- Generation 32, population=1, best time=3570.0 --\n",
      "-- Generation 33, population=1, best time=3570.0 --\n",
      "-- Generation 34, population=1, best time=3570.0 --\n",
      "-- Generation 35, population=1, best time=3570.0 --\n",
      "-- Generation 36, population=1, best time=3570.0 --\n",
      "-- Generation 37, population=1, best time=3570.0 --\n",
      "-- Generation 38, population=1, best time=3570.0 --\n",
      "-- Generation 39, population=1, best time=3570.0 --\n",
      "-- Generation 40, population=1, best time=3570.0 --\n",
      "-- Generation 41, population=1, best time=3570.0 --\n",
      "-- Generation 42, population=1, best time=3570.0 --\n",
      "-- Generation 43, population=1, best time=3570.0 --\n",
      "-- Generation 44, population=1, best time=3570.0 --\n",
      "-- Generation 45, population=1, best time=3570.0 --\n",
      "-- Generation 46, population=1, best time=3570.0 --\n",
      "-- Generation 47, population=1, best time=3570.0 --\n",
      "-- Generation 48, population=1, best time=3570.0 --\n",
      "-- Generation 49, population=1, best time=3570.0 --\n",
      "Final time: 3570.0\n",
      "Generations processing took 984.3361377716064 ms\n",
      "Evaluation time: 1458.8677883148193\n"
     ]
    },
    {
     "data": {
      "text/plain": "1894"
     },
     "execution_count": 15,
     "metadata": {},
     "output_type": "execute_result"
    }
   ],
   "source": [
    "from sampo.scheduler.genetic.operators import DeadlineCostFitness\n",
    "\n",
    "fitness_constructor = DeadlineCostFitness.prepare(deadline)\n",
    "\n",
    "scheduler = GeneticScheduler(mutate_order=0.1,\n",
    "                             mutate_resources=0.3,\n",
    "                             fitness_constructor=fitness_constructor)\n",
    "scheduler.set_deadline(deadline)\n",
    "\n",
    "schedule = SchedulingPipeline.create() \\\n",
    "    .wg(simple_wg) \\\n",
    "    .contractors(contractors) \\\n",
    "    .schedule(scheduler) \\\n",
    "    .finish()\n",
    "\n",
    "schedule.execution_time"
   ],
   "metadata": {
    "collapsed": false
   }
  },
  {
   "cell_type": "code",
   "execution_count": 14,
   "outputs": [
    {
     "name": "stdout",
     "output_type": "stream",
     "text": [
      "Genetic optimizing took 0.0 ms\n",
      "Toolbox initialization & first population took 140.5961513519287 ms\n",
      "First population evaluation took 406.12125396728516 ms\n",
      "-- Generation 0, population=20, best time=1369.0 --\n",
      "-- Generation 1, population=11, best time=1369.0 --\n",
      "-- Generation 2, population=7, best time=1369.0 --\n",
      "-- Generation 3, population=11, best time=1369.0 --\n",
      "-- Generation 4, population=6, best time=1369.0 --\n",
      "-- Generation 5, population=12, best time=1369.0 --\n",
      "-- Generation 6, population=6, best time=1369.0 --\n",
      "-- Generation 7, population=3, best time=1369.0 --\n",
      "-- Generation 8, population=4, best time=1369.0 --\n",
      "-- Generation 9, population=9, best time=1369.0 --\n",
      "-- Generation 10, population=13, best time=1362.0 --\n",
      "-- Generation 11, population=7, best time=1355.0 --\n",
      "-- Generation 12, population=2, best time=1355.0 --\n",
      "-- Generation 13, population=1, best time=1355.0 --\n",
      "-- Generation 14, population=1, best time=1355.0 --\n",
      "-- Generation 15, population=1, best time=1355.0 --\n",
      "-- Generation 16, population=1, best time=1355.0 --\n",
      "-- Generation 17, population=1, best time=1355.0 --\n",
      "-- Generation 18, population=1, best time=1355.0 --\n",
      "-- Generation 19, population=1, best time=1355.0 --\n",
      "-- Generation 20, population=1, best time=1355.0 --\n",
      "-- Generation 21, population=1, best time=1355.0 --\n",
      "-- Generation 22, population=1, best time=1355.0 --\n",
      "-- Generation 23, population=1, best time=1355.0 --\n",
      "-- Generation 24, population=1, best time=1355.0 --\n",
      "-- Generation 25, population=1, best time=1355.0 --\n",
      "-- Generation 26, population=1, best time=1355.0 --\n",
      "-- Generation 27, population=1, best time=1355.0 --\n",
      "-- Generation 28, population=1, best time=1355.0 --\n",
      "-- Generation 29, population=1, best time=1355.0 --\n",
      "-- Generation 30, population=1, best time=1355.0 --\n",
      "-- Generation 31, population=1, best time=1355.0 --\n",
      "-- Generation 32, population=1, best time=1355.0 --\n",
      "-- Generation 33, population=1, best time=1355.0 --\n",
      "-- Generation 34, population=1, best time=1355.0 --\n",
      "-- Generation 35, population=1, best time=1355.0 --\n",
      "-- Generation 36, population=1, best time=1355.0 --\n",
      "-- Generation 37, population=1, best time=1355.0 --\n",
      "-- Generation 38, population=1, best time=1355.0 --\n",
      "-- Generation 39, population=1, best time=1355.0 --\n",
      "-- Generation 40, population=1, best time=1355.0 --\n",
      "-- Generation 41, population=1, best time=1355.0 --\n",
      "-- Generation 42, population=1, best time=1355.0 --\n",
      "-- Generation 43, population=1, best time=1355.0 --\n",
      "-- Generation 44, population=1, best time=1355.0 --\n",
      "-- Generation 45, population=1, best time=1355.0 --\n",
      "-- Generation 46, population=1, best time=1355.0 --\n",
      "-- Generation 47, population=1, best time=1355.0 --\n",
      "-- Generation 48, population=1, best time=1355.0 --\n",
      "-- Generation 49, population=1, best time=1355.0 --\n",
      "Final time: 1355.0\n",
      "Generations processing took 1361.7825508117676 ms\n",
      "Evaluation time: 1752.2532939910889\n"
     ]
    },
    {
     "data": {
      "text/plain": "994"
     },
     "execution_count": 14,
     "metadata": {},
     "output_type": "execute_result"
    }
   ],
   "source": [
    "from sampo.scheduler.genetic.operators import TimeAndResourcesFitness\n",
    "\n",
    "fitness_constructor = TimeAndResourcesFitness\n",
    "\n",
    "scheduler = GeneticScheduler(mutate_order=0.1,\n",
    "                             mutate_resources=0.3,\n",
    "                             fitness_constructor=fitness_constructor)\n",
    "scheduler.set_deadline(deadline)\n",
    "\n",
    "schedule = SchedulingPipeline.create() \\\n",
    "    .wg(simple_wg) \\\n",
    "    .contractors(contractors) \\\n",
    "    .schedule(scheduler) \\\n",
    "    .finish()\n",
    "\n",
    "schedule.execution_time"
   ],
   "metadata": {
    "collapsed": false
   }
  },
  {
   "cell_type": "code",
   "execution_count": null,
   "outputs": [],
   "source": [],
   "metadata": {
    "collapsed": false
   }
  }
 ],
 "metadata": {
  "kernelspec": {
   "display_name": "Python 3",
   "language": "python",
   "name": "python3"
  },
  "language_info": {
   "codemirror_mode": {
    "name": "ipython",
    "version": 2
   },
   "file_extension": ".py",
   "mimetype": "text/x-python",
   "name": "python",
   "nbconvert_exporter": "python",
   "pygments_lexer": "ipython2",
   "version": "2.7.6"
  }
 },
 "nbformat": 4,
 "nbformat_minor": 0
}
