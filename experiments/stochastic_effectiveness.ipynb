{
 "cells": [
  {
   "cell_type": "code",
   "execution_count": 1,
   "id": "initial_id",
   "metadata": {
    "collapsed": true
   },
   "outputs": [
    {
     "data": {
      "text/plain": "106"
     },
     "execution_count": 1,
     "metadata": {},
     "output_type": "execute_result"
    }
   ],
   "source": [
    "from sampo.generator import SimpleSynthetic, SyntheticGraphType\n",
    "from random import Random\n",
    "\n",
    "rand = Random(123)\n",
    "ss = SimpleSynthetic(rand)\n",
    "\n",
    "fixed_wg = ss.work_graph(mode=SyntheticGraphType.GENERAL, cluster_counts=10, bottom_border=100, top_border=100)\n",
    "\n",
    "fixed_wg.vertex_count"
   ]
  },
  {
   "cell_type": "code",
   "execution_count": 2,
   "outputs": [
    {
     "name": "stdout",
     "output_type": "stream",
     "text": [
      "Can not find native module; switching to default\n",
      "347\n"
     ]
    }
   ],
   "source": [
    "from sampo.schemas.stochastic_graph import ProbabilisticFollowingStochasticGraphScheme\n",
    "\n",
    "# construct the stochastic graph scheme\n",
    "graph_scheme = ProbabilisticFollowingStochasticGraphScheme(rand=rand, wg=fixed_wg)\n",
    "defect_graphs = []\n",
    "for i, node in enumerate(fixed_wg.nodes):\n",
    "    defect = ss.graph_nodes(top_border=20)\n",
    "    defect_graphs.append(defect)\n",
    "    \n",
    "    defect_prob = rand.random() * 0.5\n",
    "    graph_scheme.add_part(node=node.id, nodes=defect, prob=defect_prob)\n",
    "\n",
    "scheme = graph_scheme.prepare_graph()\n",
    "perfect_wg = graph_scheme.prepare_graph().to_work_graph()\n",
    "print(perfect_wg.vertex_count)"
   ],
   "metadata": {
    "collapsed": false
   },
   "id": "8325f136b29112b0"
  },
  {
   "cell_type": "code",
   "execution_count": 3,
   "outputs": [
    {
     "data": {
      "text/plain": "338"
     },
     "execution_count": 3,
     "metadata": {},
     "output_type": "execute_result"
    }
   ],
   "source": [
    "scheme.to_work_graph().vertex_count"
   ],
   "metadata": {
    "collapsed": false,
    "ExecuteTime": {
     "end_time": "2025-05-26T14:40:32.056207200Z",
     "start_time": "2025-05-26T14:40:31.714208100Z"
    }
   },
   "id": "dd00f9f1e4723688"
  },
  {
   "cell_type": "code",
   "execution_count": 4,
   "outputs": [],
   "source": [
    "from sampo.schemas import WorkerProductivityMode, IntervalGaussian\n",
    "from sampo.schemas.time_estimator import DefaultWorkEstimator, WorkTimeEstimator\n",
    "\n",
    "\n",
    "def construct_work_estimator(i: int, productivity: WorkerProductivityMode) -> WorkTimeEstimator:\n",
    "    work_estimator = DefaultWorkEstimator()\n",
    "    work_estimator.set_productivity_mode(productivity)\n",
    "    for worker in ['driver', 'fitter', 'manager', 'handyman', 'electrician', 'engineer']:\n",
    "        work_estimator.set_worker_productivity(IntervalGaussian(0.2 * i + 0.2, 1, 0, 2), worker)\n",
    "    return work_estimator\n",
    "\n",
    "work_estimator = construct_work_estimator(5, WorkerProductivityMode.Static)"
   ],
   "metadata": {
    "collapsed": false,
    "ExecuteTime": {
     "end_time": "2025-05-26T14:40:32.087204900Z",
     "start_time": "2025-05-26T14:40:32.056207200Z"
    }
   },
   "id": "147e6eeaa2f3216d"
  },
  {
   "cell_type": "code",
   "execution_count": 5,
   "outputs": [
    {
     "data": {
      "text/plain": "[ac7c2e69-7f2e-eb7e-0352-05d79b683076,\n 8ff41e8d-8944-897c-610e-4ad509c47055,\n 0d496d4b-da22-594f-573e-8d77550ae889,\n f692ff1b-e245-f7f3-29f2-a2fbf83d58c3,\n dea61187-b7bc-5c51-1072-75716b461015,\n 8f9b34c9-5653-d4bd-2293-202c28dfa298,\n ab33e90c-5f42-937f-24dc-25a5add65955,\n 29ed479c-3ec3-068c-b3a1-f1315573ae2d,\n d3234519-1410-7b06-be7e-41743c269046,\n 1a1f141b-72c5-3633-bb66-ecb350c1eb44,\n 6e3e43c2-e941-2995-4ab3-8105056fb885,\n 6ea37f12-62e1-0745-96dc-0a90cd620098,\n 73211a9a-597b-6ecf-0546-d9e6ab1f5a09,\n 737e7bea-ab38-ba7e-b605-d0dffafe0f4e,\n 4a8bbf55-ea73-6384-c5bf-60c6a7eb2407,\n 7ba35975-cd2e-e163-858c-2e6e57ed22d0,\n 8e7bea51-83c4-a23e-844f-cbcfdf13b884,\n 17c57804-570f-89e9-91f7-aa69e4b80fdf,\n e497cd2f-65f2-ef76-0336-5a0850b51605,\n 3e44ede9-819c-f976-ee08-6a5045917fb4,\n 6f33f708-8343-b946-a56a-62c3c4ef7978,\n 0e0eaf52-527d-eda5-9afe-de82d1de950d,\n 3993539e-5e76-d1e0-b9f0-82f18ba31e52,\n 7ea9de52-fde6-2703-49a6-dbeda38873b0,\n 96020f97-0d35-ea15-616e-068ff1b8788c,\n b4abf550-49e8-ea0d-f206-e242c6385b6b,\n f5e77d4d-cf30-cf2d-9097-a70286ee6241,\n 772e293a-1b82-e2bb-4c6b-6bce636f5f4a,\n 1ad2b334-8008-0777-57f4-42d5232ac74d,\n a3858cde-9be1-092e-d23e-e3c934f4f040,\n b8654db2-a147-123a-c3a1-cbbdf6cc94e5,\n fb0d7d65-7bdb-11b4-8b4e-bb7f3bbe584b,\n 03916f84-fb37-5d97-e6a2-61599481bfe8,\n e81775f3-ca42-25f7-2051-e671246595df,\n 3a427dca-62f1-b8b6-bad7-13f752145f68,\n 2ab38460-a12e-9ee3-1e9b-e4638460e4f5,\n c63a1434-ca86-2126-6dd3-84c54dc6373f,\n 00174986-6b9c-898b-a25f-6a716f2c39db,\n 15394bbe-16ba-deac-b501-64ea5ae54e83,\n 1f932b3a-2ea5-0aaa-0c7c-197cf4715a62,\n 56515178-4667-cb41-ec4b-752ae7cc6f90,\n 5ea9f6a9-ded6-f134-536a-5136243cbc73,\n 72073c35-a597-0882-3e1f-c4f7531f386e,\n 74d2b828-227d-8219-0299-536a0b4c1837,\n 76177fa8-c06c-250e-60eb-48f771cabf31,\n 7f17e291-a903-2c38-6d99-45650518f7a1,\n 810dc355-76a1-cbea-083b-3ae8dd2b1b93,\n 82a45999-1007-20f6-9e1a-06ce1bce9331,\n 88fcafb1-7a31-c224-21c3-80cbbbd7dc4b,\n 89503372-fdf0-f1df-275c-ecdc2d768558,\n 8abac44f-ff85-b989-7866-1a240af252fd,\n 8becdb6f-12cf-d8c3-60a1-2433892a4173,\n 9011773d-7070-d4bc-d741-ec954412f5e6,\n 93307c14-8041-42f3-749a-be48b0c2874d,\n 99023e32-388a-15af-f116-4a7ee43b7b77,\n 99f4c27d-e334-bbf9-e8c1-e791e64b0a58,\n b4d2ccbe-f68f-551d-c3fe-0bc392d2e210,\n cbb54287-0231-1144-e5c1-36826ee6372c,\n cc83fb47-41a0-f665-0560-d4e031740bd3,\n df2055ea-1008-e3a2-e341-fb05b020112a,\n f2e3ca17-3f98-03bb-5813-e1c3924f350e,\n f4656441-459d-31c5-af59-f4a05a1fc977,\n 4e1ad87e-c4cf-bb8a-0968-02f6d67c8720,\n 63201a15-84c9-44fc-c210-698f0ea1fc60,\n e9e9b16c-2569-6171-4e60-bf9b899bfbfc,\n 5329c88e-8586-f91e-2898-878d073beb3c,\n eca7490f-d450-c9dd-43f6-7250801f1dce,\n 7469e0f1-22d1-ee44-bdc9-cbf10fe2e2e7,\n 0f4a38e6-e8be-44f2-d2f7-9e2fb942004e,\n 4bc0096b-ebf3-6820-11b4-6b4e5e572499,\n 605c0892-8f1c-9eec-db38-8a502cc4d94d,\n 80420937-8830-fcc6-67dd-30d73aa83f8c,\n 80b9707c-43f2-4ead-e880-a0431f50ceea,\n ff5f9af7-5a17-03c5-e56a-0eb10348c4bc,\n 5d0f5781-a0d9-6ade-d4e3-fda5169179e2,\n 7823908d-43ec-1f85-7a17-a6a492cadf50,\n b85adb29-bd7b-6bd9-bd0a-bba0defeea7f,\n 01b0366f-11e3-74ee-60aa-0d3098fc4743,\n e0edeaf1-166d-d683-c609-dcba6fafc520,\n 22ac9684-88c0-3e99-ef7a-0fc6cf1be5a9,\n 6015f5af-6a2b-9275-d774-c3ee0ffc361a,\n 61e34b6e-2e40-c929-ff3f-83bfd20adaba,\n 65faaaa6-bb06-0061-7e06-84467be4bd5e,\n 6b641b3b-ab20-dd48-8546-a1a97c73708c,\n 81504411-3274-cf25-f4c4-b58b1492977a,\n 8de04a9e-5640-230e-55bc-0a692b8d6f81,\n 95a9e846-b21e-c7cb-57e8-b4a27e95e03c,\n 9611516c-3066-5bc3-042c-c7c2560b0cb9,\n 98b485de-aaaa-1310-cbe5-4c28a36b1e87,\n 99e8110c-ca5f-e9fb-cb35-be2fe5f4e87f,\n d4069975-d530-e058-b6b9-302641c10918,\n ea1c8f19-6554-0577-572c-6eda7c725b86,\n 04649df7-e40c-0a13-e41c-e352fec9b017,\n 0b03aa4d-65ee-7b24-43b9-74fc527257ae,\n 222aef26-89a5-8715-8df5-fc8e57553ab4,\n 50c50acb-6bb7-097e-db15-c5beab40212e,\n 633d6624-74ee-afd8-b91d-f46412c32f37,\n 75f47707-dc94-e704-5c53-46fa0d6c6796,\n 7ca5d0ed-e9e4-b2dd-1525-e9d3d1f7fbe4,\n 99a046d3-15c9-1d91-3b1e-1977908b3b0a,\n 9c18a250-2048-7f69-ecca-1ca180526a3a,\n a53c4cc6-c111-7e2f-d8eb-64120826c069,\n cfbbdf04-57d1-0761-72f4-bbffc5317618,\n 07758380-677a-20a7-a295-7691b1b77a92,\n fed4829c-2b03-621a-48fb-d18640dc5438,\n 44faa95b-0bef-5bcf-32bf-e8fa2a2e562e]"
     },
     "execution_count": 5,
     "metadata": {},
     "output_type": "execute_result"
    }
   ],
   "source": [
    "from sampo.scheduler.heft.prioritization import prioritization\n",
    "\n",
    "static_prioritization = prioritization(fixed_wg, work_estimator)\n",
    "static_prioritization"
   ],
   "metadata": {
    "collapsed": false,
    "ExecuteTime": {
     "end_time": "2025-05-26T14:40:32.095208Z",
     "start_time": "2025-05-26T14:40:32.073207800Z"
    }
   },
   "id": "722e727d004ebc3c"
  },
  {
   "cell_type": "code",
   "execution_count": 6,
   "outputs": [
    {
     "data": {
      "text/plain": "316"
     },
     "execution_count": 6,
     "metadata": {},
     "output_type": "execute_result"
    }
   ],
   "source": [
    "stochastic_wg = graph_scheme.prepare_graph().to_work_graph()\n",
    "stochastic_wg.vertex_count"
   ],
   "metadata": {
    "collapsed": false,
    "ExecuteTime": {
     "end_time": "2025-05-26T14:40:32.448206400Z",
     "start_time": "2025-05-26T14:40:32.119204900Z"
    }
   },
   "id": "94419317a7ba088b"
  },
  {
   "cell_type": "code",
   "execution_count": 7,
   "outputs": [],
   "source": [
    "from sampo.scheduler.utils.time_computaion import work_priority, calculate_working_time_cascade\n",
    "from sampo.scheduler.heft.prioritization import prioritization_nodes, stochastic_prioritization\n",
    "from sampo.schemas import WorkGraph, GraphNode\n",
    "\n",
    "\n",
    "def stochastic_prioritization_function(wg: WorkGraph, work_estimator: WorkTimeEstimator) -> list[GraphNode]:\n",
    "    # wg is stochastic-generated graph\n",
    "    # here we can use only information from static graph\n",
    "    # let's use static prioritization\n",
    "\n",
    "    order = []\n",
    "    for original_static_node in static_prioritization:\n",
    "        static_node = stochastic_wg[original_static_node.id]\n",
    "        order.append(static_node)\n",
    "        # haha, get all defects...\n",
    "        children = static_node.get_following_nodes()\n",
    "        children_prioritization = prioritization_nodes(children, work_estimator)\n",
    "        order.extend(children_prioritization)\n",
    "    return order\n",
    "\n",
    "\n",
    "# def stochastic_prioritization_function_enhanced(wg: WorkGraph, work_estimator: WorkTimeEstimator) -> list[GraphNode]:\n",
    "#     # wg is stochastic-generated graph\n",
    "#     # here we can use information from static graph's followers statistics\n",
    "#     # let's use static prioritization\n",
    "#\n",
    "#     weights = {node: -(work_priority(node, calculate_working_time_cascade, work_estimator) + )\n",
    "#                for node in static_prioritization}\n",
    "#\n",
    "#     path_weights = ford_bellman(nodes, weights)\n",
    "#\n",
    "#     ordered_nodes = [i[0] for i in sorted(path_weights.items(), key=lambda x: (x[1], x[0].id))\n",
    "#                      if not i[0].is_inseparable_son()]\n",
    "#     return order"
   ],
   "metadata": {
    "collapsed": false,
    "ExecuteTime": {
     "end_time": "2025-05-26T14:40:32.479206400Z",
     "start_time": "2025-05-26T14:40:32.449206400Z"
    }
   },
   "id": "4b68cab0332f3c5e"
  },
  {
   "cell_type": "code",
   "execution_count": 9,
   "outputs": [
    {
     "ename": "KeyboardInterrupt",
     "evalue": "",
     "output_type": "error",
     "traceback": [
      "\u001B[1;31m---------------------------------------------------------------------------\u001B[0m",
      "\u001B[1;31mKeyboardInterrupt\u001B[0m                         Traceback (most recent call last)",
      "Cell \u001B[1;32mIn[9], line 13\u001B[0m\n\u001B[0;32m      6\u001B[0m scheduler \u001B[38;5;241m=\u001B[39m HEFTScheduler(stochastic_prioritization_f\u001B[38;5;241m=\u001B[39mstochastic_prioritization, work_estimator\u001B[38;5;241m=\u001B[39mwork_estimator)\n\u001B[0;32m      7\u001B[0m contractors \u001B[38;5;241m=\u001B[39m [get_contractor_by_wg(stochastic_wg)]\n\u001B[0;32m      9\u001B[0m project \u001B[38;5;241m=\u001B[39m \u001B[43mSchedulingPipeline\u001B[49m\u001B[38;5;241;43m.\u001B[39;49m\u001B[43mcreate\u001B[49m\u001B[43m(\u001B[49m\u001B[43m)\u001B[49m\u001B[43m \u001B[49m\u001B[43m\\\u001B[49m\n\u001B[0;32m     10\u001B[0m \u001B[43m    \u001B[49m\u001B[38;5;241;43m.\u001B[39;49m\u001B[43mstochastic_wg\u001B[49m\u001B[43m(\u001B[49m\u001B[43mscheme\u001B[49m\u001B[43m)\u001B[49m\u001B[43m \u001B[49m\u001B[43m\\\u001B[49m\n\u001B[0;32m     11\u001B[0m \u001B[43m    \u001B[49m\u001B[38;5;241;43m.\u001B[39;49m\u001B[43mcontractors\u001B[49m\u001B[43m(\u001B[49m\u001B[43mcontractors\u001B[49m\u001B[43m)\u001B[49m\u001B[43m \u001B[49m\u001B[43m\\\u001B[49m\n\u001B[0;32m     12\u001B[0m \u001B[43m    \u001B[49m\u001B[38;5;241;43m.\u001B[39;49m\u001B[43mwork_estimator\u001B[49m\u001B[43m(\u001B[49m\u001B[43mwork_estimator\u001B[49m\u001B[43m)\u001B[49m\u001B[43m \u001B[49m\u001B[43m\\\u001B[49m\n\u001B[1;32m---> 13\u001B[0m \u001B[43m    \u001B[49m\u001B[38;5;241;43m.\u001B[39;49m\u001B[43mstochastic_schedule\u001B[49m\u001B[43m(\u001B[49m\u001B[43mscheduler\u001B[49m\u001B[43m)\u001B[49m \\\n\u001B[0;32m     14\u001B[0m     \u001B[38;5;241m.\u001B[39mfinish()[\u001B[38;5;241m0\u001B[39m]\n\u001B[0;32m     16\u001B[0m project\u001B[38;5;241m.\u001B[39mschedule\u001B[38;5;241m.\u001B[39mexecution_time\n",
      "File \u001B[1;32m~\\PycharmProjects\\SAMPO\\sampo\\pipeline\\default.py:291\u001B[0m, in \u001B[0;36mDefaultInputPipeline.stochastic_schedule\u001B[1;34m(self, scheduler)\u001B[0m\n\u001B[0;32m    288\u001B[0m \u001B[38;5;28;01mdef\u001B[39;00m\u001B[38;5;250m \u001B[39m\u001B[38;5;21mstochastic_schedule\u001B[39m(\u001B[38;5;28mself\u001B[39m, scheduler: Scheduler) \u001B[38;5;241m-\u001B[39m\u001B[38;5;241m>\u001B[39m \u001B[38;5;124m'\u001B[39m\u001B[38;5;124mSchedulePipeline\u001B[39m\u001B[38;5;124m'\u001B[39m:\n\u001B[0;32m    289\u001B[0m     \u001B[38;5;66;03m# TODO Make ability to fix all random curcumstances in stochastic wg generation,\u001B[39;00m\n\u001B[0;32m    290\u001B[0m     \u001B[38;5;66;03m#  e.g. every full generation should be the same as others\u001B[39;00m\n\u001B[1;32m--> 291\u001B[0m     schedules \u001B[38;5;241m=\u001B[39m \u001B[43mscheduler\u001B[49m\u001B[38;5;241;43m.\u001B[39;49m\u001B[43mstochastic_schedule_with_cache\u001B[49m\u001B[43m(\u001B[49m\u001B[38;5;28;43mself\u001B[39;49m\u001B[38;5;241;43m.\u001B[39;49m\u001B[43m_stochastic_wg\u001B[49m\u001B[43m,\u001B[49m\u001B[43m \u001B[49m\u001B[38;5;28;43mself\u001B[39;49m\u001B[38;5;241;43m.\u001B[39;49m\u001B[43m_contractors\u001B[49m\u001B[43m,\u001B[49m\u001B[43m \u001B[49m\u001B[38;5;28;43mself\u001B[39;49m\u001B[38;5;241;43m.\u001B[39;49m\u001B[43m_spec\u001B[49m\u001B[43m,\u001B[49m\n\u001B[0;32m    292\u001B[0m \u001B[43m                                                         \u001B[49m\u001B[43mlandscape\u001B[49m\u001B[38;5;241;43m=\u001B[39;49m\u001B[38;5;28;43mself\u001B[39;49m\u001B[38;5;241;43m.\u001B[39;49m\u001B[43m_landscape_config\u001B[49m\u001B[43m,\u001B[49m\n\u001B[0;32m    293\u001B[0m \u001B[43m                                                         \u001B[49m\u001B[43massigned_parent_time\u001B[49m\u001B[38;5;241;43m=\u001B[39;49m\u001B[38;5;28;43mself\u001B[39;49m\u001B[38;5;241;43m.\u001B[39;49m\u001B[43m_assigned_parent_time\u001B[49m\u001B[43m)\u001B[49m\n\u001B[0;32m    294\u001B[0m     \u001B[38;5;66;03m# FIXME now without multi-schedule (pareto) support\u001B[39;00m\n\u001B[0;32m    295\u001B[0m     schedule \u001B[38;5;241m=\u001B[39m schedules[\u001B[38;5;241m0\u001B[39m][\u001B[38;5;241m0\u001B[39m]\n",
      "File \u001B[1;32m~\\PycharmProjects\\SAMPO\\sampo\\scheduler\\generic.py:136\u001B[0m, in \u001B[0;36mGenericScheduler.stochastic_schedule_with_cache\u001B[1;34m(self, stochastic_wg, contractors, spec, assigned_parent_time, timeline, landscape)\u001B[0m\n\u001B[0;32m    128\u001B[0m \u001B[38;5;28;01mdef\u001B[39;00m\u001B[38;5;250m \u001B[39m\u001B[38;5;21mstochastic_schedule_with_cache\u001B[39m(\u001B[38;5;28mself\u001B[39m,\n\u001B[0;32m    129\u001B[0m                                    stochastic_wg: StochasticGraph,\n\u001B[0;32m    130\u001B[0m                                    contractors: \u001B[38;5;28mlist\u001B[39m[Contractor],\n\u001B[1;32m   (...)\u001B[0m\n\u001B[0;32m    134\u001B[0m                                    landscape: LandscapeConfiguration() \u001B[38;5;241m=\u001B[39m LandscapeConfiguration()) \\\n\u001B[0;32m    135\u001B[0m         \u001B[38;5;241m-\u001B[39m\u001B[38;5;241m>\u001B[39m \u001B[38;5;28mlist\u001B[39m[\u001B[38;5;28mtuple\u001B[39m[Schedule, Time, Timeline, \u001B[38;5;28mlist\u001B[39m[GraphNode], WorkGraph]]:\n\u001B[1;32m--> 136\u001B[0m     ordered_nodes \u001B[38;5;241m=\u001B[39m \u001B[38;5;28;43mlist\u001B[39;49m\u001B[43m(\u001B[49m\u001B[38;5;28;43mself\u001B[39;49m\u001B[38;5;241;43m.\u001B[39;49m\u001B[43mstochastic_prioritization\u001B[49m\u001B[43m(\u001B[49m\u001B[43mstochastic_wg\u001B[49m\u001B[43m,\u001B[49m\u001B[43m \u001B[49m\u001B[38;5;28;43mself\u001B[39;49m\u001B[38;5;241;43m.\u001B[39;49m\u001B[43mwork_estimator\u001B[49m\u001B[43m)\u001B[49m\u001B[43m)\u001B[49m\n\u001B[0;32m    137\u001B[0m     wg \u001B[38;5;241m=\u001B[39m WorkGraph\u001B[38;5;241m.\u001B[39mfrom_nodes(ordered_nodes)\n\u001B[0;32m    139\u001B[0m     schedule, schedule_start_time, timeline, nodes_order \u001B[38;5;241m=\u001B[39m \\\n\u001B[0;32m    140\u001B[0m         \u001B[38;5;28mself\u001B[39m\u001B[38;5;241m.\u001B[39mbuild_scheduler(ordered_nodes, contractors, landscape, spec, \u001B[38;5;28mself\u001B[39m\u001B[38;5;241m.\u001B[39mwork_estimator,\n\u001B[0;32m    141\u001B[0m                              assigned_parent_time, timeline)\n",
      "File \u001B[1;32m~\\PycharmProjects\\SAMPO\\sampo\\scheduler\\heft\\prioritization.py:109\u001B[0m, in \u001B[0;36mstochastic_prioritization\u001B[1;34m(wg, work_estimator)\u001B[0m\n\u001B[0;32m    104\u001B[0m \u001B[38;5;66;03m# for child in node.children_set:\u001B[39;00m\n\u001B[0;32m    105\u001B[0m \u001B[38;5;66;03m#     pending_works.add(child)\u001B[39;00m\n\u001B[0;32m    107\u001B[0m \u001B[38;5;28;01myield\u001B[39;00m node\n\u001B[1;32m--> 109\u001B[0m generated_graphs \u001B[38;5;241m=\u001B[39m \u001B[43mwg\u001B[49m\u001B[38;5;241;43m.\u001B[39;49m\u001B[43mnext\u001B[49m\u001B[43m(\u001B[49m\u001B[43mnode\u001B[49m\u001B[43m)\u001B[49m\n\u001B[0;32m    111\u001B[0m \u001B[38;5;28;01mfor\u001B[39;00m generated_nodes \u001B[38;5;129;01min\u001B[39;00m generated_graphs:\n\u001B[0;32m    112\u001B[0m     inner_prioritization \u001B[38;5;241m=\u001B[39m prioritization_nodes(generated_nodes, work_estimator)\n",
      "File \u001B[1;32m~\\PycharmProjects\\SAMPO\\sampo\\schemas\\stochastic_graph.py:126\u001B[0m, in \u001B[0;36mProbabilisticFollowingStochasticGraph.next\u001B[1;34m(self, node, min_prob, max_prob)\u001B[0m\n\u001B[0;32m    124\u001B[0m \u001B[38;5;28;01mif\u001B[39;00m result \u001B[38;5;129;01mis\u001B[39;00m \u001B[38;5;28;01mNone\u001B[39;00m:\n\u001B[0;32m    125\u001B[0m     \u001B[38;5;28;01mreturn\u001B[39;00m []\n\u001B[1;32m--> 126\u001B[0m generated_subgraphs \u001B[38;5;241m=\u001B[39m [copy_nodes(nodes, drop_outer_works\u001B[38;5;241m=\u001B[39m\u001B[38;5;28;01mTrue\u001B[39;00m) \u001B[38;5;28;01mfor\u001B[39;00m nodes, prob \u001B[38;5;129;01min\u001B[39;00m result \u001B[38;5;28;01mif\u001B[39;00m prob \u001B[38;5;241m>\u001B[39m\u001B[38;5;241m=\u001B[39m min_prob \u001B[38;5;129;01mand\u001B[39;00m prob \u001B[38;5;241m<\u001B[39m\u001B[38;5;241m=\u001B[39m max_prob \u001B[38;5;129;01mand\u001B[39;00m \u001B[38;5;28mself\u001B[39m\u001B[38;5;241m.\u001B[39m_rand\u001B[38;5;241m.\u001B[39mrandom() \u001B[38;5;241m<\u001B[39m prob]\n\u001B[0;32m    127\u001B[0m inner_start \u001B[38;5;241m=\u001B[39m get_start_stage(rand\u001B[38;5;241m=\u001B[39m\u001B[38;5;28mself\u001B[39m\u001B[38;5;241m.\u001B[39m_rand)\n\u001B[0;32m    128\u001B[0m inner_start\u001B[38;5;241m.\u001B[39madd_parents([node])\n",
      "File \u001B[1;32m~\\PycharmProjects\\SAMPO\\sampo\\schemas\\stochastic_graph.py:126\u001B[0m, in \u001B[0;36m<listcomp>\u001B[1;34m(.0)\u001B[0m\n\u001B[0;32m    124\u001B[0m \u001B[38;5;28;01mif\u001B[39;00m result \u001B[38;5;129;01mis\u001B[39;00m \u001B[38;5;28;01mNone\u001B[39;00m:\n\u001B[0;32m    125\u001B[0m     \u001B[38;5;28;01mreturn\u001B[39;00m []\n\u001B[1;32m--> 126\u001B[0m generated_subgraphs \u001B[38;5;241m=\u001B[39m [\u001B[43mcopy_nodes\u001B[49m\u001B[43m(\u001B[49m\u001B[43mnodes\u001B[49m\u001B[43m,\u001B[49m\u001B[43m \u001B[49m\u001B[43mdrop_outer_works\u001B[49m\u001B[38;5;241;43m=\u001B[39;49m\u001B[38;5;28;43;01mTrue\u001B[39;49;00m\u001B[43m)\u001B[49m \u001B[38;5;28;01mfor\u001B[39;00m nodes, prob \u001B[38;5;129;01min\u001B[39;00m result \u001B[38;5;28;01mif\u001B[39;00m prob \u001B[38;5;241m>\u001B[39m\u001B[38;5;241m=\u001B[39m min_prob \u001B[38;5;129;01mand\u001B[39;00m prob \u001B[38;5;241m<\u001B[39m\u001B[38;5;241m=\u001B[39m max_prob \u001B[38;5;129;01mand\u001B[39;00m \u001B[38;5;28mself\u001B[39m\u001B[38;5;241m.\u001B[39m_rand\u001B[38;5;241m.\u001B[39mrandom() \u001B[38;5;241m<\u001B[39m prob]\n\u001B[0;32m    127\u001B[0m inner_start \u001B[38;5;241m=\u001B[39m get_start_stage(rand\u001B[38;5;241m=\u001B[39m\u001B[38;5;28mself\u001B[39m\u001B[38;5;241m.\u001B[39m_rand)\n\u001B[0;32m    128\u001B[0m inner_start\u001B[38;5;241m.\u001B[39madd_parents([node])\n",
      "File \u001B[1;32m~\\PycharmProjects\\SAMPO\\sampo\\utilities\\nodes.py:9\u001B[0m, in \u001B[0;36mcopy_nodes\u001B[1;34m(nodes, drop_outer_works)\u001B[0m\n\u001B[0;32m      4\u001B[0m \u001B[38;5;28;01mdef\u001B[39;00m\u001B[38;5;250m \u001B[39m\u001B[38;5;21mcopy_nodes\u001B[39m(nodes: \u001B[38;5;28mlist\u001B[39m[GraphNode], drop_outer_works: \u001B[38;5;28mbool\u001B[39m \u001B[38;5;241m=\u001B[39m \u001B[38;5;28;01mFalse\u001B[39;00m) \u001B[38;5;241m-\u001B[39m\u001B[38;5;241m>\u001B[39m \u001B[38;5;28mlist\u001B[39m[GraphNode]:\n\u001B[0;32m      5\u001B[0m \u001B[38;5;250m    \u001B[39m\u001B[38;5;124;03m\"\"\"\u001B[39;00m\n\u001B[0;32m      6\u001B[0m \u001B[38;5;124;03m    Returns a list of copied nodes.\u001B[39;00m\n\u001B[0;32m      7\u001B[0m \u001B[38;5;124;03m    For the right work this list should not have edges with the outer world.\u001B[39;00m\n\u001B[0;32m      8\u001B[0m \u001B[38;5;124;03m    \"\"\"\u001B[39;00m\n\u001B[1;32m----> 9\u001B[0m     serialized_nodes \u001B[38;5;241m=\u001B[39m [node\u001B[38;5;241m.\u001B[39m_serialize() \u001B[38;5;28;01mfor\u001B[39;00m node \u001B[38;5;129;01min\u001B[39;00m nodes]\n\u001B[0;32m     10\u001B[0m     deserialized_nodes \u001B[38;5;241m=\u001B[39m [GraphNode\u001B[38;5;241m.\u001B[39m_deserialize(node_repr) \u001B[38;5;28;01mfor\u001B[39;00m node_repr \u001B[38;5;129;01min\u001B[39;00m serialized_nodes]\n\u001B[0;32m     12\u001B[0m     nodes_dict \u001B[38;5;241m=\u001B[39m \u001B[38;5;28mdict\u001B[39m()\n",
      "File \u001B[1;32m~\\PycharmProjects\\SAMPO\\sampo\\utilities\\nodes.py:9\u001B[0m, in \u001B[0;36m<listcomp>\u001B[1;34m(.0)\u001B[0m\n\u001B[0;32m      4\u001B[0m \u001B[38;5;28;01mdef\u001B[39;00m\u001B[38;5;250m \u001B[39m\u001B[38;5;21mcopy_nodes\u001B[39m(nodes: \u001B[38;5;28mlist\u001B[39m[GraphNode], drop_outer_works: \u001B[38;5;28mbool\u001B[39m \u001B[38;5;241m=\u001B[39m \u001B[38;5;28;01mFalse\u001B[39;00m) \u001B[38;5;241m-\u001B[39m\u001B[38;5;241m>\u001B[39m \u001B[38;5;28mlist\u001B[39m[GraphNode]:\n\u001B[0;32m      5\u001B[0m \u001B[38;5;250m    \u001B[39m\u001B[38;5;124;03m\"\"\"\u001B[39;00m\n\u001B[0;32m      6\u001B[0m \u001B[38;5;124;03m    Returns a list of copied nodes.\u001B[39;00m\n\u001B[0;32m      7\u001B[0m \u001B[38;5;124;03m    For the right work this list should not have edges with the outer world.\u001B[39;00m\n\u001B[0;32m      8\u001B[0m \u001B[38;5;124;03m    \"\"\"\u001B[39;00m\n\u001B[1;32m----> 9\u001B[0m     serialized_nodes \u001B[38;5;241m=\u001B[39m [\u001B[43mnode\u001B[49m\u001B[38;5;241;43m.\u001B[39;49m\u001B[43m_serialize\u001B[49m\u001B[43m(\u001B[49m\u001B[43m)\u001B[49m \u001B[38;5;28;01mfor\u001B[39;00m node \u001B[38;5;129;01min\u001B[39;00m nodes]\n\u001B[0;32m     10\u001B[0m     deserialized_nodes \u001B[38;5;241m=\u001B[39m [GraphNode\u001B[38;5;241m.\u001B[39m_deserialize(node_repr) \u001B[38;5;28;01mfor\u001B[39;00m node_repr \u001B[38;5;129;01min\u001B[39;00m serialized_nodes]\n\u001B[0;32m     12\u001B[0m     nodes_dict \u001B[38;5;241m=\u001B[39m \u001B[38;5;28mdict\u001B[39m()\n",
      "File \u001B[1;32m~\\PycharmProjects\\SAMPO\\sampo\\schemas\\graph.py:91\u001B[0m, in \u001B[0;36mGraphNode._serialize\u001B[1;34m(self)\u001B[0m\n\u001B[0;32m     89\u001B[0m \u001B[38;5;28;01mdef\u001B[39;00m\u001B[38;5;250m \u001B[39m\u001B[38;5;21m_serialize\u001B[39m(\u001B[38;5;28mself\u001B[39m) \u001B[38;5;241m-\u001B[39m\u001B[38;5;241m>\u001B[39m T:\n\u001B[0;32m     90\u001B[0m     \u001B[38;5;28;01mreturn\u001B[39;00m {\n\u001B[1;32m---> 91\u001B[0m         \u001B[38;5;124m'\u001B[39m\u001B[38;5;124mwork_unit\u001B[39m\u001B[38;5;124m'\u001B[39m: \u001B[38;5;28;43mself\u001B[39;49m\u001B[38;5;241;43m.\u001B[39;49m\u001B[43m_work_unit\u001B[49m\u001B[38;5;241;43m.\u001B[39;49m\u001B[43m_serialize\u001B[49m\u001B[43m(\u001B[49m\u001B[43m)\u001B[49m,\n\u001B[0;32m     92\u001B[0m         \u001B[38;5;124m'\u001B[39m\u001B[38;5;124mparent_edges\u001B[39m\u001B[38;5;124m'\u001B[39m: [(e\u001B[38;5;241m.\u001B[39mstart\u001B[38;5;241m.\u001B[39mid, e\u001B[38;5;241m.\u001B[39mlag, e\u001B[38;5;241m.\u001B[39mtype\u001B[38;5;241m.\u001B[39mvalue) \u001B[38;5;28;01mfor\u001B[39;00m e \u001B[38;5;129;01min\u001B[39;00m \u001B[38;5;28mself\u001B[39m\u001B[38;5;241m.\u001B[39m_parent_edges],\n\u001B[0;32m     93\u001B[0m         \u001B[38;5;124m'\u001B[39m\u001B[38;5;124mfollowers\u001B[39m\u001B[38;5;124m'\u001B[39m: [follower\u001B[38;5;241m.\u001B[39mid \u001B[38;5;28;01mfor\u001B[39;00m follower \u001B[38;5;129;01min\u001B[39;00m \u001B[38;5;28mself\u001B[39m\u001B[38;5;241m.\u001B[39m_followers],\n\u001B[0;32m     94\u001B[0m         \u001B[38;5;66;03m# 'child_edges': [(e.finish.work_unit.id, e.lag, e.type.value) for e in self._children_edges]\u001B[39;00m\n\u001B[0;32m     95\u001B[0m     }\n",
      "File \u001B[1;32m~\\PycharmProjects\\SAMPO\\sampo\\schemas\\serializable.py:392\u001B[0m, in \u001B[0;36mAutoJSONSerializable._serialize\u001B[1;34m(self)\u001B[0m\n\u001B[0;32m    386\u001B[0m         \u001B[38;5;28;01mreturn\u001B[39;00m value\n\u001B[0;32m    387\u001B[0m     \u001B[38;5;28;01mraise\u001B[39;00m \u001B[38;5;167;01mValueError\u001B[39;00m(\u001B[38;5;124mf\u001B[39m\u001B[38;5;124m'\u001B[39m\u001B[38;5;124mCannot serialize field \u001B[39m\u001B[38;5;132;01m{\u001B[39;00mname\u001B[38;5;132;01m}\u001B[39;00m\u001B[38;5;124m.\u001B[39m\u001B[38;5;124m'\u001B[39m\n\u001B[0;32m    388\u001B[0m                      \u001B[38;5;124mf\u001B[39m\u001B[38;5;124m'\u001B[39m\u001B[38;5;124m Provide custom serializer for it (via decorator @custom_serializer)\u001B[39m\u001B[38;5;124m'\u001B[39m\n\u001B[0;32m    389\u001B[0m                      \u001B[38;5;124mf\u001B[39m\u001B[38;5;124m'\u001B[39m\u001B[38;5;124m or make inherit \u001B[39m\u001B[38;5;132;01m{\u001B[39;00m\u001B[38;5;28mtype\u001B[39m(value)\u001B[38;5;132;01m}\u001B[39;00m\u001B[38;5;124m from Serializable.\u001B[39m\u001B[38;5;124m'\u001B[39m)\n\u001B[0;32m    391\u001B[0m \u001B[38;5;28;01mreturn\u001B[39;00m \u001B[38;5;28mdict\u001B[39m({TYPE_HINTS: type_hints},\n\u001B[1;32m--> 392\u001B[0m             \u001B[38;5;241m*\u001B[39m\u001B[38;5;241m*\u001B[39m{k: serialize_field(k, v) \u001B[38;5;28;01mfor\u001B[39;00m k, v \u001B[38;5;129;01min\u001B[39;00m \u001B[38;5;28mself\u001B[39m\u001B[38;5;241m.\u001B[39m\u001B[38;5;18m__dict__\u001B[39m\u001B[38;5;241m.\u001B[39mitems() \u001B[38;5;28;01mif\u001B[39;00m k \u001B[38;5;129;01mnot\u001B[39;00m \u001B[38;5;129;01min\u001B[39;00m \u001B[38;5;28mself\u001B[39m\u001B[38;5;241m.\u001B[39mignored_fields})\n",
      "File \u001B[1;32m~\\PycharmProjects\\SAMPO\\sampo\\schemas\\serializable.py:392\u001B[0m, in \u001B[0;36m<dictcomp>\u001B[1;34m(.0)\u001B[0m\n\u001B[0;32m    386\u001B[0m         \u001B[38;5;28;01mreturn\u001B[39;00m value\n\u001B[0;32m    387\u001B[0m     \u001B[38;5;28;01mraise\u001B[39;00m \u001B[38;5;167;01mValueError\u001B[39;00m(\u001B[38;5;124mf\u001B[39m\u001B[38;5;124m'\u001B[39m\u001B[38;5;124mCannot serialize field \u001B[39m\u001B[38;5;132;01m{\u001B[39;00mname\u001B[38;5;132;01m}\u001B[39;00m\u001B[38;5;124m.\u001B[39m\u001B[38;5;124m'\u001B[39m\n\u001B[0;32m    388\u001B[0m                      \u001B[38;5;124mf\u001B[39m\u001B[38;5;124m'\u001B[39m\u001B[38;5;124m Provide custom serializer for it (via decorator @custom_serializer)\u001B[39m\u001B[38;5;124m'\u001B[39m\n\u001B[0;32m    389\u001B[0m                      \u001B[38;5;124mf\u001B[39m\u001B[38;5;124m'\u001B[39m\u001B[38;5;124m or make inherit \u001B[39m\u001B[38;5;132;01m{\u001B[39;00m\u001B[38;5;28mtype\u001B[39m(value)\u001B[38;5;132;01m}\u001B[39;00m\u001B[38;5;124m from Serializable.\u001B[39m\u001B[38;5;124m'\u001B[39m)\n\u001B[0;32m    391\u001B[0m \u001B[38;5;28;01mreturn\u001B[39;00m \u001B[38;5;28mdict\u001B[39m({TYPE_HINTS: type_hints},\n\u001B[1;32m--> 392\u001B[0m             \u001B[38;5;241m*\u001B[39m\u001B[38;5;241m*\u001B[39m{k: \u001B[43mserialize_field\u001B[49m\u001B[43m(\u001B[49m\u001B[43mk\u001B[49m\u001B[43m,\u001B[49m\u001B[43m \u001B[49m\u001B[43mv\u001B[49m\u001B[43m)\u001B[49m \u001B[38;5;28;01mfor\u001B[39;00m k, v \u001B[38;5;129;01min\u001B[39;00m \u001B[38;5;28mself\u001B[39m\u001B[38;5;241m.\u001B[39m\u001B[38;5;18m__dict__\u001B[39m\u001B[38;5;241m.\u001B[39mitems() \u001B[38;5;28;01mif\u001B[39;00m k \u001B[38;5;129;01mnot\u001B[39;00m \u001B[38;5;129;01min\u001B[39;00m \u001B[38;5;28mself\u001B[39m\u001B[38;5;241m.\u001B[39mignored_fields})\n",
      "File \u001B[1;32m~\\PycharmProjects\\SAMPO\\sampo\\schemas\\serializable.py:365\u001B[0m, in \u001B[0;36mAutoJSONSerializable._serialize.<locals>.serialize_field\u001B[1;34m(name, value)\u001B[0m\n\u001B[0;32m    358\u001B[0m \u001B[38;5;250m\u001B[39m\u001B[38;5;124;03m\"\"\"\u001B[39;00m\n\u001B[0;32m    359\u001B[0m \u001B[38;5;124;03mTry to serialize value to and put it into resulting dict with key 'name'\u001B[39;00m\n\u001B[0;32m    360\u001B[0m \u001B[38;5;124;03m:param name: key of value in resulting dict (JSON)\u001B[39;00m\n\u001B[0;32m    361\u001B[0m \u001B[38;5;124;03m:param value:\u001B[39;00m\n\u001B[0;32m    362\u001B[0m \u001B[38;5;124;03m:return: serialized value\u001B[39;00m\n\u001B[0;32m    363\u001B[0m \u001B[38;5;124;03m\"\"\"\u001B[39;00m\n\u001B[0;32m    364\u001B[0m \u001B[38;5;28;01mif\u001B[39;00m name \u001B[38;5;129;01min\u001B[39;00m custom_field_serializers:\n\u001B[1;32m--> 365\u001B[0m     \u001B[38;5;28;01mreturn\u001B[39;00m \u001B[43mcustom_field_serializers\u001B[49m\u001B[43m[\u001B[49m\u001B[43mname\u001B[49m\u001B[43m]\u001B[49m\u001B[43m(\u001B[49m\u001B[43mvalue\u001B[49m\u001B[43m)\u001B[49m\n\u001B[0;32m    367\u001B[0m t \u001B[38;5;241m=\u001B[39m \u001B[38;5;28mtype\u001B[39m(value)\n\u001B[0;32m    368\u001B[0m str_t \u001B[38;5;241m=\u001B[39m \u001B[38;5;28mstr\u001B[39m(t)\n",
      "File \u001B[1;32m~\\PycharmProjects\\SAMPO\\sampo\\schemas\\works.py:84\u001B[0m, in \u001B[0;36mWorkUnit.serialize_serializable_list\u001B[1;34m(self, value)\u001B[0m\n\u001B[0;32m     73\u001B[0m \u001B[38;5;129m@custom_serializer\u001B[39m(\u001B[38;5;124m'\u001B[39m\u001B[38;5;124mworker_reqs\u001B[39m\u001B[38;5;124m'\u001B[39m)\n\u001B[0;32m     74\u001B[0m \u001B[38;5;129m@custom_serializer\u001B[39m(\u001B[38;5;124m'\u001B[39m\u001B[38;5;124mzone_reqs\u001B[39m\u001B[38;5;124m'\u001B[39m)\n\u001B[0;32m     75\u001B[0m \u001B[38;5;129m@custom_serializer\u001B[39m(\u001B[38;5;124m'\u001B[39m\u001B[38;5;124mmaterial_reqs\u001B[39m\u001B[38;5;124m'\u001B[39m)\n\u001B[0;32m     76\u001B[0m \u001B[38;5;28;01mdef\u001B[39;00m\u001B[38;5;250m \u001B[39m\u001B[38;5;21mserialize_serializable_list\u001B[39m(\u001B[38;5;28mself\u001B[39m, value) \u001B[38;5;241m-\u001B[39m\u001B[38;5;241m>\u001B[39m \u001B[38;5;28mlist\u001B[39m:\n\u001B[0;32m     77\u001B[0m \u001B[38;5;250m    \u001B[39m\u001B[38;5;124;03m\"\"\"\u001B[39;00m\n\u001B[0;32m     78\u001B[0m \u001B[38;5;124;03m    Return serialized list of values.\u001B[39;00m\n\u001B[0;32m     79\u001B[0m \u001B[38;5;124;03m    Values should be serializable.\u001B[39;00m\n\u001B[1;32m   (...)\u001B[0m\n\u001B[0;32m     82\u001B[0m \u001B[38;5;124;03m    :return: list of serialized values\u001B[39;00m\n\u001B[0;32m     83\u001B[0m \u001B[38;5;124;03m    \"\"\"\u001B[39;00m\n\u001B[1;32m---> 84\u001B[0m     \u001B[38;5;28;01mreturn\u001B[39;00m [t\u001B[38;5;241m.\u001B[39m_serialize() \u001B[38;5;28;01mfor\u001B[39;00m t \u001B[38;5;129;01min\u001B[39;00m value]\n",
      "File \u001B[1;32m~\\PycharmProjects\\SAMPO\\sampo\\schemas\\works.py:84\u001B[0m, in \u001B[0;36m<listcomp>\u001B[1;34m(.0)\u001B[0m\n\u001B[0;32m     73\u001B[0m \u001B[38;5;129m@custom_serializer\u001B[39m(\u001B[38;5;124m'\u001B[39m\u001B[38;5;124mworker_reqs\u001B[39m\u001B[38;5;124m'\u001B[39m)\n\u001B[0;32m     74\u001B[0m \u001B[38;5;129m@custom_serializer\u001B[39m(\u001B[38;5;124m'\u001B[39m\u001B[38;5;124mzone_reqs\u001B[39m\u001B[38;5;124m'\u001B[39m)\n\u001B[0;32m     75\u001B[0m \u001B[38;5;129m@custom_serializer\u001B[39m(\u001B[38;5;124m'\u001B[39m\u001B[38;5;124mmaterial_reqs\u001B[39m\u001B[38;5;124m'\u001B[39m)\n\u001B[0;32m     76\u001B[0m \u001B[38;5;28;01mdef\u001B[39;00m\u001B[38;5;250m \u001B[39m\u001B[38;5;21mserialize_serializable_list\u001B[39m(\u001B[38;5;28mself\u001B[39m, value) \u001B[38;5;241m-\u001B[39m\u001B[38;5;241m>\u001B[39m \u001B[38;5;28mlist\u001B[39m:\n\u001B[0;32m     77\u001B[0m \u001B[38;5;250m    \u001B[39m\u001B[38;5;124;03m\"\"\"\u001B[39;00m\n\u001B[0;32m     78\u001B[0m \u001B[38;5;124;03m    Return serialized list of values.\u001B[39;00m\n\u001B[0;32m     79\u001B[0m \u001B[38;5;124;03m    Values should be serializable.\u001B[39;00m\n\u001B[1;32m   (...)\u001B[0m\n\u001B[0;32m     82\u001B[0m \u001B[38;5;124;03m    :return: list of serialized values\u001B[39;00m\n\u001B[0;32m     83\u001B[0m \u001B[38;5;124;03m    \"\"\"\u001B[39;00m\n\u001B[1;32m---> 84\u001B[0m     \u001B[38;5;28;01mreturn\u001B[39;00m [\u001B[43mt\u001B[49m\u001B[38;5;241;43m.\u001B[39;49m\u001B[43m_serialize\u001B[49m\u001B[43m(\u001B[49m\u001B[43m)\u001B[49m \u001B[38;5;28;01mfor\u001B[39;00m t \u001B[38;5;129;01min\u001B[39;00m value]\n",
      "File \u001B[1;32m~\\PycharmProjects\\SAMPO\\sampo\\schemas\\serializable.py:392\u001B[0m, in \u001B[0;36mAutoJSONSerializable._serialize\u001B[1;34m(self)\u001B[0m\n\u001B[0;32m    386\u001B[0m         \u001B[38;5;28;01mreturn\u001B[39;00m value\n\u001B[0;32m    387\u001B[0m     \u001B[38;5;28;01mraise\u001B[39;00m \u001B[38;5;167;01mValueError\u001B[39;00m(\u001B[38;5;124mf\u001B[39m\u001B[38;5;124m'\u001B[39m\u001B[38;5;124mCannot serialize field \u001B[39m\u001B[38;5;132;01m{\u001B[39;00mname\u001B[38;5;132;01m}\u001B[39;00m\u001B[38;5;124m.\u001B[39m\u001B[38;5;124m'\u001B[39m\n\u001B[0;32m    388\u001B[0m                      \u001B[38;5;124mf\u001B[39m\u001B[38;5;124m'\u001B[39m\u001B[38;5;124m Provide custom serializer for it (via decorator @custom_serializer)\u001B[39m\u001B[38;5;124m'\u001B[39m\n\u001B[0;32m    389\u001B[0m                      \u001B[38;5;124mf\u001B[39m\u001B[38;5;124m'\u001B[39m\u001B[38;5;124m or make inherit \u001B[39m\u001B[38;5;132;01m{\u001B[39;00m\u001B[38;5;28mtype\u001B[39m(value)\u001B[38;5;132;01m}\u001B[39;00m\u001B[38;5;124m from Serializable.\u001B[39m\u001B[38;5;124m'\u001B[39m)\n\u001B[0;32m    391\u001B[0m \u001B[38;5;28;01mreturn\u001B[39;00m \u001B[38;5;28mdict\u001B[39m({TYPE_HINTS: type_hints},\n\u001B[1;32m--> 392\u001B[0m             \u001B[38;5;241m*\u001B[39m\u001B[38;5;241m*\u001B[39m{k: serialize_field(k, v) \u001B[38;5;28;01mfor\u001B[39;00m k, v \u001B[38;5;129;01min\u001B[39;00m \u001B[38;5;28mself\u001B[39m\u001B[38;5;241m.\u001B[39m\u001B[38;5;18m__dict__\u001B[39m\u001B[38;5;241m.\u001B[39mitems() \u001B[38;5;28;01mif\u001B[39;00m k \u001B[38;5;129;01mnot\u001B[39;00m \u001B[38;5;129;01min\u001B[39;00m \u001B[38;5;28mself\u001B[39m\u001B[38;5;241m.\u001B[39mignored_fields})\n",
      "File \u001B[1;32m~\\PycharmProjects\\SAMPO\\sampo\\schemas\\serializable.py:392\u001B[0m, in \u001B[0;36m<dictcomp>\u001B[1;34m(.0)\u001B[0m\n\u001B[0;32m    386\u001B[0m         \u001B[38;5;28;01mreturn\u001B[39;00m value\n\u001B[0;32m    387\u001B[0m     \u001B[38;5;28;01mraise\u001B[39;00m \u001B[38;5;167;01mValueError\u001B[39;00m(\u001B[38;5;124mf\u001B[39m\u001B[38;5;124m'\u001B[39m\u001B[38;5;124mCannot serialize field \u001B[39m\u001B[38;5;132;01m{\u001B[39;00mname\u001B[38;5;132;01m}\u001B[39;00m\u001B[38;5;124m.\u001B[39m\u001B[38;5;124m'\u001B[39m\n\u001B[0;32m    388\u001B[0m                      \u001B[38;5;124mf\u001B[39m\u001B[38;5;124m'\u001B[39m\u001B[38;5;124m Provide custom serializer for it (via decorator @custom_serializer)\u001B[39m\u001B[38;5;124m'\u001B[39m\n\u001B[0;32m    389\u001B[0m                      \u001B[38;5;124mf\u001B[39m\u001B[38;5;124m'\u001B[39m\u001B[38;5;124m or make inherit \u001B[39m\u001B[38;5;132;01m{\u001B[39;00m\u001B[38;5;28mtype\u001B[39m(value)\u001B[38;5;132;01m}\u001B[39;00m\u001B[38;5;124m from Serializable.\u001B[39m\u001B[38;5;124m'\u001B[39m)\n\u001B[0;32m    391\u001B[0m \u001B[38;5;28;01mreturn\u001B[39;00m \u001B[38;5;28mdict\u001B[39m({TYPE_HINTS: type_hints},\n\u001B[1;32m--> 392\u001B[0m             \u001B[38;5;241m*\u001B[39m\u001B[38;5;241m*\u001B[39m{k: \u001B[43mserialize_field\u001B[49m\u001B[43m(\u001B[49m\u001B[43mk\u001B[49m\u001B[43m,\u001B[49m\u001B[43m \u001B[49m\u001B[43mv\u001B[49m\u001B[43m)\u001B[49m \u001B[38;5;28;01mfor\u001B[39;00m k, v \u001B[38;5;129;01min\u001B[39;00m \u001B[38;5;28mself\u001B[39m\u001B[38;5;241m.\u001B[39m\u001B[38;5;18m__dict__\u001B[39m\u001B[38;5;241m.\u001B[39mitems() \u001B[38;5;28;01mif\u001B[39;00m k \u001B[38;5;129;01mnot\u001B[39;00m \u001B[38;5;129;01min\u001B[39;00m \u001B[38;5;28mself\u001B[39m\u001B[38;5;241m.\u001B[39mignored_fields})\n",
      "File \u001B[1;32m~\\PycharmProjects\\SAMPO\\sampo\\schemas\\serializable.py:382\u001B[0m, in \u001B[0;36mAutoJSONSerializable._serialize.<locals>.serialize_field\u001B[1;34m(name, value)\u001B[0m\n\u001B[0;32m    380\u001B[0m     type_hints[name] \u001B[38;5;241m=\u001B[39m str_t\n\u001B[0;32m    381\u001B[0m     \u001B[38;5;28;01mreturn\u001B[39;00m \u001B[38;5;28mself\u001B[39m\u001B[38;5;241m.\u001B[39m_default_serializers[str_t](value)\n\u001B[1;32m--> 382\u001B[0m \u001B[38;5;28;01mif\u001B[39;00m \u001B[38;5;28;43missubclass\u001B[39;49m\u001B[43m(\u001B[49m\u001B[43mt\u001B[49m\u001B[43m,\u001B[49m\u001B[43m \u001B[49m\u001B[43mSerializable\u001B[49m\u001B[43m)\u001B[49m:\n\u001B[0;32m    383\u001B[0m     type_hints[name] \u001B[38;5;241m=\u001B[39m pydoc\u001B[38;5;241m.\u001B[39mclassname(t, \u001B[38;5;124m'\u001B[39m\u001B[38;5;124m'\u001B[39m)\n\u001B[0;32m    384\u001B[0m     \u001B[38;5;28;01mreturn\u001B[39;00m value\u001B[38;5;241m.\u001B[39m_serialize()\n",
      "File \u001B[1;32m~\\AppData\\Local\\Programs\\Python\\Python310\\lib\\abc.py:121\u001B[0m, in \u001B[0;36mABCMeta.__subclasscheck__\u001B[1;34m(cls, subclass)\u001B[0m\n\u001B[0;32m    118\u001B[0m \u001B[38;5;250m    \u001B[39m\u001B[38;5;124;03m\"\"\"Override for isinstance(instance, cls).\"\"\"\u001B[39;00m\n\u001B[0;32m    119\u001B[0m     \u001B[38;5;28;01mreturn\u001B[39;00m _abc_instancecheck(\u001B[38;5;28mcls\u001B[39m, instance)\n\u001B[1;32m--> 121\u001B[0m \u001B[38;5;28;01mdef\u001B[39;00m\u001B[38;5;250m \u001B[39m\u001B[38;5;21m__subclasscheck__\u001B[39m(\u001B[38;5;28mcls\u001B[39m, subclass):\n\u001B[0;32m    122\u001B[0m \u001B[38;5;250m    \u001B[39m\u001B[38;5;124;03m\"\"\"Override for issubclass(subclass, cls).\"\"\"\u001B[39;00m\n\u001B[0;32m    123\u001B[0m     \u001B[38;5;28;01mreturn\u001B[39;00m _abc_subclasscheck(\u001B[38;5;28mcls\u001B[39m, subclass)\n",
      "\u001B[1;31mKeyboardInterrupt\u001B[0m: "
     ]
    }
   ],
   "source": [
    "from sampo.generator.environment import get_contractor_by_wg\n",
    "from sampo.pipeline import SchedulingPipeline\n",
    "from sampo.scheduler import HEFTScheduler\n",
    "\n",
    "\n",
    "scheduler = HEFTScheduler(stochastic_prioritization_f=stochastic_prioritization, work_estimator=work_estimator)\n",
    "contractors = [get_contractor_by_wg(stochastic_wg)]\n",
    "\n",
    "project = SchedulingPipeline.create() \\\n",
    "    .stochastic_wg(scheme) \\\n",
    "    .contractors(contractors) \\\n",
    "    .work_estimator(work_estimator) \\\n",
    "    .stochastic_schedule(scheduler) \\\n",
    "    .finish()[0]\n",
    "\n",
    "project.schedule.execution_time"
   ],
   "metadata": {
    "collapsed": false,
    "ExecuteTime": {
     "end_time": "2025-05-26T14:44:02.114571300Z",
     "start_time": "2025-05-26T14:43:07.298396200Z"
    }
   },
   "id": "ba1135b7c82c406b"
  },
  {
   "cell_type": "code",
   "execution_count": null,
   "outputs": [],
   "source": [
    "project.schedule.full_schedule_df"
   ],
   "metadata": {
    "collapsed": false
   },
   "id": "3d55a95ff734a313"
  },
  {
   "cell_type": "code",
   "execution_count": 14,
   "outputs": [
    {
     "data": {
      "text/plain": "1702"
     },
     "execution_count": 14,
     "metadata": {},
     "output_type": "execute_result"
    }
   ],
   "source": [
    "from sampo.scheduler.heft.prioritization import stochastic_prioritization\n",
    "\n",
    "scheduler = HEFTScheduler(prioritization_f=stochastic_prioritization_function, work_estimator=work_estimator)\n",
    "contractors = [get_contractor_by_wg(stochastic_wg)]\n",
    "\n",
    "project = SchedulingPipeline.create() \\\n",
    "    .wg(stochastic_wg) \\\n",
    "    .contractors(contractors) \\\n",
    "    .work_estimator(work_estimator) \\\n",
    "    .schedule(scheduler) \\\n",
    "    .finish()[0]\n",
    "\n",
    "project.schedule.execution_time"
   ],
   "metadata": {
    "collapsed": false,
    "ExecuteTime": {
     "end_time": "2025-05-26T14:25:15.385275900Z",
     "start_time": "2025-05-26T14:25:14.531231700Z"
    }
   },
   "id": "2bef0db61782908a"
  },
  {
   "cell_type": "code",
   "execution_count": 15,
   "outputs": [
    {
     "data": {
      "text/plain": "     idx                               task_id         task_name  \\\n0      0  6364d5e0-d65a-2a5e-70e1-ad82c4710bb7      minimal road   \n1      1  ac7c2e69-7f2e-eb7e-0352-05d79b683076  start of project   \n2      2  ce4aedc2-608f-38c8-1d15-98a5601977ae  start of project   \n3      3  e5182800-e282-110b-eda7-ffc2d14f568f    temporary road   \n4      4  2e27cdd5-ac91-0a39-f166-f41b5bd840c6        final road   \n..   ...                                   ...               ...   \n330  330  7c730904-6d1a-9542-1f05-5bdee80c2b49      minimal road   \n331  331  c02e64f7-dace-f9f7-10e7-932a87c32cd5  start of project   \n332  332  11851e3f-435e-26ea-4a1f-03898d644424    temporary road   \n333  333  3e45c875-10d8-e5c8-861e-4848f6d72a74        final road   \n334  334  7f38eefb-4d21-c1fa-1972-0931182ef1eb   cluster handing   \n\n     task_name_mapped                            contractor  cost     volume  \\\n0        minimal road  d466f6ef-bb48-47b1-945e-ddc38cb4ac71  1770   6.009262   \n1    start of project  d466f6ef-bb48-47b1-945e-ddc38cb4ac71     0   0.000000   \n2    start of project  d466f6ef-bb48-47b1-945e-ddc38cb4ac71     0   0.000000   \n3      temporary road  d466f6ef-bb48-47b1-945e-ddc38cb4ac71  1770   6.009262   \n4          final road  d466f6ef-bb48-47b1-945e-ddc38cb4ac71  3540   6.009262   \n..                ...                                   ...   ...        ...   \n330      minimal road  d466f6ef-bb48-47b1-945e-ddc38cb4ac71  2360  12.161329   \n331  start of project  d466f6ef-bb48-47b1-945e-ddc38cb4ac71     0   0.000000   \n332    temporary road  d466f6ef-bb48-47b1-945e-ddc38cb4ac71  2370  12.161329   \n333        final road  d466f6ef-bb48-47b1-945e-ddc38cb4ac71  2370  12.161329   \n334   cluster handing  d466f6ef-bb48-47b1-945e-ddc38cb4ac71    80   0.840000   \n\n    measurement  start  finish  duration  \\\n0            km      0       1         1   \n1          unit      0       0         0   \n2          unit      0       0         0   \n3            km      1       2         1   \n4            km      2       4         2   \n..          ...    ...     ...       ...   \n330          km   1698    1699         1   \n331        unit   1698    1698         0   \n332          km   1699    1700         1   \n333          km   1700    1701         1   \n334        unit   1701    1702         1   \n\n                                            workers  \\\n0    {'driver': 53, 'manager': 17, 'handyman': 107}   \n1                                                {}   \n2                                                {}   \n3    {'driver': 53, 'manager': 17, 'handyman': 107}   \n4    {'driver': 53, 'manager': 17, 'handyman': 107}   \n..                                              ...   \n330  {'driver': 66, 'manager': 35, 'handyman': 135}   \n331                                              {}   \n332  {'driver': 67, 'manager': 35, 'handyman': 135}   \n333  {'driver': 67, 'manager': 35, 'handyman': 135}   \n334      {'driver': 2, 'manager': 2, 'engineer': 4}   \n\n                                 scheduled_work_object  \n0    ScheduledWork[work_unit=6364d5e0-d65a-2a5e-70e...  \n1    ScheduledWork[work_unit=ac7c2e69-7f2e-eb7e-035...  \n2    ScheduledWork[work_unit=ce4aedc2-608f-38c8-1d1...  \n3    ScheduledWork[work_unit=e5182800-e282-110b-eda...  \n4    ScheduledWork[work_unit=2e27cdd5-ac91-0a39-f16...  \n..                                                 ...  \n330  ScheduledWork[work_unit=7c730904-6d1a-9542-1f0...  \n331  ScheduledWork[work_unit=c02e64f7-dace-f9f7-10e...  \n332  ScheduledWork[work_unit=11851e3f-435e-26ea-4a1...  \n333  ScheduledWork[work_unit=3e45c875-10d8-e5c8-861...  \n334  ScheduledWork[work_unit=7f38eefb-4d21-c1fa-197...  \n\n[335 rows x 13 columns]",
      "text/html": "<div>\n<style scoped>\n    .dataframe tbody tr th:only-of-type {\n        vertical-align: middle;\n    }\n\n    .dataframe tbody tr th {\n        vertical-align: top;\n    }\n\n    .dataframe thead th {\n        text-align: right;\n    }\n</style>\n<table border=\"1\" class=\"dataframe\">\n  <thead>\n    <tr style=\"text-align: right;\">\n      <th></th>\n      <th>idx</th>\n      <th>task_id</th>\n      <th>task_name</th>\n      <th>task_name_mapped</th>\n      <th>contractor</th>\n      <th>cost</th>\n      <th>volume</th>\n      <th>measurement</th>\n      <th>start</th>\n      <th>finish</th>\n      <th>duration</th>\n      <th>workers</th>\n      <th>scheduled_work_object</th>\n    </tr>\n  </thead>\n  <tbody>\n    <tr>\n      <th>0</th>\n      <td>0</td>\n      <td>6364d5e0-d65a-2a5e-70e1-ad82c4710bb7</td>\n      <td>minimal road</td>\n      <td>minimal road</td>\n      <td>d466f6ef-bb48-47b1-945e-ddc38cb4ac71</td>\n      <td>1770</td>\n      <td>6.009262</td>\n      <td>km</td>\n      <td>0</td>\n      <td>1</td>\n      <td>1</td>\n      <td>{'driver': 53, 'manager': 17, 'handyman': 107}</td>\n      <td>ScheduledWork[work_unit=6364d5e0-d65a-2a5e-70e...</td>\n    </tr>\n    <tr>\n      <th>1</th>\n      <td>1</td>\n      <td>ac7c2e69-7f2e-eb7e-0352-05d79b683076</td>\n      <td>start of project</td>\n      <td>start of project</td>\n      <td>d466f6ef-bb48-47b1-945e-ddc38cb4ac71</td>\n      <td>0</td>\n      <td>0.000000</td>\n      <td>unit</td>\n      <td>0</td>\n      <td>0</td>\n      <td>0</td>\n      <td>{}</td>\n      <td>ScheduledWork[work_unit=ac7c2e69-7f2e-eb7e-035...</td>\n    </tr>\n    <tr>\n      <th>2</th>\n      <td>2</td>\n      <td>ce4aedc2-608f-38c8-1d15-98a5601977ae</td>\n      <td>start of project</td>\n      <td>start of project</td>\n      <td>d466f6ef-bb48-47b1-945e-ddc38cb4ac71</td>\n      <td>0</td>\n      <td>0.000000</td>\n      <td>unit</td>\n      <td>0</td>\n      <td>0</td>\n      <td>0</td>\n      <td>{}</td>\n      <td>ScheduledWork[work_unit=ce4aedc2-608f-38c8-1d1...</td>\n    </tr>\n    <tr>\n      <th>3</th>\n      <td>3</td>\n      <td>e5182800-e282-110b-eda7-ffc2d14f568f</td>\n      <td>temporary road</td>\n      <td>temporary road</td>\n      <td>d466f6ef-bb48-47b1-945e-ddc38cb4ac71</td>\n      <td>1770</td>\n      <td>6.009262</td>\n      <td>km</td>\n      <td>1</td>\n      <td>2</td>\n      <td>1</td>\n      <td>{'driver': 53, 'manager': 17, 'handyman': 107}</td>\n      <td>ScheduledWork[work_unit=e5182800-e282-110b-eda...</td>\n    </tr>\n    <tr>\n      <th>4</th>\n      <td>4</td>\n      <td>2e27cdd5-ac91-0a39-f166-f41b5bd840c6</td>\n      <td>final road</td>\n      <td>final road</td>\n      <td>d466f6ef-bb48-47b1-945e-ddc38cb4ac71</td>\n      <td>3540</td>\n      <td>6.009262</td>\n      <td>km</td>\n      <td>2</td>\n      <td>4</td>\n      <td>2</td>\n      <td>{'driver': 53, 'manager': 17, 'handyman': 107}</td>\n      <td>ScheduledWork[work_unit=2e27cdd5-ac91-0a39-f16...</td>\n    </tr>\n    <tr>\n      <th>...</th>\n      <td>...</td>\n      <td>...</td>\n      <td>...</td>\n      <td>...</td>\n      <td>...</td>\n      <td>...</td>\n      <td>...</td>\n      <td>...</td>\n      <td>...</td>\n      <td>...</td>\n      <td>...</td>\n      <td>...</td>\n      <td>...</td>\n    </tr>\n    <tr>\n      <th>330</th>\n      <td>330</td>\n      <td>7c730904-6d1a-9542-1f05-5bdee80c2b49</td>\n      <td>minimal road</td>\n      <td>minimal road</td>\n      <td>d466f6ef-bb48-47b1-945e-ddc38cb4ac71</td>\n      <td>2360</td>\n      <td>12.161329</td>\n      <td>km</td>\n      <td>1698</td>\n      <td>1699</td>\n      <td>1</td>\n      <td>{'driver': 66, 'manager': 35, 'handyman': 135}</td>\n      <td>ScheduledWork[work_unit=7c730904-6d1a-9542-1f0...</td>\n    </tr>\n    <tr>\n      <th>331</th>\n      <td>331</td>\n      <td>c02e64f7-dace-f9f7-10e7-932a87c32cd5</td>\n      <td>start of project</td>\n      <td>start of project</td>\n      <td>d466f6ef-bb48-47b1-945e-ddc38cb4ac71</td>\n      <td>0</td>\n      <td>0.000000</td>\n      <td>unit</td>\n      <td>1698</td>\n      <td>1698</td>\n      <td>0</td>\n      <td>{}</td>\n      <td>ScheduledWork[work_unit=c02e64f7-dace-f9f7-10e...</td>\n    </tr>\n    <tr>\n      <th>332</th>\n      <td>332</td>\n      <td>11851e3f-435e-26ea-4a1f-03898d644424</td>\n      <td>temporary road</td>\n      <td>temporary road</td>\n      <td>d466f6ef-bb48-47b1-945e-ddc38cb4ac71</td>\n      <td>2370</td>\n      <td>12.161329</td>\n      <td>km</td>\n      <td>1699</td>\n      <td>1700</td>\n      <td>1</td>\n      <td>{'driver': 67, 'manager': 35, 'handyman': 135}</td>\n      <td>ScheduledWork[work_unit=11851e3f-435e-26ea-4a1...</td>\n    </tr>\n    <tr>\n      <th>333</th>\n      <td>333</td>\n      <td>3e45c875-10d8-e5c8-861e-4848f6d72a74</td>\n      <td>final road</td>\n      <td>final road</td>\n      <td>d466f6ef-bb48-47b1-945e-ddc38cb4ac71</td>\n      <td>2370</td>\n      <td>12.161329</td>\n      <td>km</td>\n      <td>1700</td>\n      <td>1701</td>\n      <td>1</td>\n      <td>{'driver': 67, 'manager': 35, 'handyman': 135}</td>\n      <td>ScheduledWork[work_unit=3e45c875-10d8-e5c8-861...</td>\n    </tr>\n    <tr>\n      <th>334</th>\n      <td>334</td>\n      <td>7f38eefb-4d21-c1fa-1972-0931182ef1eb</td>\n      <td>cluster handing</td>\n      <td>cluster handing</td>\n      <td>d466f6ef-bb48-47b1-945e-ddc38cb4ac71</td>\n      <td>80</td>\n      <td>0.840000</td>\n      <td>unit</td>\n      <td>1701</td>\n      <td>1702</td>\n      <td>1</td>\n      <td>{'driver': 2, 'manager': 2, 'engineer': 4}</td>\n      <td>ScheduledWork[work_unit=7f38eefb-4d21-c1fa-197...</td>\n    </tr>\n  </tbody>\n</table>\n<p>335 rows × 13 columns</p>\n</div>"
     },
     "execution_count": 15,
     "metadata": {},
     "output_type": "execute_result"
    }
   ],
   "source": [
    "project.schedule.full_schedule_df"
   ],
   "metadata": {
    "collapsed": false,
    "ExecuteTime": {
     "end_time": "2025-05-26T14:25:15.540866400Z",
     "start_time": "2025-05-26T14:25:15.510099500Z"
    }
   }
  },
  {
   "cell_type": "code",
   "execution_count": null,
   "outputs": [],
   "source": [
    "# [node for lst in self._node2followers.values() for lst2, _ in lst for node in lst2 if node.work_unit.name == 'finish of project']\n",
    "# [(g1, g2) for g1 in defect_graphs for g2 in defect_graphs if len(set(g1).intersection(set(g2))) > 0]\n",
    "# sorted([node for lst in self._node2followers.values() for lst2, _ in lst for node in lst2], key=lambda x: x.id)\n",
    "# sorted([(node, prob) for lst in self._node2followers.values() for lst2, prob in lst for node in lst2], key=lambda x: x[0].id)"
   ],
   "metadata": {
    "collapsed": false
   },
   "id": "f120a540ae1a143c"
  }
 ],
 "metadata": {
  "kernelspec": {
   "display_name": "Python 3",
   "language": "python",
   "name": "python3"
  },
  "language_info": {
   "codemirror_mode": {
    "name": "ipython",
    "version": 2
   },
   "file_extension": ".py",
   "mimetype": "text/x-python",
   "name": "python",
   "nbconvert_exporter": "python",
   "pygments_lexer": "ipython2",
   "version": "2.7.6"
  }
 },
 "nbformat": 4,
 "nbformat_minor": 5
}
