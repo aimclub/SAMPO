{
 "cells": [
  {
   "cell_type": "code",
   "execution_count": 1,
   "metadata": {
    "collapsed": true,
    "ExecuteTime": {
     "end_time": "2025-07-23T07:52:45.040484300Z",
     "start_time": "2025-07-23T07:52:44.557767700Z"
    }
   },
   "outputs": [],
   "source": [
    "import matplotlib.pyplot as plt\n",
    "import numpy as np\n",
    "import pandas as pd"
   ]
  },
  {
   "cell_type": "code",
   "execution_count": 3,
   "outputs": [],
   "source": [
    "results = {size: pd.read_csv(f'experiment_results/psplib_experiment_{size}_results.csv', index_col='Unnamed: 0') for size in ['j30', 'j60', 'j90', 'j120']}"
   ],
   "metadata": {
    "collapsed": false,
    "ExecuteTime": {
     "end_time": "2025-07-23T07:54:17.916281Z",
     "start_time": "2025-07-23T07:54:17.894277400Z"
    }
   }
  },
  {
   "cell_type": "code",
   "execution_count": 8,
   "outputs": [
    {
     "name": "stdout",
     "output_type": "stream",
     "text": [
      "j30: delta basic = 0.0029082730202548103, delta our = 0.0027150542026377223, enhancement = 6.64%\n",
      "j60: delta basic = 0.01020328016808528, delta our = 0.00924238876277433, enhancement = 9.42%\n",
      "j90: delta basic = 0.014802219233802713, delta our = 0.013070953805818955, enhancement = 11.7%\n",
      "j120: delta basic = 0.047558016403876226, delta our = 0.04060040692869937, enhancement = 14.63%\n"
     ]
    }
   ],
   "source": [
    "deltas = []\n",
    "\n",
    "for size, result in results.items():\n",
    "    result_basic = result[result['type'] == 'basic']\n",
    "    delta_basic = np.average((result_basic['makespan'] - result_basic['true_val']) / result_basic['true_val'])\n",
    "    result_our = result[result['type'] == 'our']\n",
    "    delta_our = np.average((result_our['makespan'] - result_our['true_val']) / result_our['true_val'])\n",
    "    enhancement = (delta_basic - delta_our) / delta_basic\n",
    "\n",
    "    deltas.append((size, delta_basic, delta_our, enhancement))\n",
    "\n",
    "    print(f'{size}: delta basic = {delta_basic}, delta our = {delta_our}, enhancement = {round(enhancement * 100, 2)}%')"
   ],
   "metadata": {
    "collapsed": false,
    "ExecuteTime": {
     "end_time": "2025-07-23T08:07:03.636844800Z",
     "start_time": "2025-07-23T08:07:03.624847700Z"
    }
   }
  },
  {
   "cell_type": "code",
   "execution_count": 9,
   "outputs": [],
   "source": [
    "pd.DataFrame.from_records(deltas, columns=['size', 'delta_basic', 'delta_our', 'enhancement']).to_csv('deltas.csv')"
   ],
   "metadata": {
    "collapsed": false,
    "ExecuteTime": {
     "end_time": "2025-07-23T08:07:03.854085400Z",
     "start_time": "2025-07-23T08:07:03.843983800Z"
    }
   }
  },
  {
   "cell_type": "code",
   "execution_count": null,
   "outputs": [],
   "source": [],
   "metadata": {
    "collapsed": false
   }
  }
 ],
 "metadata": {
  "kernelspec": {
   "display_name": "Python 3",
   "language": "python",
   "name": "python3"
  },
  "language_info": {
   "codemirror_mode": {
    "name": "ipython",
    "version": 2
   },
   "file_extension": ".py",
   "mimetype": "text/x-python",
   "name": "python",
   "nbconvert_exporter": "python",
   "pygments_lexer": "ipython2",
   "version": "2.7.6"
  }
 },
 "nbformat": 4,
 "nbformat_minor": 0
}
