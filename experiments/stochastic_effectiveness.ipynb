{
 "cells": [
  {
   "cell_type": "code",
   "execution_count": 1,
   "id": "initial_id",
   "metadata": {
    "collapsed": true,
    "ExecuteTime": {
     "end_time": "2025-05-15T18:38:56.469898Z",
     "start_time": "2025-05-15T18:38:56.250272100Z"
    }
   },
   "outputs": [
    {
     "data": {
      "text/plain": "106"
     },
     "execution_count": 1,
     "metadata": {},
     "output_type": "execute_result"
    }
   ],
   "source": [
    "from sampo.generator import SimpleSynthetic, SyntheticGraphType\n",
    "from random import Random\n",
    "\n",
    "rand = Random(123)\n",
    "ss = SimpleSynthetic(rand)\n",
    "\n",
    "fixed_wg = ss.work_graph(mode=SyntheticGraphType.GENERAL, cluster_counts=10, bottom_border=100, top_border=100)\n",
    "\n",
    "for node in fixed_wg.nodes:\n",
    "    assert node.edges_to is not None\n",
    "    assert node.edges_from is not None\n",
    "\n",
    "fixed_wg.vertex_count"
   ]
  },
  {
   "cell_type": "code",
   "execution_count": 2,
   "outputs": [
    {
     "name": "stdout",
     "output_type": "stream",
     "text": [
      "Can not find native module; switching to default\n",
      "197\n"
     ]
    }
   ],
   "source": [
    "from sampo.schemas.stochastic_graph import ProbabilisticFollowingStochasticGraphScheme\n",
    "\n",
    "# construct the stochastic graph scheme\n",
    "graph_scheme = ProbabilisticFollowingStochasticGraphScheme(rand=rand, wg=fixed_wg)\n",
    "defect_graphs = []\n",
    "for i, node in enumerate(fixed_wg.nodes):\n",
    "    defect = ss.graph_nodes(top_border=20)\n",
    "    defect_graphs.append(defect)\n",
    "    \n",
    "    # assert len(set(defect)) == len(defect)\n",
    "    \n",
    "    defect_prob = rand.random() * 0.5\n",
    "    graph_scheme.add_part(node=node.id, nodes=defect, prob=defect_prob)\n",
    "\n",
    "# for graph in defect_graphs:\n",
    "#     assert len(set(graph)) == len(graph)\n",
    "# \n",
    "# cum_size = 0\n",
    "# cum_nodes = set()\n",
    "# list_nodes = []\n",
    "# for graph in defect_graphs:\n",
    "#     cum_size += len(set(graph))\n",
    "#     \n",
    "#     assert len(cum_nodes.intersection(set(graph))) == 0, 'Cringe!'\n",
    "#         \n",
    "#     cum_nodes.update(graph)\n",
    "#     \n",
    "#     assert len(cum_nodes) == cum_size\n",
    "#     \n",
    "#     list_nodes.extend(graph)\n",
    "# \n",
    "# assert cum_size == len(cum_nodes), f'{cum_size} {len(cum_nodes)} {[node.work_unit.name for node in cum_nodes.difference(list_nodes)]}'\n",
    "# \n",
    "# counts = {node: 0 for node in cum_nodes}\n",
    "# for node in list_nodes:\n",
    "#     counts[node] += 1\n",
    "#     \n",
    "# for node, count in counts.items():\n",
    "#     if count > 1:\n",
    "#         print(node.work_unit.name)\n",
    "\n",
    "perfect_wg = graph_scheme.prepare_graph().to_work_graph()\n",
    "print(perfect_wg.vertex_count)"
   ],
   "metadata": {
    "collapsed": false,
    "ExecuteTime": {
     "end_time": "2025-05-15T18:38:57.433331200Z",
     "start_time": "2025-05-15T18:38:56.655925100Z"
    }
   },
   "id": "8325f136b29112b0"
  },
  {
   "cell_type": "code",
   "execution_count": 18,
   "outputs": [
    {
     "data": {
      "text/plain": "227"
     },
     "execution_count": 18,
     "metadata": {},
     "output_type": "execute_result"
    }
   ],
   "source": [
    "graph_scheme.prepare_graph().to_work_graph().vertex_count"
   ],
   "metadata": {
    "collapsed": false,
    "ExecuteTime": {
     "end_time": "2025-05-15T18:39:23.559218Z",
     "start_time": "2025-05-15T18:39:23.130675500Z"
    }
   },
   "id": "dd00f9f1e4723688"
  },
  {
   "cell_type": "code",
   "execution_count": null,
   "outputs": [],
   "source": [
    "# [node for lst in self._node2followers.values() for lst2, _ in lst for node in lst2 if node.work_unit.name == 'finish of project']\n",
    "# [(g1, g2) for g1 in defect_graphs for g2 in defect_graphs if len(set(g1).intersection(set(g2))) > 0]\n",
    "# sorted([node for lst in self._node2followers.values() for lst2, _ in lst for node in lst2], key=lambda x: x.id)\n",
    "# sorted([(node, prob) for lst in self._node2followers.values() for lst2, prob in lst for node in lst2], key=lambda x: x[0].id)"
   ],
   "metadata": {
    "collapsed": false
   },
   "id": "f120a540ae1a143c"
  }
 ],
 "metadata": {
  "kernelspec": {
   "display_name": "Python 3",
   "language": "python",
   "name": "python3"
  },
  "language_info": {
   "codemirror_mode": {
    "name": "ipython",
    "version": 2
   },
   "file_extension": ".py",
   "mimetype": "text/x-python",
   "name": "python",
   "nbconvert_exporter": "python",
   "pygments_lexer": "ipython2",
   "version": "2.7.6"
  }
 },
 "nbformat": 4,
 "nbformat_minor": 5
}
