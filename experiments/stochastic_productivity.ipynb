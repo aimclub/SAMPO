{
 "cells": [
  {
   "cell_type": "code",
   "execution_count": 15,
   "id": "initial_id",
   "metadata": {
    "collapsed": true,
    "ExecuteTime": {
     "end_time": "2023-12-19T11:36:00.676333300Z",
     "start_time": "2023-12-19T11:35:59.676526700Z"
    }
   },
   "outputs": [
    {
     "name": "stdout",
     "output_type": "stream",
     "text": [
      "SEQUENTIAL PARALLEL PARALLEL PARALLEL PARALLEL GENERAL GENERAL SEQUENTIAL GENERAL SEQUENTIAL GENERAL GENERAL SEQUENTIAL GENERAL GENERAL SEQUENTIAL PARALLEL SEQUENTIAL PARALLEL SEQUENTIAL GENERAL PARALLEL SEQUENTIAL SEQUENTIAL GENERAL SEQUENTIAL PARALLEL PARALLEL PARALLEL GENERAL GENERAL SEQUENTIAL SEQUENTIAL PARALLEL PARALLEL SEQUENTIAL PARALLEL SEQUENTIAL GENERAL PARALLEL PARALLEL GENERAL SEQUENTIAL SEQUENTIAL GENERAL SEQUENTIAL SEQUENTIAL SEQUENTIAL SEQUENTIAL GENERAL GENERAL GENERAL PARALLEL GENERAL GENERAL GENERAL PARALLEL GENERAL PARALLEL GENERAL PARALLEL PARALLEL GENERAL PARALLEL PARALLEL SEQUENTIAL PARALLEL GENERAL SEQUENTIAL SEQUENTIAL PARALLEL SEQUENTIAL GENERAL GENERAL PARALLEL PARALLEL PARALLEL GENERAL PARALLEL GENERAL SEQUENTIAL GENERAL GENERAL SEQUENTIAL PARALLEL PARALLEL GENERAL PARALLEL SEQUENTIAL PARALLEL SEQUENTIAL GENERAL PARALLEL PARALLEL SEQUENTIAL GENERAL PARALLEL GENERAL GENERAL SEQUENTIAL GENERAL\n"
     ]
    }
   ],
   "source": [
    "from typing import Iterable\n",
    "from sampo.schemas import Time\n",
    "from sampo.scheduler.multi_agency.block_generator import generate_blocks, SyntheticBlockGraphType\n",
    "from sampo.scheduler.multi_agency.multi_agency import StochasticManager, ScheduledBlock\n",
    "from sampo.scheduler.multi_agency import Agent, validate_block_schedule\n",
    "from uuid import uuid4\n",
    "from copy import deepcopy\n",
    "\n",
    "from sampo.generator import SimpleSynthetic\n",
    "from sampo.scheduler import HEFTScheduler\n",
    "from random import Random\n",
    "\n",
    "r_seed = 231\n",
    "rand = Random(r_seed)\n",
    "ss = SimpleSynthetic(rand)\n",
    "\n",
    "scheduler_constructors = [HEFTScheduler, HEFTScheduler, HEFTScheduler, HEFTScheduler, HEFTScheduler, HEFTScheduler, HEFTScheduler, HEFTScheduler]\n",
    "base_contractor = ss.contractor(10)\n",
    "\n",
    "bg = generate_blocks(SyntheticBlockGraphType.SEQUENTIAL, 100, [1, 1, 1], lambda x: (50, 60), 0.5, rand)\n",
    "\n",
    "def finish_time(schedule: Iterable[ScheduledBlock]) -> Time:\n",
    "    return max([sblock.end_time for sblock in schedule])"
   ]
  },
  {
   "cell_type": "code",
   "execution_count": 16,
   "outputs": [],
   "source": [
    "from sampo.schemas import WorkerProductivityMode, Contractor, IntervalGaussian\n",
    "from sampo.schemas.time_estimator import DefaultWorkEstimator\n",
    "from sampo.scheduler.multi_agency import Manager\n",
    "from typing import Callable\n",
    "\n",
    "\n",
    "def construct_agent(i: int, scheduler_constructor, contractor: Contractor) -> Agent:\n",
    "    work_estimator = DefaultWorkEstimator()\n",
    "    work_estimator.set_productivity_mode(WorkerProductivityMode.Stochastic)\n",
    "    for worker in ['driver', 'fitter', 'manager', 'handyman', 'electrician', 'engineer']:\n",
    "        work_estimator.set_worker_productivity(worker, IntervalGaussian(1, 0.1 * i, 0, 2))\n",
    "    \n",
    "    return Agent(f'Agent {i}', scheduler_constructor(work_estimator=work_estimator), [contractor])\n",
    "\n",
    "def test_with_manager(manager_constructor: Callable[[list[Agent]], Manager]):\n",
    "    contractors = [deepcopy(base_contractor) for _ in scheduler_constructors]\n",
    "    for contractor in contractors:\n",
    "        contractor.id = str(uuid4())\n",
    "    \n",
    "    agents = [construct_agent(i, scheduler_constructors[i % len(scheduler_constructors)], contractor)\n",
    "              for i, contractor in enumerate(contractors)]\n",
    "    manager = manager_constructor(agents)\n",
    "    \n",
    "    scheduled_blocks = manager.manage_blocks(bg)\n",
    "    # validate_block_schedule(bg, scheduled_blocks, agents)\n",
    "    \n",
    "    return finish_time(scheduled_blocks.values())"
   ],
   "metadata": {
    "collapsed": false,
    "ExecuteTime": {
     "end_time": "2023-12-19T11:36:02.254394900Z",
     "start_time": "2023-12-19T11:36:02.230723700Z"
    }
   },
   "id": "dc9efaa64c64805c"
  },
  {
   "cell_type": "code",
   "execution_count": 17,
   "outputs": [
    {
     "data": {
      "text/plain": "16083"
     },
     "execution_count": 17,
     "metadata": {},
     "output_type": "execute_result"
    }
   ],
   "source": [
    "time_static = test_with_manager(Manager)\n",
    "time_static"
   ],
   "metadata": {
    "collapsed": false,
    "ExecuteTime": {
     "end_time": "2023-12-19T11:37:13.388458100Z",
     "start_time": "2023-12-19T11:36:02.867051800Z"
    }
   },
   "id": "892c5caca2db4070"
  },
  {
   "cell_type": "code",
   "execution_count": 18,
   "outputs": [
    {
     "data": {
      "text/plain": "16185"
     },
     "execution_count": 18,
     "metadata": {},
     "output_type": "execute_result"
    }
   ],
   "source": [
    "time_stochastic = test_with_manager(StochasticManager)\n",
    "time_stochastic"
   ],
   "metadata": {
    "collapsed": false,
    "ExecuteTime": {
     "end_time": "2023-12-19T11:38:21.124602300Z",
     "start_time": "2023-12-19T11:37:13.390418500Z"
    }
   },
   "id": "508802b6eeb1919f"
  },
  {
   "cell_type": "code",
   "execution_count": 19,
   "outputs": [
    {
     "name": "stdout",
     "output_type": "stream",
     "text": [
      "15794 16185\n",
      "15715 16185\n",
      "16488 16185\n",
      "15887 16185\n",
      "15801 16185\n",
      "16403 16185\n",
      "16656 16185\n",
      "15943 16185\n",
      "16399 16185\n",
      "16231 16185\n",
      "Success percentage: 50% on 10 iterations\n"
     ]
    }
   ],
   "source": [
    "def run_comparison(iterations: int):\n",
    "    successes = 0\n",
    "    for i in range(iterations):\n",
    "        time_static = test_with_manager(Manager)\n",
    "        time_stochastic = test_with_manager(StochasticManager)\n",
    "        print(f'{time_static} {time_stochastic}')\n",
    "        if time_stochastic < time_static:\n",
    "            successes += 1\n",
    "    print(f'Success percentage: {int(100 * successes / iterations)}% on {iterations} iterations')\n",
    "\n",
    "run_comparison(10)"
   ],
   "metadata": {
    "collapsed": false,
    "ExecuteTime": {
     "end_time": "2023-12-19T12:02:48.661833300Z",
     "start_time": "2023-12-19T11:40:25.524828Z"
    }
   },
   "id": "9f35554d8eadd2f5"
  },
  {
   "cell_type": "code",
   "execution_count": null,
   "outputs": [],
   "source": [],
   "metadata": {
    "collapsed": false
   },
   "id": "445e9953e2eede8a"
  }
 ],
 "metadata": {
  "kernelspec": {
   "display_name": "Python 3",
   "language": "python",
   "name": "python3"
  },
  "language_info": {
   "codemirror_mode": {
    "name": "ipython",
    "version": 2
   },
   "file_extension": ".py",
   "mimetype": "text/x-python",
   "name": "python",
   "nbconvert_exporter": "python",
   "pygments_lexer": "ipython2",
   "version": "2.7.6"
  }
 },
 "nbformat": 4,
 "nbformat_minor": 5
}
