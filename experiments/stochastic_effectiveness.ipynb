{
 "cells": [
  {
   "cell_type": "code",
   "execution_count": 1,
   "id": "initial_id",
   "metadata": {
    "collapsed": true,
    "ExecuteTime": {
     "end_time": "2025-05-17T17:52:57.847401900Z",
     "start_time": "2025-05-17T17:52:57.600402100Z"
    }
   },
   "outputs": [
    {
     "data": {
      "text/plain": "106"
     },
     "execution_count": 1,
     "metadata": {},
     "output_type": "execute_result"
    }
   ],
   "source": [
    "from sampo.generator import SimpleSynthetic, SyntheticGraphType\n",
    "from random import Random\n",
    "\n",
    "rand = Random(123)\n",
    "ss = SimpleSynthetic(rand)\n",
    "\n",
    "fixed_wg = ss.work_graph(mode=SyntheticGraphType.GENERAL, cluster_counts=10, bottom_border=100, top_border=100)\n",
    "\n",
    "fixed_wg.vertex_count"
   ]
  },
  {
   "cell_type": "code",
   "execution_count": 2,
   "outputs": [
    {
     "name": "stdout",
     "output_type": "stream",
     "text": [
      "Can not find native module; switching to default\n",
      "339\n"
     ]
    }
   ],
   "source": [
    "from sampo.schemas.stochastic_graph import ProbabilisticFollowingStochasticGraphScheme\n",
    "\n",
    "# construct the stochastic graph scheme\n",
    "graph_scheme = ProbabilisticFollowingStochasticGraphScheme(rand=rand, wg=fixed_wg)\n",
    "defect_graphs = []\n",
    "for i, node in enumerate(fixed_wg.nodes):\n",
    "    defect = ss.graph_nodes(top_border=20)\n",
    "    defect_graphs.append(defect)\n",
    "    \n",
    "    defect_prob = rand.random() * 0.5\n",
    "    graph_scheme.add_part(node=node.id, nodes=defect, prob=defect_prob)\n",
    "\n",
    "perfect_wg = graph_scheme.prepare_graph().to_work_graph()\n",
    "print(perfect_wg.vertex_count)"
   ],
   "metadata": {
    "collapsed": false,
    "ExecuteTime": {
     "end_time": "2025-05-17T17:52:58.594400300Z",
     "start_time": "2025-05-17T17:52:57.847401900Z"
    }
   },
   "id": "8325f136b29112b0"
  },
  {
   "cell_type": "code",
   "execution_count": 3,
   "outputs": [
    {
     "data": {
      "text/plain": "338"
     },
     "execution_count": 3,
     "metadata": {},
     "output_type": "execute_result"
    }
   ],
   "source": [
    "graph_scheme.prepare_graph().to_work_graph().vertex_count"
   ],
   "metadata": {
    "collapsed": false,
    "ExecuteTime": {
     "end_time": "2025-05-17T17:52:58.989441400Z",
     "start_time": "2025-05-17T17:52:58.596400100Z"
    }
   },
   "id": "dd00f9f1e4723688"
  },
  {
   "cell_type": "code",
   "execution_count": 4,
   "outputs": [],
   "source": [
    "from sampo.schemas import WorkerProductivityMode, IntervalGaussian\n",
    "from sampo.schemas.time_estimator import DefaultWorkEstimator, WorkTimeEstimator\n",
    "\n",
    "\n",
    "def construct_work_estimator(i: int, productivity: WorkerProductivityMode) -> WorkTimeEstimator:\n",
    "    work_estimator = DefaultWorkEstimator()\n",
    "    work_estimator.set_productivity_mode(productivity)\n",
    "    for worker in ['driver', 'fitter', 'manager', 'handyman', 'electrician', 'engineer']:\n",
    "        work_estimator.set_worker_productivity(IntervalGaussian(0.2 * i + 0.2, 1, 0, 2), worker)\n",
    "    return work_estimator\n",
    "\n",
    "work_estimator = construct_work_estimator(5, WorkerProductivityMode.Static)"
   ],
   "metadata": {
    "collapsed": false,
    "ExecuteTime": {
     "end_time": "2025-05-17T17:52:59.004844900Z",
     "start_time": "2025-05-17T17:52:58.988436200Z"
    }
   }
  },
  {
   "cell_type": "code",
   "execution_count": 5,
   "outputs": [
    {
     "data": {
      "text/plain": "[ac7c2e69-7f2e-eb7e-0352-05d79b683076,\n 8ff41e8d-8944-897c-610e-4ad509c47055,\n 0d496d4b-da22-594f-573e-8d77550ae889,\n f692ff1b-e245-f7f3-29f2-a2fbf83d58c3,\n dea61187-b7bc-5c51-1072-75716b461015,\n 8f9b34c9-5653-d4bd-2293-202c28dfa298,\n ab33e90c-5f42-937f-24dc-25a5add65955,\n 29ed479c-3ec3-068c-b3a1-f1315573ae2d,\n d3234519-1410-7b06-be7e-41743c269046,\n 1a1f141b-72c5-3633-bb66-ecb350c1eb44,\n 6e3e43c2-e941-2995-4ab3-8105056fb885,\n 6ea37f12-62e1-0745-96dc-0a90cd620098,\n 73211a9a-597b-6ecf-0546-d9e6ab1f5a09,\n 737e7bea-ab38-ba7e-b605-d0dffafe0f4e,\n 4a8bbf55-ea73-6384-c5bf-60c6a7eb2407,\n 7ba35975-cd2e-e163-858c-2e6e57ed22d0,\n 8e7bea51-83c4-a23e-844f-cbcfdf13b884,\n 17c57804-570f-89e9-91f7-aa69e4b80fdf,\n e497cd2f-65f2-ef76-0336-5a0850b51605,\n 3e44ede9-819c-f976-ee08-6a5045917fb4,\n 6f33f708-8343-b946-a56a-62c3c4ef7978,\n 0e0eaf52-527d-eda5-9afe-de82d1de950d,\n 3993539e-5e76-d1e0-b9f0-82f18ba31e52,\n 7ea9de52-fde6-2703-49a6-dbeda38873b0,\n 96020f97-0d35-ea15-616e-068ff1b8788c,\n b4abf550-49e8-ea0d-f206-e242c6385b6b,\n f5e77d4d-cf30-cf2d-9097-a70286ee6241,\n 772e293a-1b82-e2bb-4c6b-6bce636f5f4a,\n 1ad2b334-8008-0777-57f4-42d5232ac74d,\n a3858cde-9be1-092e-d23e-e3c934f4f040,\n b8654db2-a147-123a-c3a1-cbbdf6cc94e5,\n fb0d7d65-7bdb-11b4-8b4e-bb7f3bbe584b,\n 03916f84-fb37-5d97-e6a2-61599481bfe8,\n e81775f3-ca42-25f7-2051-e671246595df,\n 3a427dca-62f1-b8b6-bad7-13f752145f68,\n 2ab38460-a12e-9ee3-1e9b-e4638460e4f5,\n c63a1434-ca86-2126-6dd3-84c54dc6373f,\n 00174986-6b9c-898b-a25f-6a716f2c39db,\n 15394bbe-16ba-deac-b501-64ea5ae54e83,\n 1f932b3a-2ea5-0aaa-0c7c-197cf4715a62,\n 56515178-4667-cb41-ec4b-752ae7cc6f90,\n 5ea9f6a9-ded6-f134-536a-5136243cbc73,\n 72073c35-a597-0882-3e1f-c4f7531f386e,\n 74d2b828-227d-8219-0299-536a0b4c1837,\n 76177fa8-c06c-250e-60eb-48f771cabf31,\n 7f17e291-a903-2c38-6d99-45650518f7a1,\n 810dc355-76a1-cbea-083b-3ae8dd2b1b93,\n 82a45999-1007-20f6-9e1a-06ce1bce9331,\n 88fcafb1-7a31-c224-21c3-80cbbbd7dc4b,\n 89503372-fdf0-f1df-275c-ecdc2d768558,\n 8abac44f-ff85-b989-7866-1a240af252fd,\n 8becdb6f-12cf-d8c3-60a1-2433892a4173,\n 9011773d-7070-d4bc-d741-ec954412f5e6,\n 93307c14-8041-42f3-749a-be48b0c2874d,\n 99023e32-388a-15af-f116-4a7ee43b7b77,\n 99f4c27d-e334-bbf9-e8c1-e791e64b0a58,\n b4d2ccbe-f68f-551d-c3fe-0bc392d2e210,\n cbb54287-0231-1144-e5c1-36826ee6372c,\n cc83fb47-41a0-f665-0560-d4e031740bd3,\n df2055ea-1008-e3a2-e341-fb05b020112a,\n f2e3ca17-3f98-03bb-5813-e1c3924f350e,\n f4656441-459d-31c5-af59-f4a05a1fc977,\n 4e1ad87e-c4cf-bb8a-0968-02f6d67c8720,\n 63201a15-84c9-44fc-c210-698f0ea1fc60,\n e9e9b16c-2569-6171-4e60-bf9b899bfbfc,\n 5329c88e-8586-f91e-2898-878d073beb3c,\n eca7490f-d450-c9dd-43f6-7250801f1dce,\n 7469e0f1-22d1-ee44-bdc9-cbf10fe2e2e7,\n 0f4a38e6-e8be-44f2-d2f7-9e2fb942004e,\n 4bc0096b-ebf3-6820-11b4-6b4e5e572499,\n 605c0892-8f1c-9eec-db38-8a502cc4d94d,\n 80420937-8830-fcc6-67dd-30d73aa83f8c,\n 80b9707c-43f2-4ead-e880-a0431f50ceea,\n ff5f9af7-5a17-03c5-e56a-0eb10348c4bc,\n 5d0f5781-a0d9-6ade-d4e3-fda5169179e2,\n 7823908d-43ec-1f85-7a17-a6a492cadf50,\n b85adb29-bd7b-6bd9-bd0a-bba0defeea7f,\n 01b0366f-11e3-74ee-60aa-0d3098fc4743,\n e0edeaf1-166d-d683-c609-dcba6fafc520,\n 22ac9684-88c0-3e99-ef7a-0fc6cf1be5a9,\n 6015f5af-6a2b-9275-d774-c3ee0ffc361a,\n 61e34b6e-2e40-c929-ff3f-83bfd20adaba,\n 65faaaa6-bb06-0061-7e06-84467be4bd5e,\n 6b641b3b-ab20-dd48-8546-a1a97c73708c,\n 81504411-3274-cf25-f4c4-b58b1492977a,\n 8de04a9e-5640-230e-55bc-0a692b8d6f81,\n 95a9e846-b21e-c7cb-57e8-b4a27e95e03c,\n 9611516c-3066-5bc3-042c-c7c2560b0cb9,\n 98b485de-aaaa-1310-cbe5-4c28a36b1e87,\n 99e8110c-ca5f-e9fb-cb35-be2fe5f4e87f,\n d4069975-d530-e058-b6b9-302641c10918,\n ea1c8f19-6554-0577-572c-6eda7c725b86,\n 04649df7-e40c-0a13-e41c-e352fec9b017,\n 0b03aa4d-65ee-7b24-43b9-74fc527257ae,\n 222aef26-89a5-8715-8df5-fc8e57553ab4,\n 50c50acb-6bb7-097e-db15-c5beab40212e,\n 633d6624-74ee-afd8-b91d-f46412c32f37,\n 75f47707-dc94-e704-5c53-46fa0d6c6796,\n 7ca5d0ed-e9e4-b2dd-1525-e9d3d1f7fbe4,\n 99a046d3-15c9-1d91-3b1e-1977908b3b0a,\n 9c18a250-2048-7f69-ecca-1ca180526a3a,\n a53c4cc6-c111-7e2f-d8eb-64120826c069,\n cfbbdf04-57d1-0761-72f4-bbffc5317618,\n 07758380-677a-20a7-a295-7691b1b77a92,\n fed4829c-2b03-621a-48fb-d18640dc5438,\n 44faa95b-0bef-5bcf-32bf-e8fa2a2e562e]"
     },
     "execution_count": 5,
     "metadata": {},
     "output_type": "execute_result"
    }
   ],
   "source": [
    "from sampo.scheduler.heft.prioritization import prioritization\n",
    "\n",
    "static_prioritization = prioritization(fixed_wg, work_estimator)\n",
    "static_prioritization"
   ],
   "metadata": {
    "collapsed": false,
    "ExecuteTime": {
     "end_time": "2025-05-17T17:52:59.364746300Z",
     "start_time": "2025-05-17T17:52:59.346313700Z"
    }
   }
  },
  {
   "cell_type": "code",
   "execution_count": 6,
   "outputs": [
    {
     "data": {
      "text/plain": "327"
     },
     "execution_count": 6,
     "metadata": {},
     "output_type": "execute_result"
    }
   ],
   "source": [
    "stochastic_wg = graph_scheme.prepare_graph().to_work_graph()\n",
    "stochastic_wg.vertex_count"
   ],
   "metadata": {
    "collapsed": false,
    "ExecuteTime": {
     "end_time": "2025-05-17T17:53:02.777270300Z",
     "start_time": "2025-05-17T17:53:02.311271200Z"
    }
   }
  },
  {
   "cell_type": "code",
   "execution_count": 10,
   "outputs": [],
   "source": [
    "from sampo.scheduler.heft.prioritization import prioritization_nodes\n",
    "from sampo.schemas import WorkGraph, GraphNode\n",
    "\n",
    "\n",
    "def stochastic_prioritization_function(wg: WorkGraph, work_estimator: WorkTimeEstimator) -> list[GraphNode]:\n",
    "    # wg is stochastic-generated graph\n",
    "    # here we can use only information from static graph\n",
    "    # let's use static prioritization\n",
    "\n",
    "    # TODO Still no followers saved... find problem please\n",
    "    order = []\n",
    "    for original_static_node in static_prioritization:\n",
    "        static_node = wg[original_static_node.id]\n",
    "        order.append(static_node)\n",
    "        # haha, get all defects...\n",
    "        children = static_node.get_following_nodes()\n",
    "        children_prioritization = prioritization_nodes(children, work_estimator)\n",
    "        order.extend(children_prioritization)\n",
    "    return order"
   ],
   "metadata": {
    "collapsed": false
   }
  },
  {
   "cell_type": "code",
   "execution_count": 11,
   "outputs": [
    {
     "data": {
      "text/plain": "295"
     },
     "execution_count": 11,
     "metadata": {},
     "output_type": "execute_result"
    }
   ],
   "source": [
    "from sampo.generator.environment import get_contractor_by_wg\n",
    "from sampo.pipeline import SchedulingPipeline\n",
    "from sampo.scheduler import HEFTScheduler\n",
    "\n",
    "scheduler = HEFTScheduler(prioritization_f=stochastic_prioritization_function, work_estimator=work_estimator)\n",
    "contractors = [get_contractor_by_wg(stochastic_wg)]\n",
    "\n",
    "project = SchedulingPipeline.create() \\\n",
    "    .wg(stochastic_wg) \\\n",
    "    .contractors(contractors) \\\n",
    "    .work_estimator(work_estimator) \\\n",
    "    .schedule(scheduler) \\\n",
    "    .finish()[0]\n",
    "\n",
    "project.schedule.execution_time"
   ],
   "metadata": {
    "collapsed": false
   }
  },
  {
   "cell_type": "code",
   "execution_count": 9,
   "outputs": [
    {
     "data": {
      "text/plain": "     idx                               task_id               task_name  \\\n0      0  44faa95b-0bef-5bcf-32bf-e8fa2a2e562e       finish of project   \n1      1  8ff41e8d-8944-897c-610e-4ad509c47055            minimal road   \n2      2  ac7c2e69-7f2e-eb7e-0352-05d79b683076        start of project   \n3      3  0d496d4b-da22-594f-573e-8d77550ae889          temporary road   \n4      4  f692ff1b-e245-f7f3-29f2-a2fbf83d58c3            minimal road   \n..   ...                                   ...                     ...   \n101  101  f5e77d4d-cf30-cf2d-9097-a70286ee6241  block dosage inhibitor   \n102  102  1ad2b334-8008-0777-57f4-42d5232ac74d  block local automation   \n103  103  a3858cde-9be1-092e-d23e-e3c934f4f040  block local automation   \n104  104  07758380-677a-20a7-a295-7691b1b77a92         cluster handing   \n105  105  fed4829c-2b03-621a-48fb-d18640dc5438         cluster handing   \n\n           task_name_mapped                            contractor   cost  \\\n0         finish of project  6856975b-c6a4-45bc-b26e-7a9a12af32ed      0   \n1              minimal road  6856975b-c6a4-45bc-b26e-7a9a12af32ed   2430   \n2          start of project  6856975b-c6a4-45bc-b26e-7a9a12af32ed      0   \n3            temporary road  6856975b-c6a4-45bc-b26e-7a9a12af32ed   2430   \n4              minimal road  6856975b-c6a4-45bc-b26e-7a9a12af32ed   2350   \n..                      ...                                   ...    ...   \n101  block dosage inhibitor  6856975b-c6a4-45bc-b26e-7a9a12af32ed  11760   \n102  block local automation  6856975b-c6a4-45bc-b26e-7a9a12af32ed   5850   \n103  block local automation  6856975b-c6a4-45bc-b26e-7a9a12af32ed   5850   \n104         cluster handing  6856975b-c6a4-45bc-b26e-7a9a12af32ed     80   \n105         cluster handing  6856975b-c6a4-45bc-b26e-7a9a12af32ed     80   \n\n        volume measurement  start  finish  duration  \\\n0     0.000000        unit      0       0         0   \n1    14.011989          km      0       1         1   \n2     0.000000        unit      0       0         0   \n3    14.011989          km      1       2         1   \n4    11.391279          km      2       3         1   \n..         ...         ...    ...     ...       ...   \n101   0.000000        unit    215     257        42   \n102   0.000000        unit    215     254        39   \n103   0.000000        unit    254     293        39   \n104   0.860000        unit    293     294         1   \n105   0.960000        unit    294     295         1   \n\n                                               workers  \\\n0                                                   {}   \n1       {'driver': 67, 'manager': 41, 'handyman': 135}   \n2                                                   {}   \n3       {'driver': 67, 'manager': 41, 'handyman': 135}   \n4       {'driver': 67, 'manager': 33, 'handyman': 135}   \n..                                                 ...   \n101  {'driver': 5, 'fitter': 8, 'manager': 1, 'hand...   \n102  {'driver': 2, 'fitter': 4, 'manager': 1, 'hand...   \n103  {'driver': 2, 'fitter': 4, 'manager': 1, 'hand...   \n104         {'driver': 2, 'manager': 2, 'engineer': 4}   \n105         {'driver': 2, 'manager': 2, 'engineer': 4}   \n\n                                 scheduled_work_object  \n0    ScheduledWork[work_unit=44faa95b-0bef-5bcf-32b...  \n1    ScheduledWork[work_unit=8ff41e8d-8944-897c-610...  \n2    ScheduledWork[work_unit=ac7c2e69-7f2e-eb7e-035...  \n3    ScheduledWork[work_unit=0d496d4b-da22-594f-573...  \n4    ScheduledWork[work_unit=f692ff1b-e245-f7f3-29f...  \n..                                                 ...  \n101  ScheduledWork[work_unit=f5e77d4d-cf30-cf2d-909...  \n102  ScheduledWork[work_unit=1ad2b334-8008-0777-57f...  \n103  ScheduledWork[work_unit=a3858cde-9be1-092e-d23...  \n104  ScheduledWork[work_unit=07758380-677a-20a7-a29...  \n105  ScheduledWork[work_unit=fed4829c-2b03-621a-48f...  \n\n[106 rows x 13 columns]",
      "text/html": "<div>\n<style scoped>\n    .dataframe tbody tr th:only-of-type {\n        vertical-align: middle;\n    }\n\n    .dataframe tbody tr th {\n        vertical-align: top;\n    }\n\n    .dataframe thead th {\n        text-align: right;\n    }\n</style>\n<table border=\"1\" class=\"dataframe\">\n  <thead>\n    <tr style=\"text-align: right;\">\n      <th></th>\n      <th>idx</th>\n      <th>task_id</th>\n      <th>task_name</th>\n      <th>task_name_mapped</th>\n      <th>contractor</th>\n      <th>cost</th>\n      <th>volume</th>\n      <th>measurement</th>\n      <th>start</th>\n      <th>finish</th>\n      <th>duration</th>\n      <th>workers</th>\n      <th>scheduled_work_object</th>\n    </tr>\n  </thead>\n  <tbody>\n    <tr>\n      <th>0</th>\n      <td>0</td>\n      <td>44faa95b-0bef-5bcf-32bf-e8fa2a2e562e</td>\n      <td>finish of project</td>\n      <td>finish of project</td>\n      <td>6856975b-c6a4-45bc-b26e-7a9a12af32ed</td>\n      <td>0</td>\n      <td>0.000000</td>\n      <td>unit</td>\n      <td>0</td>\n      <td>0</td>\n      <td>0</td>\n      <td>{}</td>\n      <td>ScheduledWork[work_unit=44faa95b-0bef-5bcf-32b...</td>\n    </tr>\n    <tr>\n      <th>1</th>\n      <td>1</td>\n      <td>8ff41e8d-8944-897c-610e-4ad509c47055</td>\n      <td>minimal road</td>\n      <td>minimal road</td>\n      <td>6856975b-c6a4-45bc-b26e-7a9a12af32ed</td>\n      <td>2430</td>\n      <td>14.011989</td>\n      <td>km</td>\n      <td>0</td>\n      <td>1</td>\n      <td>1</td>\n      <td>{'driver': 67, 'manager': 41, 'handyman': 135}</td>\n      <td>ScheduledWork[work_unit=8ff41e8d-8944-897c-610...</td>\n    </tr>\n    <tr>\n      <th>2</th>\n      <td>2</td>\n      <td>ac7c2e69-7f2e-eb7e-0352-05d79b683076</td>\n      <td>start of project</td>\n      <td>start of project</td>\n      <td>6856975b-c6a4-45bc-b26e-7a9a12af32ed</td>\n      <td>0</td>\n      <td>0.000000</td>\n      <td>unit</td>\n      <td>0</td>\n      <td>0</td>\n      <td>0</td>\n      <td>{}</td>\n      <td>ScheduledWork[work_unit=ac7c2e69-7f2e-eb7e-035...</td>\n    </tr>\n    <tr>\n      <th>3</th>\n      <td>3</td>\n      <td>0d496d4b-da22-594f-573e-8d77550ae889</td>\n      <td>temporary road</td>\n      <td>temporary road</td>\n      <td>6856975b-c6a4-45bc-b26e-7a9a12af32ed</td>\n      <td>2430</td>\n      <td>14.011989</td>\n      <td>km</td>\n      <td>1</td>\n      <td>2</td>\n      <td>1</td>\n      <td>{'driver': 67, 'manager': 41, 'handyman': 135}</td>\n      <td>ScheduledWork[work_unit=0d496d4b-da22-594f-573...</td>\n    </tr>\n    <tr>\n      <th>4</th>\n      <td>4</td>\n      <td>f692ff1b-e245-f7f3-29f2-a2fbf83d58c3</td>\n      <td>minimal road</td>\n      <td>minimal road</td>\n      <td>6856975b-c6a4-45bc-b26e-7a9a12af32ed</td>\n      <td>2350</td>\n      <td>11.391279</td>\n      <td>km</td>\n      <td>2</td>\n      <td>3</td>\n      <td>1</td>\n      <td>{'driver': 67, 'manager': 33, 'handyman': 135}</td>\n      <td>ScheduledWork[work_unit=f692ff1b-e245-f7f3-29f...</td>\n    </tr>\n    <tr>\n      <th>...</th>\n      <td>...</td>\n      <td>...</td>\n      <td>...</td>\n      <td>...</td>\n      <td>...</td>\n      <td>...</td>\n      <td>...</td>\n      <td>...</td>\n      <td>...</td>\n      <td>...</td>\n      <td>...</td>\n      <td>...</td>\n      <td>...</td>\n    </tr>\n    <tr>\n      <th>101</th>\n      <td>101</td>\n      <td>f5e77d4d-cf30-cf2d-9097-a70286ee6241</td>\n      <td>block dosage inhibitor</td>\n      <td>block dosage inhibitor</td>\n      <td>6856975b-c6a4-45bc-b26e-7a9a12af32ed</td>\n      <td>11760</td>\n      <td>0.000000</td>\n      <td>unit</td>\n      <td>215</td>\n      <td>257</td>\n      <td>42</td>\n      <td>{'driver': 5, 'fitter': 8, 'manager': 1, 'hand...</td>\n      <td>ScheduledWork[work_unit=f5e77d4d-cf30-cf2d-909...</td>\n    </tr>\n    <tr>\n      <th>102</th>\n      <td>102</td>\n      <td>1ad2b334-8008-0777-57f4-42d5232ac74d</td>\n      <td>block local automation</td>\n      <td>block local automation</td>\n      <td>6856975b-c6a4-45bc-b26e-7a9a12af32ed</td>\n      <td>5850</td>\n      <td>0.000000</td>\n      <td>unit</td>\n      <td>215</td>\n      <td>254</td>\n      <td>39</td>\n      <td>{'driver': 2, 'fitter': 4, 'manager': 1, 'hand...</td>\n      <td>ScheduledWork[work_unit=1ad2b334-8008-0777-57f...</td>\n    </tr>\n    <tr>\n      <th>103</th>\n      <td>103</td>\n      <td>a3858cde-9be1-092e-d23e-e3c934f4f040</td>\n      <td>block local automation</td>\n      <td>block local automation</td>\n      <td>6856975b-c6a4-45bc-b26e-7a9a12af32ed</td>\n      <td>5850</td>\n      <td>0.000000</td>\n      <td>unit</td>\n      <td>254</td>\n      <td>293</td>\n      <td>39</td>\n      <td>{'driver': 2, 'fitter': 4, 'manager': 1, 'hand...</td>\n      <td>ScheduledWork[work_unit=a3858cde-9be1-092e-d23...</td>\n    </tr>\n    <tr>\n      <th>104</th>\n      <td>104</td>\n      <td>07758380-677a-20a7-a295-7691b1b77a92</td>\n      <td>cluster handing</td>\n      <td>cluster handing</td>\n      <td>6856975b-c6a4-45bc-b26e-7a9a12af32ed</td>\n      <td>80</td>\n      <td>0.860000</td>\n      <td>unit</td>\n      <td>293</td>\n      <td>294</td>\n      <td>1</td>\n      <td>{'driver': 2, 'manager': 2, 'engineer': 4}</td>\n      <td>ScheduledWork[work_unit=07758380-677a-20a7-a29...</td>\n    </tr>\n    <tr>\n      <th>105</th>\n      <td>105</td>\n      <td>fed4829c-2b03-621a-48fb-d18640dc5438</td>\n      <td>cluster handing</td>\n      <td>cluster handing</td>\n      <td>6856975b-c6a4-45bc-b26e-7a9a12af32ed</td>\n      <td>80</td>\n      <td>0.960000</td>\n      <td>unit</td>\n      <td>294</td>\n      <td>295</td>\n      <td>1</td>\n      <td>{'driver': 2, 'manager': 2, 'engineer': 4}</td>\n      <td>ScheduledWork[work_unit=fed4829c-2b03-621a-48f...</td>\n    </tr>\n  </tbody>\n</table>\n<p>106 rows × 13 columns</p>\n</div>"
     },
     "execution_count": 9,
     "metadata": {},
     "output_type": "execute_result"
    }
   ],
   "source": [
    "project.schedule.full_schedule_df"
   ],
   "metadata": {
    "collapsed": false,
    "ExecuteTime": {
     "end_time": "2025-05-17T17:53:05.876324500Z",
     "start_time": "2025-05-17T17:53:05.857325300Z"
    }
   }
  },
  {
   "cell_type": "code",
   "execution_count": null,
   "outputs": [],
   "source": [
    "# [node for lst in self._node2followers.values() for lst2, _ in lst for node in lst2 if node.work_unit.name == 'finish of project']\n",
    "# [(g1, g2) for g1 in defect_graphs for g2 in defect_graphs if len(set(g1).intersection(set(g2))) > 0]\n",
    "# sorted([node for lst in self._node2followers.values() for lst2, _ in lst for node in lst2], key=lambda x: x.id)\n",
    "# sorted([(node, prob) for lst in self._node2followers.values() for lst2, prob in lst for node in lst2], key=lambda x: x[0].id)"
   ],
   "metadata": {
    "collapsed": false
   },
   "id": "f120a540ae1a143c"
  }
 ],
 "metadata": {
  "kernelspec": {
   "display_name": "Python 3",
   "language": "python",
   "name": "python3"
  },
  "language_info": {
   "codemirror_mode": {
    "name": "ipython",
    "version": 2
   },
   "file_extension": ".py",
   "mimetype": "text/x-python",
   "name": "python",
   "nbconvert_exporter": "python",
   "pygments_lexer": "ipython2",
   "version": "2.7.6"
  }
 },
 "nbformat": 4,
 "nbformat_minor": 5
}
