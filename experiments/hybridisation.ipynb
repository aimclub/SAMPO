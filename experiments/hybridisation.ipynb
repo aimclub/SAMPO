{
 "cells": [
  {
   "cell_type": "code",
   "execution_count": 1,
   "id": "initial_id",
   "metadata": {
    "collapsed": true,
    "ExecuteTime": {
     "end_time": "2024-04-06T14:56:18.492056800Z",
     "start_time": "2024-04-06T14:56:16.553635700Z"
    }
   },
   "outputs": [
    {
     "name": "stderr",
     "output_type": "stream",
     "text": [
      "C:\\Users\\Quarter\\PycharmProjects\\sampo\\venv\\lib\\site-packages\\scipy\\__init__.py:169: UserWarning: A NumPy version >=1.18.5 and <1.26.0 is required for this version of SciPy (detected version 1.26.4\n",
      "  warnings.warn(f\"A NumPy version >={np_minversion} and <{np_maxversion}\"\n"
     ]
    },
    {
     "name": "stdout",
     "output_type": "stream",
     "text": [
      "Can not find native module; switching to default\n"
     ]
    },
    {
     "name": "stderr",
     "output_type": "stream",
     "text": [
      "[matplotlib] [DEBUG] matplotlib data path: C:\\Users\\Quarter\\PycharmProjects\\sampo\\venv\\lib\\site-packages\\matplotlib\\mpl-data\n",
      "[matplotlib] [DEBUG] CONFIGDIR=C:\\Users\\Quarter\\.matplotlib\n",
      "[matplotlib] [DEBUG] interactive is False\n",
      "[matplotlib] [DEBUG] platform is win32\n",
      "[matplotlib] [DEBUG] CACHEDIR=C:\\Users\\Quarter\\.matplotlib\n",
      "[matplotlib.font_manager] [DEBUG] Using fontManager instance from C:\\Users\\Quarter\\.matplotlib\\fontlist-v330.json\n"
     ]
    }
   ],
   "source": [
    "import sampo.scheduler\n",
    "from sampo.hybrid.population_tabu import TabuPopulationScheduler\n",
    "\n",
    "from sampo.hybrid.cycle import CycleHybridScheduler\n",
    "from sampo.api.genetic_api import ScheduleGenerationScheme\n",
    "from sampo.scheduler import HEFTScheduler, HEFTBetweenScheduler, TopologicalScheduler, GeneticScheduler\n",
    "from sampo.hybrid.population import HeuristicPopulationScheduler, GeneticPopulationScheduler\n",
    "\n",
    "heuristics = HeuristicPopulationScheduler([HEFTScheduler(), HEFTBetweenScheduler(), TopologicalScheduler()])\n",
    "genetic1 = TabuPopulationScheduler()\n",
    "genetic2 = GeneticPopulationScheduler(GeneticScheduler(sgs_type=ScheduleGenerationScheme.Parallel))\n",
    "\n",
    "hybrid = CycleHybridScheduler(heuristics, [genetic1, genetic2])"
   ]
  },
  {
   "cell_type": "code",
   "outputs": [],
   "source": [
    "from sampo.generator.environment import get_contractor_by_wg\n",
    "from sampo.generator import SimpleSynthetic\n",
    "\n",
    "wg = SimpleSynthetic(rand=231).work_graph(bottom_border=50)\n",
    "contractors = [get_contractor_by_wg(wg)]"
   ],
   "metadata": {
    "collapsed": false,
    "ExecuteTime": {
     "end_time": "2024-04-06T14:56:18.508087600Z",
     "start_time": "2024-04-06T14:56:18.494058200Z"
    }
   },
   "id": "ca16a12c3f9bab5d",
   "execution_count": 2
  },
  {
   "cell_type": "code",
   "outputs": [
    {
     "name": "stdout",
     "output_type": "stream",
     "text": [
      "Genetic optimizing took 2.000570297241211 ms\n",
      "[TABU] iteration 0\n",
      "[TABU] iteration 1\n",
      "[TABU] iteration 2\n"
     ]
    },
    {
     "ename": "KeyboardInterrupt",
     "evalue": "",
     "output_type": "error",
     "traceback": [
      "\u001B[1;31m---------------------------------------------------------------------------\u001B[0m",
      "\u001B[1;31mKeyboardInterrupt\u001B[0m                         Traceback (most recent call last)",
      "Cell \u001B[1;32mIn[3], line 6\u001B[0m\n\u001B[0;32m      3\u001B[0m SAMPO\u001B[38;5;241m.\u001B[39mbackend\u001B[38;5;241m.\u001B[39mcache_scheduler_info(wg, contractors)\n\u001B[0;32m      4\u001B[0m SAMPO\u001B[38;5;241m.\u001B[39mbackend\u001B[38;5;241m.\u001B[39mcache_genetic_info()\n\u001B[1;32m----> 6\u001B[0m schedule \u001B[38;5;241m=\u001B[39m \u001B[43mhybrid\u001B[49m\u001B[38;5;241;43m.\u001B[39;49m\u001B[43mschedule\u001B[49m\u001B[43m(\u001B[49m\u001B[43mwg\u001B[49m\u001B[43m,\u001B[49m\u001B[43m \u001B[49m\u001B[43mcontractors\u001B[49m\u001B[43m)\u001B[49m\n",
      "File \u001B[1;32m~\\PycharmProjects\\sampo\\sampo\\hybrid\\cycle.py:76\u001B[0m, in \u001B[0;36mCycleHybridScheduler.schedule\u001B[1;34m(self, wg, contractors, spec, assigned_parent_time, sgs_type, landscape)\u001B[0m\n\u001B[0;32m     73\u001B[0m         cur_fitness \u001B[38;5;241m=\u001B[39m pop_fitness\n\u001B[0;32m     75\u001B[0m     \u001B[38;5;28;01mfor\u001B[39;00m scheduler \u001B[38;5;129;01min\u001B[39;00m \u001B[38;5;28mself\u001B[39m\u001B[38;5;241m.\u001B[39m_cycle_schedulers:\n\u001B[1;32m---> 76\u001B[0m         pop \u001B[38;5;241m=\u001B[39m \u001B[43mscheduler\u001B[49m\u001B[38;5;241;43m.\u001B[39;49m\u001B[43mschedule\u001B[49m\u001B[43m(\u001B[49m\u001B[43mpop\u001B[49m\u001B[43m,\u001B[49m\u001B[43m \u001B[49m\u001B[43mwg\u001B[49m\u001B[43m,\u001B[49m\u001B[43m \u001B[49m\u001B[43mcontractors\u001B[49m\u001B[43m,\u001B[49m\u001B[43m \u001B[49m\u001B[43mspec\u001B[49m\u001B[43m,\u001B[49m\u001B[43m \u001B[49m\u001B[43massigned_parent_time\u001B[49m\u001B[43m,\u001B[49m\u001B[43m \u001B[49m\u001B[43mlandscape\u001B[49m\u001B[43m)\u001B[49m\n\u001B[0;32m     78\u001B[0m best_ind \u001B[38;5;241m=\u001B[39m \u001B[38;5;28mself\u001B[39m\u001B[38;5;241m.\u001B[39m_get_best_individual(pop)\n\u001B[0;32m     80\u001B[0m toolbox \u001B[38;5;241m=\u001B[39m create_toolbox(wg\u001B[38;5;241m=\u001B[39mwg, contractors\u001B[38;5;241m=\u001B[39mcontractors, landscape\u001B[38;5;241m=\u001B[39mlandscape,\n\u001B[0;32m     81\u001B[0m                          assigned_parent_time\u001B[38;5;241m=\u001B[39massigned_parent_time, spec\u001B[38;5;241m=\u001B[39mspec,\n\u001B[0;32m     82\u001B[0m                          sgs_type\u001B[38;5;241m=\u001B[39msgs_type)\n",
      "File \u001B[1;32m~\\PycharmProjects\\sampo\\sampo\\hybrid\\population_tabu.py:46\u001B[0m, in \u001B[0;36mTabuPopulationScheduler.schedule\u001B[1;34m(self, initial_population, wg, contractors, spec, assigned_parent_time, landscape)\u001B[0m\n\u001B[0;32m     41\u001B[0m tabu_leader \u001B[38;5;241m=\u001B[39m ChromosomeRW\u001B[38;5;241m.\u001B[39mfrom_sampo_chromosome(leader)\n\u001B[0;32m     43\u001B[0m opt_ord, opt_res \u001B[38;5;241m=\u001B[39m get_optimiser(tabu_toolbox,\n\u001B[0;32m     44\u001B[0m                                  use_vp\u001B[38;5;241m=\u001B[39m\u001B[38;5;28;01mTrue\u001B[39;00m,\n\u001B[0;32m     45\u001B[0m                                  optimisers_lifetime\u001B[38;5;241m=\u001B[39mOptimiserLifetime\u001B[38;5;241m.\u001B[39mShort)\n\u001B[1;32m---> 46\u001B[0m tabu_leader \u001B[38;5;241m=\u001B[39m \u001B[43mopt_ord\u001B[49m\u001B[38;5;241;43m.\u001B[39;49m\u001B[43moptimize\u001B[49m\u001B[43m(\u001B[49m\u001B[43mtabu_leader\u001B[49m\u001B[43m)\u001B[49m\n\u001B[0;32m     47\u001B[0m tabu_leader \u001B[38;5;241m=\u001B[39m opt_res\u001B[38;5;241m.\u001B[39moptimize(tabu_leader)\n\u001B[0;32m     49\u001B[0m \u001B[38;5;28;01mreturn\u001B[39;00m initial_population \u001B[38;5;241m+\u001B[39m tabu_leader\u001B[38;5;241m.\u001B[39mto_sampo_chromosome()\n",
      "File \u001B[1;32m~\\PycharmProjects\\sampo\\tabusearch\\tabu_search.py:112\u001B[0m, in \u001B[0;36mTabuSearch.optimize\u001B[1;34m(self, x0)\u001B[0m\n\u001B[0;32m    109\u001B[0m history\u001B[38;5;241m.\u001B[39mappend(copy(x))\n\u001B[0;32m    111\u001B[0m \u001B[38;5;28;01mwhile\u001B[39;00m \u001B[38;5;28;01mTrue\u001B[39;00m:\n\u001B[1;32m--> 112\u001B[0m     neighbours \u001B[38;5;241m=\u001B[39m \u001B[38;5;28;43mself\u001B[39;49m\u001B[38;5;241;43m.\u001B[39;49m\u001B[43mget_neighbours\u001B[49m\u001B[43m(\u001B[49m\u001B[43mx\u001B[49m\u001B[43m)\u001B[49m\n\u001B[0;32m    113\u001B[0m     choice \u001B[38;5;241m=\u001B[39m \u001B[38;5;28mself\u001B[39m\u001B[38;5;241m.\u001B[39mchoose(neighbours)\n\u001B[0;32m    114\u001B[0m     \u001B[38;5;28;01mif\u001B[39;00m choice \u001B[38;5;129;01mis\u001B[39;00m \u001B[38;5;129;01mnot\u001B[39;00m \u001B[38;5;28;01mNone\u001B[39;00m:\n",
      "File \u001B[1;32m~\\PycharmProjects\\sampo\\tabusearch\\tabu_search.py:128\u001B[0m, in \u001B[0;36mTabuSearch.get_neighbours\u001B[1;34m(self, x)\u001B[0m\n\u001B[0;32m    127\u001B[0m \u001B[38;5;28;01mdef\u001B[39;00m \u001B[38;5;21mget_neighbours\u001B[39m(\u001B[38;5;28mself\u001B[39m, x: Solution) \u001B[38;5;241m-\u001B[39m\u001B[38;5;241m>\u001B[39m Iterable[Solution]:\n\u001B[1;32m--> 128\u001B[0m     generated \u001B[38;5;241m=\u001B[39m [(behaviour\u001B[38;5;241m.\u001B[39mmutation_type, behaviour\u001B[38;5;241m.\u001B[39mmutate(x)) \u001B[38;5;28;01mfor\u001B[39;00m behaviour \u001B[38;5;129;01min\u001B[39;00m \u001B[38;5;28mself\u001B[39m\u001B[38;5;241m.\u001B[39mmutation_behaviour]\n\u001B[0;32m    129\u001B[0m     solutions \u001B[38;5;241m=\u001B[39m \u001B[38;5;28mself\u001B[39m\u001B[38;5;241m.\u001B[39msolution_factory(generated)\n\u001B[0;32m    130\u001B[0m     \u001B[38;5;28;01mreturn\u001B[39;00m \u001B[38;5;28mself\u001B[39m\u001B[38;5;241m.\u001B[39mfiltering_memory_criterion\u001B[38;5;241m.\u001B[39mfilter(solutions)\n",
      "File \u001B[1;32m~\\PycharmProjects\\sampo\\tabusearch\\tabu_search.py:128\u001B[0m, in \u001B[0;36m<listcomp>\u001B[1;34m(.0)\u001B[0m\n\u001B[0;32m    127\u001B[0m \u001B[38;5;28;01mdef\u001B[39;00m \u001B[38;5;21mget_neighbours\u001B[39m(\u001B[38;5;28mself\u001B[39m, x: Solution) \u001B[38;5;241m-\u001B[39m\u001B[38;5;241m>\u001B[39m Iterable[Solution]:\n\u001B[1;32m--> 128\u001B[0m     generated \u001B[38;5;241m=\u001B[39m [(behaviour\u001B[38;5;241m.\u001B[39mmutation_type, \u001B[43mbehaviour\u001B[49m\u001B[38;5;241;43m.\u001B[39;49m\u001B[43mmutate\u001B[49m\u001B[43m(\u001B[49m\u001B[43mx\u001B[49m\u001B[43m)\u001B[49m) \u001B[38;5;28;01mfor\u001B[39;00m behaviour \u001B[38;5;129;01min\u001B[39;00m \u001B[38;5;28mself\u001B[39m\u001B[38;5;241m.\u001B[39mmutation_behaviour]\n\u001B[0;32m    129\u001B[0m     solutions \u001B[38;5;241m=\u001B[39m \u001B[38;5;28mself\u001B[39m\u001B[38;5;241m.\u001B[39msolution_factory(generated)\n\u001B[0;32m    130\u001B[0m     \u001B[38;5;28;01mreturn\u001B[39;00m \u001B[38;5;28mself\u001B[39m\u001B[38;5;241m.\u001B[39mfiltering_memory_criterion\u001B[38;5;241m.\u001B[39mfilter(solutions)\n",
      "File \u001B[1;32m~\\PycharmProjects\\sampo\\tabusearch\\mutation\\base.py:22\u001B[0m, in \u001B[0;36mMutationBehaviour.mutate\u001B[1;34m(self, pivot)\u001B[0m\n\u001B[0;32m     15\u001B[0m \u001B[38;5;250m\u001B[39m\u001B[38;5;124;03m\"\"\"\u001B[39;00m\n\u001B[0;32m     16\u001B[0m \u001B[38;5;124;03mMain interface for generation of new solution space.\u001B[39;00m\n\u001B[0;32m     17\u001B[0m \u001B[38;5;124;03m:param pivot: Previous solution, whom neighbourhood should be found.\u001B[39;00m\n\u001B[0;32m     18\u001B[0m \u001B[38;5;124;03m:return: New solution space.\u001B[39;00m\n\u001B[0;32m     19\u001B[0m \u001B[38;5;124;03m\"\"\"\u001B[39;00m\n\u001B[0;32m     20\u001B[0m \u001B[38;5;66;03m# TODO: erase\u001B[39;00m\n\u001B[0;32m     21\u001B[0m \u001B[38;5;66;03m# return [self._solution_factory(*mutation) for mutation in self._generate_mutations(pivot.position)]\u001B[39;00m\n\u001B[1;32m---> 22\u001B[0m \u001B[38;5;28;01mreturn\u001B[39;00m \u001B[38;5;28;43mself\u001B[39;49m\u001B[38;5;241;43m.\u001B[39;49m\u001B[43m_generate_mutations\u001B[49m\u001B[43m(\u001B[49m\u001B[43mpivot\u001B[49m\u001B[38;5;241;43m.\u001B[39;49m\u001B[43mposition\u001B[49m\u001B[43m)\u001B[49m\n",
      "File \u001B[1;32m~\\PycharmProjects\\sampo\\tabusearch\\experiments\\scheduling\\order_neighbourhood.py:73\u001B[0m, in \u001B[0;36mvariable_partitioning_order_shuffle\u001B[1;34m(ind, is_order_correct, distances, one_distance_trials, rng)\u001B[0m\n\u001B[0;32m     69\u001B[0m         shuffled[trial_start:trial_start \u001B[38;5;241m+\u001B[39m distance] \\\n\u001B[0;32m     70\u001B[0m             \u001B[38;5;241m=\u001B[39m shuffled[np_shuffled(np\u001B[38;5;241m.\u001B[39marange(trial_start, trial_start \u001B[38;5;241m+\u001B[39m distance))]\n\u001B[0;32m     72\u001B[0m         \u001B[38;5;28;01mif\u001B[39;00m is_order_correct(shuffled):\n\u001B[1;32m---> 73\u001B[0m             result\u001B[38;5;241m.\u001B[39mappend((\u001B[43mind\u001B[49m\u001B[38;5;241;43m.\u001B[39;49m\u001B[43mcopy\u001B[49m\u001B[43m(\u001B[49m\u001B[43mactivity_list\u001B[49m\u001B[38;5;241;43m=\u001B[39;49m\u001B[43mshuffled\u001B[49m\u001B[43m)\u001B[49m, \u001B[38;5;124mf\u001B[39m\u001B[38;5;124m'\u001B[39m\u001B[38;5;132;01m{\u001B[39;00mtrial_start\u001B[38;5;132;01m}\u001B[39;00m\u001B[38;5;124m:\u001B[39m\u001B[38;5;132;01m{\u001B[39;00mdistance\u001B[38;5;132;01m}\u001B[39;00m\u001B[38;5;124m'\u001B[39m))\n\u001B[0;32m     75\u001B[0m \u001B[38;5;28;01mreturn\u001B[39;00m result\n",
      "File \u001B[1;32m~\\PycharmProjects\\sampo\\tabusearch\\utility\\chromosome.py:112\u001B[0m, in \u001B[0;36mChromosomeRW.copy\u001B[1;34m(self, **kwargs)\u001B[0m\n\u001B[0;32m    102\u001B[0m new_chromosome \u001B[38;5;241m=\u001B[39m \\\n\u001B[0;32m    103\u001B[0m     ChromosomeRW(\u001B[38;5;241m*\u001B[39m\u001B[38;5;241m*\u001B[39m{\u001B[38;5;124m'\u001B[39m\u001B[38;5;124mactivity_list\u001B[39m\u001B[38;5;124m'\u001B[39m: kwargs\u001B[38;5;241m.\u001B[39mget(\u001B[38;5;124m'\u001B[39m\u001B[38;5;124mactivity_list\u001B[39m\u001B[38;5;124m'\u001B[39m, \u001B[38;5;28mself\u001B[39m\u001B[38;5;241m.\u001B[39m_activity_list\u001B[38;5;241m.\u001B[39mcopy()),\n\u001B[0;32m    104\u001B[0m                     \u001B[38;5;124m'\u001B[39m\u001B[38;5;124mcontractor_resource_pools\u001B[39m\u001B[38;5;124m'\u001B[39m: kwargs\u001B[38;5;241m.\u001B[39mget(\u001B[38;5;124m'\u001B[39m\u001B[38;5;124mcontractor_resource_pools\u001B[39m\u001B[38;5;124m'\u001B[39m,\n\u001B[1;32m   (...)\u001B[0m\n\u001B[0;32m    109\u001B[0m                                                                \u001B[38;5;28mself\u001B[39m\u001B[38;5;241m.\u001B[39m_resource_activity_alloc\u001B[38;5;241m.\u001B[39mcopy()),\n\u001B[0;32m    110\u001B[0m                     \u001B[38;5;124m'\u001B[39m\u001B[38;5;124mvalidate_sizes\u001B[39m\u001B[38;5;124m'\u001B[39m: kwargs\u001B[38;5;241m.\u001B[39mget(\u001B[38;5;124m'\u001B[39m\u001B[38;5;124mvalidate_sizes\u001B[39m\u001B[38;5;124m'\u001B[39m, \u001B[38;5;28;01mFalse\u001B[39;00m)})\n\u001B[0;32m    111\u001B[0m \u001B[38;5;28;01mif\u001B[39;00m \u001B[38;5;28mself\u001B[39m\u001B[38;5;241m.\u001B[39m_rest_info:\n\u001B[1;32m--> 112\u001B[0m     new_chromosome\u001B[38;5;241m.\u001B[39madd_rest_info(\u001B[38;5;241m*\u001B[39m\u001B[43mdeepcopy\u001B[49m\u001B[43m(\u001B[49m\u001B[38;5;28;43mself\u001B[39;49m\u001B[38;5;241;43m.\u001B[39;49m\u001B[43m_rest_info\u001B[49m\u001B[43m)\u001B[49m)\n\u001B[0;32m    114\u001B[0m \u001B[38;5;28;01mreturn\u001B[39;00m new_chromosome\n",
      "File \u001B[1;32m~\\AppData\\Local\\Programs\\Python\\Python310\\lib\\copy.py:146\u001B[0m, in \u001B[0;36mdeepcopy\u001B[1;34m(x, memo, _nil)\u001B[0m\n\u001B[0;32m    144\u001B[0m copier \u001B[38;5;241m=\u001B[39m _deepcopy_dispatch\u001B[38;5;241m.\u001B[39mget(\u001B[38;5;28mcls\u001B[39m)\n\u001B[0;32m    145\u001B[0m \u001B[38;5;28;01mif\u001B[39;00m copier \u001B[38;5;129;01mis\u001B[39;00m \u001B[38;5;129;01mnot\u001B[39;00m \u001B[38;5;28;01mNone\u001B[39;00m:\n\u001B[1;32m--> 146\u001B[0m     y \u001B[38;5;241m=\u001B[39m \u001B[43mcopier\u001B[49m\u001B[43m(\u001B[49m\u001B[43mx\u001B[49m\u001B[43m,\u001B[49m\u001B[43m \u001B[49m\u001B[43mmemo\u001B[49m\u001B[43m)\u001B[49m\n\u001B[0;32m    147\u001B[0m \u001B[38;5;28;01melse\u001B[39;00m:\n\u001B[0;32m    148\u001B[0m     \u001B[38;5;28;01mif\u001B[39;00m \u001B[38;5;28missubclass\u001B[39m(\u001B[38;5;28mcls\u001B[39m, \u001B[38;5;28mtype\u001B[39m):\n",
      "File \u001B[1;32m~\\AppData\\Local\\Programs\\Python\\Python310\\lib\\copy.py:206\u001B[0m, in \u001B[0;36m_deepcopy_list\u001B[1;34m(x, memo, deepcopy)\u001B[0m\n\u001B[0;32m    204\u001B[0m append \u001B[38;5;241m=\u001B[39m y\u001B[38;5;241m.\u001B[39mappend\n\u001B[0;32m    205\u001B[0m \u001B[38;5;28;01mfor\u001B[39;00m a \u001B[38;5;129;01min\u001B[39;00m x:\n\u001B[1;32m--> 206\u001B[0m     append(\u001B[43mdeepcopy\u001B[49m\u001B[43m(\u001B[49m\u001B[43ma\u001B[49m\u001B[43m,\u001B[49m\u001B[43m \u001B[49m\u001B[43mmemo\u001B[49m\u001B[43m)\u001B[49m)\n\u001B[0;32m    207\u001B[0m \u001B[38;5;28;01mreturn\u001B[39;00m y\n",
      "File \u001B[1;32m~\\AppData\\Local\\Programs\\Python\\Python310\\lib\\copy.py:172\u001B[0m, in \u001B[0;36mdeepcopy\u001B[1;34m(x, memo, _nil)\u001B[0m\n\u001B[0;32m    170\u001B[0m                 y \u001B[38;5;241m=\u001B[39m x\n\u001B[0;32m    171\u001B[0m             \u001B[38;5;28;01melse\u001B[39;00m:\n\u001B[1;32m--> 172\u001B[0m                 y \u001B[38;5;241m=\u001B[39m \u001B[43m_reconstruct\u001B[49m\u001B[43m(\u001B[49m\u001B[43mx\u001B[49m\u001B[43m,\u001B[49m\u001B[43m \u001B[49m\u001B[43mmemo\u001B[49m\u001B[43m,\u001B[49m\u001B[43m \u001B[49m\u001B[38;5;241;43m*\u001B[39;49m\u001B[43mrv\u001B[49m\u001B[43m)\u001B[49m\n\u001B[0;32m    174\u001B[0m \u001B[38;5;66;03m# If is its own copy, don't memoize.\u001B[39;00m\n\u001B[0;32m    175\u001B[0m \u001B[38;5;28;01mif\u001B[39;00m y \u001B[38;5;129;01mis\u001B[39;00m \u001B[38;5;129;01mnot\u001B[39;00m x:\n",
      "File \u001B[1;32m~\\AppData\\Local\\Programs\\Python\\Python310\\lib\\copy.py:271\u001B[0m, in \u001B[0;36m_reconstruct\u001B[1;34m(x, memo, func, args, state, listiter, dictiter, deepcopy)\u001B[0m\n\u001B[0;32m    269\u001B[0m \u001B[38;5;28;01mif\u001B[39;00m state \u001B[38;5;129;01mis\u001B[39;00m \u001B[38;5;129;01mnot\u001B[39;00m \u001B[38;5;28;01mNone\u001B[39;00m:\n\u001B[0;32m    270\u001B[0m     \u001B[38;5;28;01mif\u001B[39;00m deep:\n\u001B[1;32m--> 271\u001B[0m         state \u001B[38;5;241m=\u001B[39m \u001B[43mdeepcopy\u001B[49m\u001B[43m(\u001B[49m\u001B[43mstate\u001B[49m\u001B[43m,\u001B[49m\u001B[43m \u001B[49m\u001B[43mmemo\u001B[49m\u001B[43m)\u001B[49m\n\u001B[0;32m    272\u001B[0m     \u001B[38;5;28;01mif\u001B[39;00m \u001B[38;5;28mhasattr\u001B[39m(y, \u001B[38;5;124m'\u001B[39m\u001B[38;5;124m__setstate__\u001B[39m\u001B[38;5;124m'\u001B[39m):\n\u001B[0;32m    273\u001B[0m         y\u001B[38;5;241m.\u001B[39m__setstate__(state)\n",
      "File \u001B[1;32m~\\AppData\\Local\\Programs\\Python\\Python310\\lib\\copy.py:146\u001B[0m, in \u001B[0;36mdeepcopy\u001B[1;34m(x, memo, _nil)\u001B[0m\n\u001B[0;32m    144\u001B[0m copier \u001B[38;5;241m=\u001B[39m _deepcopy_dispatch\u001B[38;5;241m.\u001B[39mget(\u001B[38;5;28mcls\u001B[39m)\n\u001B[0;32m    145\u001B[0m \u001B[38;5;28;01mif\u001B[39;00m copier \u001B[38;5;129;01mis\u001B[39;00m \u001B[38;5;129;01mnot\u001B[39;00m \u001B[38;5;28;01mNone\u001B[39;00m:\n\u001B[1;32m--> 146\u001B[0m     y \u001B[38;5;241m=\u001B[39m \u001B[43mcopier\u001B[49m\u001B[43m(\u001B[49m\u001B[43mx\u001B[49m\u001B[43m,\u001B[49m\u001B[43m \u001B[49m\u001B[43mmemo\u001B[49m\u001B[43m)\u001B[49m\n\u001B[0;32m    147\u001B[0m \u001B[38;5;28;01melse\u001B[39;00m:\n\u001B[0;32m    148\u001B[0m     \u001B[38;5;28;01mif\u001B[39;00m \u001B[38;5;28missubclass\u001B[39m(\u001B[38;5;28mcls\u001B[39m, \u001B[38;5;28mtype\u001B[39m):\n",
      "File \u001B[1;32m~\\AppData\\Local\\Programs\\Python\\Python310\\lib\\copy.py:231\u001B[0m, in \u001B[0;36m_deepcopy_dict\u001B[1;34m(x, memo, deepcopy)\u001B[0m\n\u001B[0;32m    229\u001B[0m memo[\u001B[38;5;28mid\u001B[39m(x)] \u001B[38;5;241m=\u001B[39m y\n\u001B[0;32m    230\u001B[0m \u001B[38;5;28;01mfor\u001B[39;00m key, value \u001B[38;5;129;01min\u001B[39;00m x\u001B[38;5;241m.\u001B[39mitems():\n\u001B[1;32m--> 231\u001B[0m     y[deepcopy(key, memo)] \u001B[38;5;241m=\u001B[39m \u001B[43mdeepcopy\u001B[49m\u001B[43m(\u001B[49m\u001B[43mvalue\u001B[49m\u001B[43m,\u001B[49m\u001B[43m \u001B[49m\u001B[43mmemo\u001B[49m\u001B[43m)\u001B[49m\n\u001B[0;32m    232\u001B[0m \u001B[38;5;28;01mreturn\u001B[39;00m y\n",
      "File \u001B[1;32m~\\AppData\\Local\\Programs\\Python\\Python310\\lib\\copy.py:172\u001B[0m, in \u001B[0;36mdeepcopy\u001B[1;34m(x, memo, _nil)\u001B[0m\n\u001B[0;32m    170\u001B[0m                 y \u001B[38;5;241m=\u001B[39m x\n\u001B[0;32m    171\u001B[0m             \u001B[38;5;28;01melse\u001B[39;00m:\n\u001B[1;32m--> 172\u001B[0m                 y \u001B[38;5;241m=\u001B[39m \u001B[43m_reconstruct\u001B[49m\u001B[43m(\u001B[49m\u001B[43mx\u001B[49m\u001B[43m,\u001B[49m\u001B[43m \u001B[49m\u001B[43mmemo\u001B[49m\u001B[43m,\u001B[49m\u001B[43m \u001B[49m\u001B[38;5;241;43m*\u001B[39;49m\u001B[43mrv\u001B[49m\u001B[43m)\u001B[49m\n\u001B[0;32m    174\u001B[0m \u001B[38;5;66;03m# If is its own copy, don't memoize.\u001B[39;00m\n\u001B[0;32m    175\u001B[0m \u001B[38;5;28;01mif\u001B[39;00m y \u001B[38;5;129;01mis\u001B[39;00m \u001B[38;5;129;01mnot\u001B[39;00m x:\n",
      "File \u001B[1;32m~\\AppData\\Local\\Programs\\Python\\Python310\\lib\\copy.py:297\u001B[0m, in \u001B[0;36m_reconstruct\u001B[1;34m(x, memo, func, args, state, listiter, dictiter, deepcopy)\u001B[0m\n\u001B[0;32m    295\u001B[0m     \u001B[38;5;28;01mfor\u001B[39;00m key, value \u001B[38;5;129;01min\u001B[39;00m dictiter:\n\u001B[0;32m    296\u001B[0m         key \u001B[38;5;241m=\u001B[39m deepcopy(key, memo)\n\u001B[1;32m--> 297\u001B[0m         value \u001B[38;5;241m=\u001B[39m \u001B[43mdeepcopy\u001B[49m\u001B[43m(\u001B[49m\u001B[43mvalue\u001B[49m\u001B[43m,\u001B[49m\u001B[43m \u001B[49m\u001B[43mmemo\u001B[49m\u001B[43m)\u001B[49m\n\u001B[0;32m    298\u001B[0m         y[key] \u001B[38;5;241m=\u001B[39m value\n\u001B[0;32m    299\u001B[0m \u001B[38;5;28;01melse\u001B[39;00m:\n",
      "File \u001B[1;32m~\\AppData\\Local\\Programs\\Python\\Python310\\lib\\copy.py:172\u001B[0m, in \u001B[0;36mdeepcopy\u001B[1;34m(x, memo, _nil)\u001B[0m\n\u001B[0;32m    170\u001B[0m                 y \u001B[38;5;241m=\u001B[39m x\n\u001B[0;32m    171\u001B[0m             \u001B[38;5;28;01melse\u001B[39;00m:\n\u001B[1;32m--> 172\u001B[0m                 y \u001B[38;5;241m=\u001B[39m \u001B[43m_reconstruct\u001B[49m\u001B[43m(\u001B[49m\u001B[43mx\u001B[49m\u001B[43m,\u001B[49m\u001B[43m \u001B[49m\u001B[43mmemo\u001B[49m\u001B[43m,\u001B[49m\u001B[43m \u001B[49m\u001B[38;5;241;43m*\u001B[39;49m\u001B[43mrv\u001B[49m\u001B[43m)\u001B[49m\n\u001B[0;32m    174\u001B[0m \u001B[38;5;66;03m# If is its own copy, don't memoize.\u001B[39;00m\n\u001B[0;32m    175\u001B[0m \u001B[38;5;28;01mif\u001B[39;00m y \u001B[38;5;129;01mis\u001B[39;00m \u001B[38;5;129;01mnot\u001B[39;00m x:\n",
      "File \u001B[1;32m~\\AppData\\Local\\Programs\\Python\\Python310\\lib\\copy.py:271\u001B[0m, in \u001B[0;36m_reconstruct\u001B[1;34m(x, memo, func, args, state, listiter, dictiter, deepcopy)\u001B[0m\n\u001B[0;32m    269\u001B[0m \u001B[38;5;28;01mif\u001B[39;00m state \u001B[38;5;129;01mis\u001B[39;00m \u001B[38;5;129;01mnot\u001B[39;00m \u001B[38;5;28;01mNone\u001B[39;00m:\n\u001B[0;32m    270\u001B[0m     \u001B[38;5;28;01mif\u001B[39;00m deep:\n\u001B[1;32m--> 271\u001B[0m         state \u001B[38;5;241m=\u001B[39m \u001B[43mdeepcopy\u001B[49m\u001B[43m(\u001B[49m\u001B[43mstate\u001B[49m\u001B[43m,\u001B[49m\u001B[43m \u001B[49m\u001B[43mmemo\u001B[49m\u001B[43m)\u001B[49m\n\u001B[0;32m    272\u001B[0m     \u001B[38;5;28;01mif\u001B[39;00m \u001B[38;5;28mhasattr\u001B[39m(y, \u001B[38;5;124m'\u001B[39m\u001B[38;5;124m__setstate__\u001B[39m\u001B[38;5;124m'\u001B[39m):\n\u001B[0;32m    273\u001B[0m         y\u001B[38;5;241m.\u001B[39m__setstate__(state)\n",
      "File \u001B[1;32m~\\AppData\\Local\\Programs\\Python\\Python310\\lib\\copy.py:146\u001B[0m, in \u001B[0;36mdeepcopy\u001B[1;34m(x, memo, _nil)\u001B[0m\n\u001B[0;32m    144\u001B[0m copier \u001B[38;5;241m=\u001B[39m _deepcopy_dispatch\u001B[38;5;241m.\u001B[39mget(\u001B[38;5;28mcls\u001B[39m)\n\u001B[0;32m    145\u001B[0m \u001B[38;5;28;01mif\u001B[39;00m copier \u001B[38;5;129;01mis\u001B[39;00m \u001B[38;5;129;01mnot\u001B[39;00m \u001B[38;5;28;01mNone\u001B[39;00m:\n\u001B[1;32m--> 146\u001B[0m     y \u001B[38;5;241m=\u001B[39m \u001B[43mcopier\u001B[49m\u001B[43m(\u001B[49m\u001B[43mx\u001B[49m\u001B[43m,\u001B[49m\u001B[43m \u001B[49m\u001B[43mmemo\u001B[49m\u001B[43m)\u001B[49m\n\u001B[0;32m    147\u001B[0m \u001B[38;5;28;01melse\u001B[39;00m:\n\u001B[0;32m    148\u001B[0m     \u001B[38;5;28;01mif\u001B[39;00m \u001B[38;5;28missubclass\u001B[39m(\u001B[38;5;28mcls\u001B[39m, \u001B[38;5;28mtype\u001B[39m):\n",
      "File \u001B[1;32m~\\AppData\\Local\\Programs\\Python\\Python310\\lib\\copy.py:231\u001B[0m, in \u001B[0;36m_deepcopy_dict\u001B[1;34m(x, memo, deepcopy)\u001B[0m\n\u001B[0;32m    229\u001B[0m memo[\u001B[38;5;28mid\u001B[39m(x)] \u001B[38;5;241m=\u001B[39m y\n\u001B[0;32m    230\u001B[0m \u001B[38;5;28;01mfor\u001B[39;00m key, value \u001B[38;5;129;01min\u001B[39;00m x\u001B[38;5;241m.\u001B[39mitems():\n\u001B[1;32m--> 231\u001B[0m     y[deepcopy(key, memo)] \u001B[38;5;241m=\u001B[39m \u001B[43mdeepcopy\u001B[49m\u001B[43m(\u001B[49m\u001B[43mvalue\u001B[49m\u001B[43m,\u001B[49m\u001B[43m \u001B[49m\u001B[43mmemo\u001B[49m\u001B[43m)\u001B[49m\n\u001B[0;32m    232\u001B[0m \u001B[38;5;28;01mreturn\u001B[39;00m y\n",
      "File \u001B[1;32m~\\AppData\\Local\\Programs\\Python\\Python310\\lib\\copy.py:128\u001B[0m, in \u001B[0;36mdeepcopy\u001B[1;34m(x, memo, _nil)\u001B[0m\n\u001B[0;32m    124\u001B[0m     d[PyStringMap] \u001B[38;5;241m=\u001B[39m PyStringMap\u001B[38;5;241m.\u001B[39mcopy\n\u001B[0;32m    126\u001B[0m \u001B[38;5;28;01mdel\u001B[39;00m d, t\n\u001B[1;32m--> 128\u001B[0m \u001B[38;5;28;01mdef\u001B[39;00m \u001B[38;5;21mdeepcopy\u001B[39m(x, memo\u001B[38;5;241m=\u001B[39m\u001B[38;5;28;01mNone\u001B[39;00m, _nil\u001B[38;5;241m=\u001B[39m[]):\n\u001B[0;32m    129\u001B[0m \u001B[38;5;250m    \u001B[39m\u001B[38;5;124;03m\"\"\"Deep copy operation on arbitrary Python objects.\u001B[39;00m\n\u001B[0;32m    130\u001B[0m \n\u001B[0;32m    131\u001B[0m \u001B[38;5;124;03m    See the module's __doc__ string for more info.\u001B[39;00m\n\u001B[0;32m    132\u001B[0m \u001B[38;5;124;03m    \"\"\"\u001B[39;00m\n\u001B[0;32m    134\u001B[0m     \u001B[38;5;28;01mif\u001B[39;00m memo \u001B[38;5;129;01mis\u001B[39;00m \u001B[38;5;28;01mNone\u001B[39;00m:\n",
      "\u001B[1;31mKeyboardInterrupt\u001B[0m: "
     ]
    }
   ],
   "source": [
    "from sampo.base import SAMPO\n",
    "\n",
    "SAMPO.backend.cache_scheduler_info(wg, contractors)\n",
    "SAMPO.backend.cache_genetic_info()\n",
    "\n",
    "schedule = hybrid.schedule(wg, contractors)"
   ],
   "metadata": {
    "collapsed": false,
    "ExecuteTime": {
     "end_time": "2024-04-06T15:17:29.179438900Z",
     "start_time": "2024-04-06T14:56:19.246095400Z"
    }
   },
   "id": "f6660d32cf8ab626",
   "execution_count": 3
  },
  {
   "cell_type": "code",
   "outputs": [],
   "source": [
    "schedule.execution_time"
   ],
   "metadata": {
    "collapsed": false,
    "ExecuteTime": {
     "end_time": "2024-04-06T14:02:48.788028300Z",
     "start_time": "2024-04-06T14:02:48.783027500Z"
    }
   },
   "id": "b1b74a82acd50d54",
   "execution_count": null
  },
  {
   "cell_type": "code",
   "outputs": [],
   "source": [],
   "metadata": {
    "collapsed": false
   },
   "id": "5706ce1bc0b7fd04"
  }
 ],
 "metadata": {
  "kernelspec": {
   "display_name": "Python 3",
   "language": "python",
   "name": "python3"
  },
  "language_info": {
   "codemirror_mode": {
    "name": "ipython",
    "version": 2
   },
   "file_extension": ".py",
   "mimetype": "text/x-python",
   "name": "python",
   "nbconvert_exporter": "python",
   "pygments_lexer": "ipython2",
   "version": "2.7.6"
  }
 },
 "nbformat": 4,
 "nbformat_minor": 5
}
