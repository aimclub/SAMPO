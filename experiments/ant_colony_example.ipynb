{
 "cells": [
  {
   "cell_type": "code",
   "execution_count": null,
   "id": "92475a06-fedc-46d8-910b-590a85774281",
   "metadata": {},
   "outputs": [],
   "source": [
    "# general\n",
    "import numpy as np\n",
    "import json\n",
    "import plotly.graph_objects as go\n",
    "import plotly.express as px\n",
    "from time import perf_counter"
   ]
  },
  {
   "cell_type": "code",
   "execution_count": null,
   "id": "e5ec7dbe-74d6-4f5d-8410-8ec3943d8f3f",
   "metadata": {},
   "outputs": [],
   "source": [
    "# experimental swarm modules\n",
    "from swarm.ant_colony import AntColony\n",
    "from swarm.ant_pheromones import BinsPheromones\n",
    "from swarm.precedence import PrecedenceManager\n",
    "from swarm.evolution_history import EvolutionHistory\n",
    "\n",
    "from psplib.launcher import load_psplib_data, Launcher\n",
    "from psplib.launcher import get_dict_of_optimized_data_structures"
   ]
  },
  {
   "cell_type": "code",
   "execution_count": null,
   "id": "d189451b-ec6a-47d5-8224-d236d482ed7a",
   "metadata": {},
   "outputs": [],
   "source": []
  },
  {
   "cell_type": "markdown",
   "id": "ecab985a-58e5-40c8-bcde-5d402b3b8909",
   "metadata": {},
   "source": [
    "## Prepare data"
   ]
  },
  {
   "cell_type": "code",
   "execution_count": null,
   "id": "e9ecc850-98bb-4fec-b0a9-c0b4d56bb48f",
   "metadata": {},
   "outputs": [],
   "source": [
    "file_name = \"psplib/j120_json/j12016_6.json\"\n",
    "# loading data for the test\n",
    "wg, contractors, work_estimator = load_psplib_data(file_name)\n",
    "ods = get_dict_of_optimized_data_structures(wg, contractors)\n",
    "\n",
    "n_tasks = len(wg.nodes)\n",
    "# to get fitness metrics\n",
    "launcher = Launcher(wg, contractors, work_estimator, ods)\n",
    "# to convert to valid order\n",
    "precedence_manager = PrecedenceManager.from_workgraph(wg)"
   ]
  },
  {
   "cell_type": "code",
   "execution_count": null,
   "id": "4478dba6-791f-45b4-920c-d7d30fdab308",
   "metadata": {},
   "outputs": [],
   "source": [
    "# for now, define fitness here\n",
    "def fitness_function(priorities_array):\n",
    "    activity_list = precedence_manager(priorities_array)\n",
    "    makespan = launcher(activity_list)\n",
    "    return makespan"
   ]
  },
  {
   "cell_type": "code",
   "execution_count": null,
   "id": "4db31b9d-3fe4-4d23-aa47-e8326919471a",
   "metadata": {},
   "outputs": [],
   "source": []
  },
  {
   "cell_type": "markdown",
   "id": "5347add1-9738-4537-882d-928a169d99b4",
   "metadata": {},
   "source": [
    "## Create colony"
   ]
  },
  {
   "cell_type": "code",
   "execution_count": null,
   "id": "1169b30e-31f2-4110-a5da-1c4f11af92e8",
   "metadata": {},
   "outputs": [],
   "source": [
    "colony = AntColony(\n",
    "    fitness_function=fitness_function,\n",
    "    pheromones=BinsPheromones(\n",
    "        n_tasks=n_tasks, \n",
    "        n_bins=5, \n",
    "        start_amount=10,\n",
    "        evaporation_rate=0.20,\n",
    "        # reproducible results \n",
    "        random=np.random.default_rng(seed=0)\n",
    "    ),\n",
    "    history=EvolutionHistory()\n",
    ")"
   ]
  },
  {
   "cell_type": "code",
   "execution_count": null,
   "id": "086bb295-eac6-49da-bc7c-502630ecd37b",
   "metadata": {},
   "outputs": [],
   "source": []
  },
  {
   "cell_type": "markdown",
   "id": "044df226-b064-484a-abcd-5c3e04e35cf5",
   "metadata": {},
   "source": [
    "## Start the evolution"
   ]
  },
  {
   "cell_type": "code",
   "execution_count": null,
   "id": "d35707c1-4277-49a2-8d16-33217424f16f",
   "metadata": {
    "scrolled": true
   },
   "outputs": [],
   "source": [
    "# basic evolution\n",
    "# can be interrupted, progress will be saved in history\n",
    "# colony.simple_evolution(n_generations=150, n_per_generation=50)"
   ]
  },
  {
   "cell_type": "code",
   "execution_count": null,
   "id": "241d9014-51d6-4b80-8cbe-d62ff21ecaa3",
   "metadata": {},
   "outputs": [],
   "source": [
    "# \"expanding\" evolution\n",
    "for epoch in range(5):\n",
    "    colony.simple_evolution(n_generations=50, n_per_generation=25)\n",
    "    colony.pheromones.stretch(2)\n",
    "    colony.pheromones.evaporation_rate += 0.05\n",
    "    print(f\"{epoch=}\")"
   ]
  },
  {
   "cell_type": "code",
   "execution_count": null,
   "id": "420eb4b8-7edf-43c1-b022-48068501b705",
   "metadata": {},
   "outputs": [],
   "source": []
  },
  {
   "cell_type": "markdown",
   "id": "bc92ff91-522b-4bc0-bad3-03b290d30501",
   "metadata": {},
   "source": [
    "## Plot"
   ]
  },
  {
   "cell_type": "code",
   "execution_count": null,
   "id": "405e0749-f205-49ef-942a-d7f370aeb37f",
   "metadata": {},
   "outputs": [],
   "source": [
    "# info about evolution\n",
    "stats = colony.history.get_stats()\n",
    "\n",
    "# a super-simple baseline\n",
    "baseline = min(\n",
    "    fitness_function(np.arange(n_tasks)),\n",
    "    fitness_function(np.arange(n_tasks)[::-1])\n",
    "    # ... what else?\n",
    ")\n",
    "\n",
    "# for plotting, we need array with same length as others\n",
    "baseline_line = baseline * np.ones(stats[\"n_generations\"])\n",
    "best_result_line = stats[\"best_overall\"] * np.ones(stats[\"n_generations\"])"
   ]
  },
  {
   "cell_type": "code",
   "execution_count": null,
   "id": "a5179ac1-689c-4a2f-aa6f-38bbee0747d6",
   "metadata": {},
   "outputs": [],
   "source": []
  },
  {
   "cell_type": "code",
   "execution_count": null,
   "id": "95e96437-d74a-4ca4-82c7-22b2061d8c1f",
   "metadata": {},
   "outputs": [],
   "source": [
    "# plot the history of evolution\n",
    "fig = go.Figure([\n",
    "    go.Scatter(y=stats[\"generation_best\"], name=\"Gen Best\", line_color=\"navy\"),\n",
    "    go.Scatter(y=stats[\"generation_mean\"], name=\"Gen Mean\", line_color=\"green\"),\n",
    "    go.Scatter(y=stats[\"record_break\"], name=\"Record\", line_color=\"navy\", mode=\"markers\"),\n",
    "    \n",
    "    go.Scatter(y=baseline_line, name=\"Baseline\", line_color=\"lightgrey\"),\n",
    "    go.Scatter(y=best_result_line, name=\"Best Found\", line_color=\"navy\")\n",
    "])\n",
    "\n",
    "fig.update_layout(height=500, width=1000, template=\"plotly_white\")\n",
    "fig.update_layout(\n",
    "    xaxis_title=\"Generation\",                   \n",
    "    yaxis_title=\"Metric\"\n",
    ")\n",
    "fig.update_layout(legend=dict(\n",
    "    yanchor=\"middle\", y=0.40,\n",
    "    xanchor=\"center\", x=0.90\n",
    "))\n",
    "\n",
    "fig.show()\n",
    "# fig.write_html(\"logs/ant_evolution.html\")"
   ]
  },
  {
   "cell_type": "code",
   "execution_count": null,
   "id": "6c7cd9bb-4a39-44ab-99c9-320682d6795c",
   "metadata": {},
   "outputs": [],
   "source": [
    "fig = px.imshow(\n",
    "    colony.pheromones.bins_pheromones.T,\n",
    "    color_continuous_scale=[\"white\", \"blue\", \"darkblue\", \"black\"],\n",
    "    template=\"plotly_dark\"\n",
    ")\n",
    "fig.show()"
   ]
  },
  {
   "cell_type": "code",
   "execution_count": null,
   "id": "566433e4-9e89-437f-b2b9-39b9f42d64a6",
   "metadata": {},
   "outputs": [],
   "source": []
  },
  {
   "cell_type": "code",
   "execution_count": null,
   "id": "512d2614-165d-48e8-aaa7-ef11d1f483ad",
   "metadata": {},
   "outputs": [],
   "source": []
  },
  {
   "cell_type": "code",
   "execution_count": null,
   "id": "1d6f9795-ff31-42fb-ad21-d36b491af40f",
   "metadata": {},
   "outputs": [],
   "source": []
  },
  {
   "cell_type": "code",
   "execution_count": null,
   "id": "30806a66-bcd4-4acc-bf19-1c57e05d0b50",
   "metadata": {},
   "outputs": [],
   "source": []
  },
  {
   "cell_type": "markdown",
   "id": "4ec369fe-4233-4ced-863c-2903f290c5e0",
   "metadata": {},
   "source": [
    "## Testing integration"
   ]
  },
  {
   "cell_type": "code",
   "execution_count": null,
   "id": "1d2dad4b-f416-4d72-b29f-7413dbd7fca4",
   "metadata": {},
   "outputs": [],
   "source": [
    "from sampo.pipeline import SchedulingPipeline\n",
    "from sampo.schemas.time_estimator import DefaultWorkEstimator\n",
    "from sampo.scheduler.base import Scheduler\n",
    "from sampo.scheduler.resource.identity import IdentityResourceOptimizer"
   ]
  },
  {
   "cell_type": "code",
   "execution_count": null,
   "id": "16bfe1fc-4c8f-43da-902e-6f561aacfa6a",
   "metadata": {},
   "outputs": [],
   "source": []
  },
  {
   "cell_type": "code",
   "execution_count": null,
   "id": "de35aa75-43cd-478c-8d9b-df7dd1060749",
   "metadata": {},
   "outputs": [],
   "source": []
  },
  {
   "cell_type": "code",
   "execution_count": null,
   "id": "76675f14-7a3b-4947-b74d-3e9f4e925878",
   "metadata": {},
   "outputs": [],
   "source": [
    "class AntSheduler(Scheduler):\n",
    "\n",
    "    def __init__(self, resource_optimizer, work_estimator):\n",
    "        super().__init__(\n",
    "            scheduler_type=\"AntScheduler[Experimental]\",\n",
    "            resource_optimizer=resource_optimizer,\n",
    "            work_estimator=work_estimator\n",
    "        )\n",
    "    \n",
    "    def __str__(self):\n",
    "        return \"AntScheduler[Experimental]\"\n",
    "\n",
    "    def schedule_with_cache(self, wg, contractors, *args, **kwargs):\n",
    "        ods = get_dict_of_optimized_data_structures(wg, contractors)\n",
    "        \n",
    "        n_tasks = len(wg.nodes)\n",
    "        launcher = Launcher(wg, contractors, self.work_estimator, ods)\n",
    "        precedence_manager = PrecedenceManager.from_workgraph(wg)\n",
    "\n",
    "        def fitness_function(priorities_array):\n",
    "            activity_list = precedence_manager(priorities_array)\n",
    "            makespan = launcher(activity_list)\n",
    "            return makespan\n",
    "\n",
    "        colony = AntColony(\n",
    "            fitness_function=fitness_function,\n",
    "            pheromones=BinsPheromones(\n",
    "                n_tasks=n_tasks, \n",
    "                n_bins=5, \n",
    "                start_amount=10,\n",
    "                evaporation_rate=0.20,\n",
    "                # reproducible results \n",
    "                random=np.random.default_rng(seed=0)\n",
    "            ),\n",
    "            history=EvolutionHistory()\n",
    "        )\n",
    "        colony.simple_evolution(n_generations=10, n_per_generation=25)\n",
    "\n",
    "        best_solution = colony.history.best_solution\n",
    "        best_activity_list = precedence_manager(best_solution)\n",
    "        best_schedule = launcher.get_schedule(best_activity_list)\n",
    "        return [best_schedule]"
   ]
  },
  {
   "cell_type": "code",
   "execution_count": null,
   "id": "1765b05b-eb04-431d-9e60-36d8a80d4ccb",
   "metadata": {},
   "outputs": [],
   "source": [
    "wg, contractors, work_estimator = load_psplib_data(\"psplib/j120_json/j1206_1.json\")"
   ]
  },
  {
   "cell_type": "code",
   "execution_count": null,
   "id": "43df337d-e390-4010-94b1-483f38f3c823",
   "metadata": {},
   "outputs": [],
   "source": [
    "ant_sheduler = AntSheduler(\n",
    "    work_estimator=work_estimator,\n",
    "    resource_optimizer=IdentityResourceOptimizer()\n",
    ")"
   ]
  },
  {
   "cell_type": "code",
   "execution_count": null,
   "id": "c1c23f90-8439-4d54-ba69-c793529b9c76",
   "metadata": {},
   "outputs": [],
   "source": []
  },
  {
   "cell_type": "code",
   "execution_count": null,
   "id": "85b6dc72-b03a-459e-b2c9-b5dea65b5c89",
   "metadata": {},
   "outputs": [],
   "source": [
    "schedule = (\n",
    "    SchedulingPipeline\n",
    "    .create()\n",
    "    .wg(wg)\n",
    "    .contractors(contractors)\n",
    "    .schedule(ant_sheduler)\n",
    "    .finish()\n",
    ")[0]"
   ]
  },
  {
   "cell_type": "code",
   "execution_count": null,
   "id": "f750f34e-869d-40bc-9766-995833b99672",
   "metadata": {},
   "outputs": [],
   "source": []
  },
  {
   "cell_type": "markdown",
   "id": "df680077-a9ff-4ea5-8e2e-7894d7288dac",
   "metadata": {},
   "source": [
    "## Historical data"
   ]
  },
  {
   "cell_type": "code",
   "execution_count": null,
   "id": "72f7b46d-eb0c-4409-851b-681de508f503",
   "metadata": {},
   "outputs": [],
   "source": [
    "# df = pd.read_csv(\"data/electroline_full_connections.csv\")\n",
    "# work_estimator = DefaultWorkEstimator()\n",
    "# ant_sheduler = AntSheduler(\n",
    "#     work_estimator=work_estimator,\n",
    "#     resource_optimizer=IdentityResourceOptimizer()\n",
    "# )\n",
    "# schedule = (\n",
    "#     SchedulingPipeline\n",
    "#     .create()\n",
    "#     .wg(wg=df, all_connections=True, change_connections_info=False)\n",
    "#     # contractors should be set by .schedule\n",
    "#     .schedule(ant_sheduler)\n",
    "#     .finish()\n",
    "# )[0]"
   ]
  },
  {
   "cell_type": "code",
   "execution_count": null,
   "id": "f8fccaf2-ce59-4495-b42a-6808e36ad86f",
   "metadata": {},
   "outputs": [],
   "source": []
  },
  {
   "cell_type": "code",
   "execution_count": null,
   "id": "dbfe6e1f-95d3-4f77-aff7-5f7766c7cd58",
   "metadata": {},
   "outputs": [],
   "source": []
  },
  {
   "cell_type": "code",
   "execution_count": null,
   "id": "f39d466d-9b17-499f-8ccd-f14c28d1aa00",
   "metadata": {},
   "outputs": [],
   "source": []
  },
  {
   "cell_type": "code",
   "execution_count": null,
   "id": "70506c20-f458-4890-a2e4-60ca4802845a",
   "metadata": {},
   "outputs": [],
   "source": []
  },
  {
   "cell_type": "code",
   "execution_count": null,
   "id": "9b3b1c76-da01-4114-b018-a9096b262faa",
   "metadata": {},
   "outputs": [],
   "source": []
  },
  {
   "cell_type": "code",
   "execution_count": null,
   "id": "cf96a228-cb61-4365-b421-b9dd08f1c65d",
   "metadata": {},
   "outputs": [],
   "source": []
  }
 ],
 "metadata": {
  "kernelspec": {
   "display_name": "Python 3 (ipykernel)",
   "language": "python",
   "name": "python3"
  },
  "language_info": {
   "codemirror_mode": {
    "name": "ipython",
    "version": 3
   },
   "file_extension": ".py",
   "mimetype": "text/x-python",
   "name": "python",
   "nbconvert_exporter": "python",
   "pygments_lexer": "ipython3",
   "version": "3.12.7"
  }
 },
 "nbformat": 4,
 "nbformat_minor": 5
}
