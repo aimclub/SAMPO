{
 "cells": [
  {
   "cell_type": "code",
   "execution_count": 1,
   "metadata": {
    "collapsed": true,
    "ExecuteTime": {
     "end_time": "2025-07-23T10:04:12.609958100Z",
     "start_time": "2025-07-23T10:04:12.239711800Z"
    }
   },
   "outputs": [],
   "source": [
    "import matplotlib.pyplot as plt\n",
    "import numpy as np\n",
    "import pandas as pd"
   ]
  },
  {
   "cell_type": "code",
   "execution_count": 2,
   "outputs": [],
   "source": [
    "results = {size: pd.read_csv(f'experiment_results/psplib_experiment_{size}_results.csv', index_col='Unnamed: 0') for size in ['j30', 'j60', 'j90', 'j120']}"
   ],
   "metadata": {
    "collapsed": false,
    "ExecuteTime": {
     "end_time": "2025-07-23T10:04:12.641099600Z",
     "start_time": "2025-07-23T10:04:12.609958100Z"
    }
   }
  },
  {
   "cell_type": "code",
   "execution_count": 3,
   "outputs": [
    {
     "name": "stdout",
     "output_type": "stream",
     "text": [
      "j30: delta basic = 0.29, delta our = 0.27, enhancement = 6.9%\n",
      "j60: delta basic = 1.02, delta our = 0.92, enhancement = 9.8%\n",
      "j90: delta basic = 1.48, delta our = 1.31, enhancement = 11.49%\n",
      "j120: delta basic = 4.76, delta our = 4.06, enhancement = 14.71%\n"
     ]
    }
   ],
   "source": [
    "deltas = []\n",
    "\n",
    "for size, result in results.items():\n",
    "    result_basic = result[result['type'] == 'basic']\n",
    "    delta_basic = round(100 * float(np.average((result_basic['makespan'] - result_basic['true_val']) / result_basic['true_val'])), 2)\n",
    "    result_our = result[result['type'] == 'our']\n",
    "    delta_our = round(100 * float(np.average((result_our['makespan'] - result_our['true_val']) / result_our['true_val'])), 2)\n",
    "    enhancement = (delta_basic - delta_our) / delta_basic\n",
    "\n",
    "    deltas.append((size, delta_basic, delta_our, enhancement))\n",
    "\n",
    "    print(f'{size}: delta basic = {delta_basic}, delta our = {delta_our}, enhancement = {round(enhancement * 100, 2)}%')"
   ],
   "metadata": {
    "collapsed": false,
    "ExecuteTime": {
     "end_time": "2025-07-23T10:04:12.785100900Z",
     "start_time": "2025-07-23T10:04:12.752100100Z"
    }
   }
  },
  {
   "cell_type": "code",
   "execution_count": 5,
   "outputs": [],
   "source": [
    "pd.DataFrame.from_records(deltas, columns=['size', 'delta_basic', 'delta_our', 'enhancement']).to_csv('deltas.csv')"
   ],
   "metadata": {
    "collapsed": false
   }
  },
  {
   "cell_type": "code",
   "execution_count": null,
   "outputs": [],
   "source": [],
   "metadata": {
    "collapsed": false
   }
  }
 ],
 "metadata": {
  "kernelspec": {
   "display_name": "Python 3",
   "language": "python",
   "name": "python3"
  },
  "language_info": {
   "codemirror_mode": {
    "name": "ipython",
    "version": 2
   },
   "file_extension": ".py",
   "mimetype": "text/x-python",
   "name": "python",
   "nbconvert_exporter": "python",
   "pygments_lexer": "ipython2",
   "version": "2.7.6"
  }
 },
 "nbformat": 4,
 "nbformat_minor": 0
}
