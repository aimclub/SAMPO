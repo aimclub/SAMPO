{
 "cells": [
  {
   "cell_type": "code",
   "execution_count": 1,
   "metadata": {
    "collapsed": true,
    "ExecuteTime": {
     "end_time": "2025-07-31T17:53:37.979921Z",
     "start_time": "2025-07-31T17:53:37.636795Z"
    }
   },
   "outputs": [],
   "source": [
    "import matplotlib.pyplot as plt\n",
    "import numpy as np\n",
    "import pandas as pd"
   ]
  },
  {
   "cell_type": "code",
   "execution_count": 2,
   "outputs": [],
   "source": [
    "results = {size: pd.read_csv(f'experiment_results/psplib_experiment_{size}_results.csv', index_col='Unnamed: 0') for size in ['j30', 'j60', 'j90', 'j120']}\n",
    "lb_results = {size: pd.read_csv(f'experiment_results/psplib_lb_{size}.csv', index_col='Unnamed: 0') for size in ['j30', 'j60', 'j90', 'j120']}"
   ],
   "metadata": {
    "collapsed": false,
    "ExecuteTime": {
     "end_time": "2025-07-31T17:53:38.010919Z",
     "start_time": "2025-07-31T17:53:37.980151Z"
    }
   }
  },
  {
   "cell_type": "code",
   "execution_count": 3,
   "outputs": [
    {
     "name": "stdout",
     "output_type": "stream",
     "text": [
      "j30: delta basic = 13.8, delta our = 13.77, enhancement = 0.22%\n",
      "j60: delta basic = 11.57, delta our = 11.45, enhancement = 1.04%\n",
      "j90: delta basic = 11.25, delta our = 11.03, enhancement = 1.96%\n",
      "j120: delta basic = 38.07, delta our = 37.08, enhancement = 2.6%\n"
     ]
    }
   ],
   "source": [
    "deltas = []\n",
    "\n",
    "for (size, result), lb_result in zip(results.items(), lb_results.values()):\n",
    "    result_basic = result[result['type'] == 'basic']\n",
    "    delta_basic = round(100 * float(np.average((result_basic['makespan'].reset_index(drop=True) - lb_result['psplib_time'].reset_index(drop=True)) / lb_result['psplib_time'].reset_index(drop=True))), 2)\n",
    "    result_our = result[result['type'] == 'our']\n",
    "    delta_our = round(100 * float(np.average((result_our['makespan'].reset_index(drop=True) - lb_result['psplib_time'].reset_index(drop=True)) / lb_result['psplib_time'].reset_index(drop=True))), 2)\n",
    "    enhancement = (delta_basic - delta_our) / delta_basic\n",
    "\n",
    "    deltas.append((size, delta_basic, delta_our, enhancement))\n",
    "\n",
    "    print(f'{size}: delta basic = {delta_basic}, delta our = {delta_our}, enhancement = {round(enhancement * 100, 2)}%')"
   ],
   "metadata": {
    "collapsed": false,
    "ExecuteTime": {
     "end_time": "2025-07-31T17:53:38.636251900Z",
     "start_time": "2025-07-31T17:53:38.608557200Z"
    }
   }
  },
  {
   "cell_type": "code",
   "execution_count": 4,
   "outputs": [],
   "source": [
    "pd.DataFrame.from_records(deltas, columns=['size', 'delta_basic', 'delta_our', 'enhancement']).to_csv('deltas.csv')"
   ],
   "metadata": {
    "collapsed": false,
    "ExecuteTime": {
     "end_time": "2025-07-31T17:53:47.909097400Z",
     "start_time": "2025-07-31T17:53:47.900095600Z"
    }
   }
  },
  {
   "cell_type": "code",
   "execution_count": 5,
   "outputs": [
    {
     "data": {
      "text/plain": "      wg_size  wg_idx  attempt  psplib_time\n0         120       0        0           99\n1         120       1        0           86\n2         120       2        0           82\n3         120       3        0           79\n4         120       4        0           94\n...       ...     ...      ...          ...\n1825      120     178        9           76\n1826      120     179        9           84\n1827      120     180        9           88\n1828      120     181        9           81\n1829      120     182        9           72\n\n[1830 rows x 4 columns]",
      "text/html": "<div>\n<style scoped>\n    .dataframe tbody tr th:only-of-type {\n        vertical-align: middle;\n    }\n\n    .dataframe tbody tr th {\n        vertical-align: top;\n    }\n\n    .dataframe thead th {\n        text-align: right;\n    }\n</style>\n<table border=\"1\" class=\"dataframe\">\n  <thead>\n    <tr style=\"text-align: right;\">\n      <th></th>\n      <th>wg_size</th>\n      <th>wg_idx</th>\n      <th>attempt</th>\n      <th>psplib_time</th>\n    </tr>\n  </thead>\n  <tbody>\n    <tr>\n      <th>0</th>\n      <td>120</td>\n      <td>0</td>\n      <td>0</td>\n      <td>99</td>\n    </tr>\n    <tr>\n      <th>1</th>\n      <td>120</td>\n      <td>1</td>\n      <td>0</td>\n      <td>86</td>\n    </tr>\n    <tr>\n      <th>2</th>\n      <td>120</td>\n      <td>2</td>\n      <td>0</td>\n      <td>82</td>\n    </tr>\n    <tr>\n      <th>3</th>\n      <td>120</td>\n      <td>3</td>\n      <td>0</td>\n      <td>79</td>\n    </tr>\n    <tr>\n      <th>4</th>\n      <td>120</td>\n      <td>4</td>\n      <td>0</td>\n      <td>94</td>\n    </tr>\n    <tr>\n      <th>...</th>\n      <td>...</td>\n      <td>...</td>\n      <td>...</td>\n      <td>...</td>\n    </tr>\n    <tr>\n      <th>1825</th>\n      <td>120</td>\n      <td>178</td>\n      <td>9</td>\n      <td>76</td>\n    </tr>\n    <tr>\n      <th>1826</th>\n      <td>120</td>\n      <td>179</td>\n      <td>9</td>\n      <td>84</td>\n    </tr>\n    <tr>\n      <th>1827</th>\n      <td>120</td>\n      <td>180</td>\n      <td>9</td>\n      <td>88</td>\n    </tr>\n    <tr>\n      <th>1828</th>\n      <td>120</td>\n      <td>181</td>\n      <td>9</td>\n      <td>81</td>\n    </tr>\n    <tr>\n      <th>1829</th>\n      <td>120</td>\n      <td>182</td>\n      <td>9</td>\n      <td>72</td>\n    </tr>\n  </tbody>\n</table>\n<p>1830 rows × 4 columns</p>\n</div>"
     },
     "execution_count": 5,
     "metadata": {},
     "output_type": "execute_result"
    }
   ],
   "source": [
    "lb_result"
   ],
   "metadata": {
    "collapsed": false,
    "ExecuteTime": {
     "end_time": "2025-07-31T17:53:49.372410200Z",
     "start_time": "2025-07-31T17:53:49.355409800Z"
    }
   }
  },
  {
   "cell_type": "code",
   "execution_count": null,
   "outputs": [],
   "source": [],
   "metadata": {
    "collapsed": false
   }
  }
 ],
 "metadata": {
  "kernelspec": {
   "display_name": "Python 3",
   "language": "python",
   "name": "python3"
  },
  "language_info": {
   "codemirror_mode": {
    "name": "ipython",
    "version": 2
   },
   "file_extension": ".py",
   "mimetype": "text/x-python",
   "name": "python",
   "nbconvert_exporter": "python",
   "pygments_lexer": "ipython2",
   "version": "2.7.6"
  }
 },
 "nbformat": 4,
 "nbformat_minor": 0
}
